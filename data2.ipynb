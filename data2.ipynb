{
 "cells": [
  {
   "cell_type": "code",
   "execution_count": 33,
   "metadata": {},
   "outputs": [],
   "source": [
    "import pandas as pd\n",
    "import numpy as np\n",
    "import matplotlib.pyplot as plt\n",
    "import warnings\n",
    "import shap\n",
    "\n",
    "from sklearn.decomposition import PCA\n",
    "from sklearn.linear_model import LogisticRegression\n",
    "from sklearn.metrics import precision_score, recall_score, f1_score\n",
    "from sklearn.model_selection import train_test_split\n",
    "warnings.filterwarnings('ignore')"
   ]
  },
  {
   "cell_type": "code",
   "execution_count": 34,
   "metadata": {},
   "outputs": [],
   "source": [
    "def Drop_same_data(dataframe):\n",
    "    x0_same = dataframe[dataframe.duplicated(subset=['x0'], keep=False)]\n",
    "    x0_same_group = x0_same.groupby('x0').aggregate('mean')\n",
    "    x0_same_group = x0_same_group.reset_index()\n",
    "    x0_same_drop = dataframe.drop_duplicates(['x0'], keep=False)\n",
    "    x0_same_drop_mean = x0_same_drop.append(x0_same_group)\n",
    "    x0_same_drop_mean = x0_same_drop_mean.sort_values('x0').reset_index(drop=True)\n",
    "    return x0_same_drop_mean"
   ]
  },
  {
   "cell_type": "code",
   "execution_count": 35,
   "metadata": {},
   "outputs": [],
   "source": [
    "def change_state(dataframe):\n",
    "    df = dataframe.copy()\n",
    "    df.replace('normal', 0, inplace=True)\n",
    "    df.replace('abnormal', 1, inplace=True)\n",
    "    return df"
   ]
  },
  {
   "cell_type": "code",
   "execution_count": 36,
   "metadata": {},
   "outputs": [
    {
     "data": {
      "text/html": [
       "<div>\n",
       "<style scoped>\n",
       "    .dataframe tbody tr th:only-of-type {\n",
       "        vertical-align: middle;\n",
       "    }\n",
       "\n",
       "    .dataframe tbody tr th {\n",
       "        vertical-align: top;\n",
       "    }\n",
       "\n",
       "    .dataframe thead th {\n",
       "        text-align: right;\n",
       "    }\n",
       "</style>\n",
       "<table border=\"1\" class=\"dataframe\">\n",
       "  <thead>\n",
       "    <tr style=\"text-align: right;\">\n",
       "      <th></th>\n",
       "      <th>x0</th>\n",
       "      <th>x1</th>\n",
       "      <th>x2</th>\n",
       "      <th>x3</th>\n",
       "      <th>x4</th>\n",
       "      <th>x5</th>\n",
       "      <th>x6</th>\n",
       "      <th>x7</th>\n",
       "      <th>x8</th>\n",
       "      <th>x9</th>\n",
       "      <th>...</th>\n",
       "      <th>x17</th>\n",
       "      <th>x18</th>\n",
       "      <th>x19</th>\n",
       "      <th>x20</th>\n",
       "      <th>x21</th>\n",
       "      <th>x22</th>\n",
       "      <th>x23</th>\n",
       "      <th>x24</th>\n",
       "      <th>x25</th>\n",
       "      <th>x26</th>\n",
       "    </tr>\n",
       "  </thead>\n",
       "  <tbody>\n",
       "    <tr>\n",
       "      <th>0</th>\n",
       "      <td>2019-09-30 23:30:00</td>\n",
       "      <td>1.306385</td>\n",
       "      <td>1.129303</td>\n",
       "      <td>0.315782</td>\n",
       "      <td>-0.991891</td>\n",
       "      <td>-1.118571</td>\n",
       "      <td>0.785998</td>\n",
       "      <td>0.929383</td>\n",
       "      <td>1.389944</td>\n",
       "      <td>0.078944</td>\n",
       "      <td>...</td>\n",
       "      <td>1.297861</td>\n",
       "      <td>1.325133</td>\n",
       "      <td>1.301901</td>\n",
       "      <td>1.207628</td>\n",
       "      <td>1.236300</td>\n",
       "      <td>3</td>\n",
       "      <td>1.076502</td>\n",
       "      <td>0.909413</td>\n",
       "      <td>-0.417839</td>\n",
       "      <td>normal</td>\n",
       "    </tr>\n",
       "    <tr>\n",
       "      <th>1</th>\n",
       "      <td>2019-09-30 23:30:01</td>\n",
       "      <td>1.306385</td>\n",
       "      <td>1.129303</td>\n",
       "      <td>0.315782</td>\n",
       "      <td>-0.991891</td>\n",
       "      <td>-1.118571</td>\n",
       "      <td>0.785998</td>\n",
       "      <td>0.929383</td>\n",
       "      <td>1.389944</td>\n",
       "      <td>0.078944</td>\n",
       "      <td>...</td>\n",
       "      <td>1.297861</td>\n",
       "      <td>1.325133</td>\n",
       "      <td>1.301901</td>\n",
       "      <td>1.204801</td>\n",
       "      <td>1.239041</td>\n",
       "      <td>3</td>\n",
       "      <td>1.076502</td>\n",
       "      <td>0.909413</td>\n",
       "      <td>-0.417839</td>\n",
       "      <td>normal</td>\n",
       "    </tr>\n",
       "    <tr>\n",
       "      <th>2</th>\n",
       "      <td>2019-09-30 23:30:02</td>\n",
       "      <td>1.306385</td>\n",
       "      <td>1.129303</td>\n",
       "      <td>0.315782</td>\n",
       "      <td>-0.991891</td>\n",
       "      <td>-1.118571</td>\n",
       "      <td>0.785998</td>\n",
       "      <td>0.929383</td>\n",
       "      <td>1.389944</td>\n",
       "      <td>0.078944</td>\n",
       "      <td>...</td>\n",
       "      <td>1.297861</td>\n",
       "      <td>1.325133</td>\n",
       "      <td>1.301901</td>\n",
       "      <td>1.204801</td>\n",
       "      <td>1.239041</td>\n",
       "      <td>3</td>\n",
       "      <td>1.076502</td>\n",
       "      <td>0.909413</td>\n",
       "      <td>-0.417839</td>\n",
       "      <td>normal</td>\n",
       "    </tr>\n",
       "    <tr>\n",
       "      <th>3</th>\n",
       "      <td>2019-09-30 23:30:03</td>\n",
       "      <td>1.306385</td>\n",
       "      <td>1.129303</td>\n",
       "      <td>0.315782</td>\n",
       "      <td>-0.991891</td>\n",
       "      <td>-1.118571</td>\n",
       "      <td>0.785998</td>\n",
       "      <td>0.929383</td>\n",
       "      <td>1.389944</td>\n",
       "      <td>0.078944</td>\n",
       "      <td>...</td>\n",
       "      <td>1.297861</td>\n",
       "      <td>1.325133</td>\n",
       "      <td>1.301901</td>\n",
       "      <td>1.204801</td>\n",
       "      <td>1.239041</td>\n",
       "      <td>3</td>\n",
       "      <td>1.076502</td>\n",
       "      <td>0.909413</td>\n",
       "      <td>-0.417839</td>\n",
       "      <td>normal</td>\n",
       "    </tr>\n",
       "    <tr>\n",
       "      <th>4</th>\n",
       "      <td>2019-09-30 23:30:04</td>\n",
       "      <td>1.312998</td>\n",
       "      <td>1.129303</td>\n",
       "      <td>0.315782</td>\n",
       "      <td>-0.991891</td>\n",
       "      <td>-1.118571</td>\n",
       "      <td>0.785998</td>\n",
       "      <td>0.929383</td>\n",
       "      <td>1.389944</td>\n",
       "      <td>0.078944</td>\n",
       "      <td>...</td>\n",
       "      <td>1.297861</td>\n",
       "      <td>1.325133</td>\n",
       "      <td>1.301901</td>\n",
       "      <td>1.204801</td>\n",
       "      <td>1.239041</td>\n",
       "      <td>3</td>\n",
       "      <td>1.076502</td>\n",
       "      <td>0.909413</td>\n",
       "      <td>-0.417839</td>\n",
       "      <td>normal</td>\n",
       "    </tr>\n",
       "  </tbody>\n",
       "</table>\n",
       "<p>5 rows × 27 columns</p>\n",
       "</div>"
      ],
      "text/plain": [
       "                    x0        x1        x2        x3        x4        x5  \\\n",
       "0  2019-09-30 23:30:00  1.306385  1.129303  0.315782 -0.991891 -1.118571   \n",
       "1  2019-09-30 23:30:01  1.306385  1.129303  0.315782 -0.991891 -1.118571   \n",
       "2  2019-09-30 23:30:02  1.306385  1.129303  0.315782 -0.991891 -1.118571   \n",
       "3  2019-09-30 23:30:03  1.306385  1.129303  0.315782 -0.991891 -1.118571   \n",
       "4  2019-09-30 23:30:04  1.312998  1.129303  0.315782 -0.991891 -1.118571   \n",
       "\n",
       "         x6        x7        x8        x9  ...       x17       x18       x19  \\\n",
       "0  0.785998  0.929383  1.389944  0.078944  ...  1.297861  1.325133  1.301901   \n",
       "1  0.785998  0.929383  1.389944  0.078944  ...  1.297861  1.325133  1.301901   \n",
       "2  0.785998  0.929383  1.389944  0.078944  ...  1.297861  1.325133  1.301901   \n",
       "3  0.785998  0.929383  1.389944  0.078944  ...  1.297861  1.325133  1.301901   \n",
       "4  0.785998  0.929383  1.389944  0.078944  ...  1.297861  1.325133  1.301901   \n",
       "\n",
       "        x20       x21  x22       x23       x24       x25     x26  \n",
       "0  1.207628  1.236300    3  1.076502  0.909413 -0.417839  normal  \n",
       "1  1.204801  1.239041    3  1.076502  0.909413 -0.417839  normal  \n",
       "2  1.204801  1.239041    3  1.076502  0.909413 -0.417839  normal  \n",
       "3  1.204801  1.239041    3  1.076502  0.909413 -0.417839  normal  \n",
       "4  1.204801  1.239041    3  1.076502  0.909413 -0.417839  normal  \n",
       "\n",
       "[5 rows x 27 columns]"
      ]
     },
     "execution_count": 36,
     "metadata": {},
     "output_type": "execute_result"
    }
   ],
   "source": [
    "motor2 = pd.read_csv(\"C:/Users/creade/data_science/현대중공업_DT/DT/renewal_code/data/motor2.csv\")\n",
    "motor2.head()"
   ]
  },
  {
   "cell_type": "markdown",
   "metadata": {},
   "source": [
    "## 전처리"
   ]
  },
  {
   "cell_type": "code",
   "execution_count": 37,
   "metadata": {},
   "outputs": [],
   "source": [
    "motor2 = change_state(motor2)\n",
    "motor2 = Drop_same_data(motor2)\n",
    "motor2 = motor2.round(2)"
   ]
  },
  {
   "cell_type": "code",
   "execution_count": 38,
   "metadata": {},
   "outputs": [
    {
     "data": {
      "text/html": [
       "<div>\n",
       "<style scoped>\n",
       "    .dataframe tbody tr th:only-of-type {\n",
       "        vertical-align: middle;\n",
       "    }\n",
       "\n",
       "    .dataframe tbody tr th {\n",
       "        vertical-align: top;\n",
       "    }\n",
       "\n",
       "    .dataframe thead th {\n",
       "        text-align: right;\n",
       "    }\n",
       "</style>\n",
       "<table border=\"1\" class=\"dataframe\">\n",
       "  <thead>\n",
       "    <tr style=\"text-align: right;\">\n",
       "      <th></th>\n",
       "      <th>x0</th>\n",
       "      <th>x1</th>\n",
       "      <th>x2</th>\n",
       "      <th>x3</th>\n",
       "      <th>x4</th>\n",
       "      <th>x5</th>\n",
       "      <th>x6</th>\n",
       "      <th>x7</th>\n",
       "      <th>x8</th>\n",
       "      <th>x9</th>\n",
       "      <th>...</th>\n",
       "      <th>x17</th>\n",
       "      <th>x18</th>\n",
       "      <th>x19</th>\n",
       "      <th>x20</th>\n",
       "      <th>x21</th>\n",
       "      <th>x22</th>\n",
       "      <th>x23</th>\n",
       "      <th>x24</th>\n",
       "      <th>x25</th>\n",
       "      <th>x26</th>\n",
       "    </tr>\n",
       "  </thead>\n",
       "  <tbody>\n",
       "    <tr>\n",
       "      <th>0</th>\n",
       "      <td>2019-08-31 23:30:00</td>\n",
       "      <td>-0.81</td>\n",
       "      <td>-0.91</td>\n",
       "      <td>-0.87</td>\n",
       "      <td>-0.44</td>\n",
       "      <td>0.82</td>\n",
       "      <td>-1.14</td>\n",
       "      <td>-1.07</td>\n",
       "      <td>-0.72</td>\n",
       "      <td>-0.76</td>\n",
       "      <td>...</td>\n",
       "      <td>-0.81</td>\n",
       "      <td>-0.81</td>\n",
       "      <td>-0.8</td>\n",
       "      <td>-0.83</td>\n",
       "      <td>-0.83</td>\n",
       "      <td>2.0</td>\n",
       "      <td>-1.05</td>\n",
       "      <td>-1.09</td>\n",
       "      <td>-0.42</td>\n",
       "      <td>1.0</td>\n",
       "    </tr>\n",
       "    <tr>\n",
       "      <th>1</th>\n",
       "      <td>2019-08-31 23:30:01</td>\n",
       "      <td>-0.81</td>\n",
       "      <td>-0.91</td>\n",
       "      <td>-0.87</td>\n",
       "      <td>-0.44</td>\n",
       "      <td>0.82</td>\n",
       "      <td>-1.14</td>\n",
       "      <td>-1.07</td>\n",
       "      <td>-0.72</td>\n",
       "      <td>-0.76</td>\n",
       "      <td>...</td>\n",
       "      <td>-0.81</td>\n",
       "      <td>-0.81</td>\n",
       "      <td>-0.8</td>\n",
       "      <td>-0.83</td>\n",
       "      <td>-0.83</td>\n",
       "      <td>2.0</td>\n",
       "      <td>-1.05</td>\n",
       "      <td>-1.09</td>\n",
       "      <td>-0.42</td>\n",
       "      <td>1.0</td>\n",
       "    </tr>\n",
       "    <tr>\n",
       "      <th>2</th>\n",
       "      <td>2019-08-31 23:30:02</td>\n",
       "      <td>-0.81</td>\n",
       "      <td>-0.91</td>\n",
       "      <td>-0.87</td>\n",
       "      <td>-0.44</td>\n",
       "      <td>0.82</td>\n",
       "      <td>-1.14</td>\n",
       "      <td>-1.07</td>\n",
       "      <td>-0.72</td>\n",
       "      <td>-0.76</td>\n",
       "      <td>...</td>\n",
       "      <td>-0.81</td>\n",
       "      <td>-0.81</td>\n",
       "      <td>-0.8</td>\n",
       "      <td>-0.83</td>\n",
       "      <td>-0.83</td>\n",
       "      <td>2.0</td>\n",
       "      <td>-1.05</td>\n",
       "      <td>-1.09</td>\n",
       "      <td>-0.42</td>\n",
       "      <td>1.0</td>\n",
       "    </tr>\n",
       "    <tr>\n",
       "      <th>3</th>\n",
       "      <td>2019-08-31 23:30:03</td>\n",
       "      <td>-0.81</td>\n",
       "      <td>-0.91</td>\n",
       "      <td>-0.87</td>\n",
       "      <td>-0.44</td>\n",
       "      <td>0.82</td>\n",
       "      <td>-1.14</td>\n",
       "      <td>-1.07</td>\n",
       "      <td>-0.72</td>\n",
       "      <td>-0.76</td>\n",
       "      <td>...</td>\n",
       "      <td>-0.81</td>\n",
       "      <td>-0.81</td>\n",
       "      <td>-0.8</td>\n",
       "      <td>-0.83</td>\n",
       "      <td>-0.83</td>\n",
       "      <td>2.0</td>\n",
       "      <td>-1.04</td>\n",
       "      <td>-1.09</td>\n",
       "      <td>-0.42</td>\n",
       "      <td>1.0</td>\n",
       "    </tr>\n",
       "    <tr>\n",
       "      <th>4</th>\n",
       "      <td>2019-08-31 23:30:04</td>\n",
       "      <td>-0.81</td>\n",
       "      <td>-0.91</td>\n",
       "      <td>-0.87</td>\n",
       "      <td>-0.44</td>\n",
       "      <td>0.82</td>\n",
       "      <td>-1.14</td>\n",
       "      <td>-1.07</td>\n",
       "      <td>-0.72</td>\n",
       "      <td>-0.76</td>\n",
       "      <td>...</td>\n",
       "      <td>-0.81</td>\n",
       "      <td>-0.81</td>\n",
       "      <td>-0.8</td>\n",
       "      <td>-0.83</td>\n",
       "      <td>-0.83</td>\n",
       "      <td>2.0</td>\n",
       "      <td>-1.04</td>\n",
       "      <td>-1.09</td>\n",
       "      <td>-0.42</td>\n",
       "      <td>1.0</td>\n",
       "    </tr>\n",
       "  </tbody>\n",
       "</table>\n",
       "<p>5 rows × 27 columns</p>\n",
       "</div>"
      ],
      "text/plain": [
       "                    x0    x1    x2    x3    x4    x5    x6    x7    x8    x9  \\\n",
       "0  2019-08-31 23:30:00 -0.81 -0.91 -0.87 -0.44  0.82 -1.14 -1.07 -0.72 -0.76   \n",
       "1  2019-08-31 23:30:01 -0.81 -0.91 -0.87 -0.44  0.82 -1.14 -1.07 -0.72 -0.76   \n",
       "2  2019-08-31 23:30:02 -0.81 -0.91 -0.87 -0.44  0.82 -1.14 -1.07 -0.72 -0.76   \n",
       "3  2019-08-31 23:30:03 -0.81 -0.91 -0.87 -0.44  0.82 -1.14 -1.07 -0.72 -0.76   \n",
       "4  2019-08-31 23:30:04 -0.81 -0.91 -0.87 -0.44  0.82 -1.14 -1.07 -0.72 -0.76   \n",
       "\n",
       "   ...   x17   x18  x19   x20   x21  x22   x23   x24   x25  x26  \n",
       "0  ... -0.81 -0.81 -0.8 -0.83 -0.83  2.0 -1.05 -1.09 -0.42  1.0  \n",
       "1  ... -0.81 -0.81 -0.8 -0.83 -0.83  2.0 -1.05 -1.09 -0.42  1.0  \n",
       "2  ... -0.81 -0.81 -0.8 -0.83 -0.83  2.0 -1.05 -1.09 -0.42  1.0  \n",
       "3  ... -0.81 -0.81 -0.8 -0.83 -0.83  2.0 -1.04 -1.09 -0.42  1.0  \n",
       "4  ... -0.81 -0.81 -0.8 -0.83 -0.83  2.0 -1.04 -1.09 -0.42  1.0  \n",
       "\n",
       "[5 rows x 27 columns]"
      ]
     },
     "execution_count": 38,
     "metadata": {},
     "output_type": "execute_result"
    }
   ],
   "source": [
    "motor2.head()"
   ]
  },
  {
   "cell_type": "markdown",
   "metadata": {},
   "source": [
    "## PCA\n",
    "\n",
    "- System 2 - 1 : x11, x13\n",
    "- System 2 - 2 : x6, x7, x23\n",
    "- System 3 - 1 : x1, x11, x12, x19\n",
    "- System 3 - 2 : x3, x6"
   ]
  },
  {
   "cell_type": "markdown",
   "metadata": {},
   "source": [
    "### System 2 - 1"
   ]
  },
  {
   "cell_type": "code",
   "execution_count": 39,
   "metadata": {},
   "outputs": [
    {
     "name": "stdout",
     "output_type": "stream",
     "text": [
      "차원 축소 결과 평가 [0.99559131]\n"
     ]
    },
    {
     "data": {
      "text/html": [
       "<div>\n",
       "<style scoped>\n",
       "    .dataframe tbody tr th:only-of-type {\n",
       "        vertical-align: middle;\n",
       "    }\n",
       "\n",
       "    .dataframe tbody tr th {\n",
       "        vertical-align: top;\n",
       "    }\n",
       "\n",
       "    .dataframe thead th {\n",
       "        text-align: right;\n",
       "    }\n",
       "</style>\n",
       "<table border=\"1\" class=\"dataframe\">\n",
       "  <thead>\n",
       "    <tr style=\"text-align: right;\">\n",
       "      <th></th>\n",
       "      <th>System2_1 PCA</th>\n",
       "    </tr>\n",
       "  </thead>\n",
       "  <tbody>\n",
       "    <tr>\n",
       "      <th>0</th>\n",
       "      <td>-1.182250</td>\n",
       "    </tr>\n",
       "    <tr>\n",
       "      <th>1</th>\n",
       "      <td>-1.182250</td>\n",
       "    </tr>\n",
       "    <tr>\n",
       "      <th>2</th>\n",
       "      <td>-1.182250</td>\n",
       "    </tr>\n",
       "    <tr>\n",
       "      <th>3</th>\n",
       "      <td>-1.182250</td>\n",
       "    </tr>\n",
       "    <tr>\n",
       "      <th>4</th>\n",
       "      <td>-1.182250</td>\n",
       "    </tr>\n",
       "    <tr>\n",
       "      <th>...</th>\n",
       "      <td>...</td>\n",
       "    </tr>\n",
       "    <tr>\n",
       "      <th>4320572</th>\n",
       "      <td>-1.090217</td>\n",
       "    </tr>\n",
       "    <tr>\n",
       "      <th>4320573</th>\n",
       "      <td>-1.090217</td>\n",
       "    </tr>\n",
       "    <tr>\n",
       "      <th>4320574</th>\n",
       "      <td>-1.090217</td>\n",
       "    </tr>\n",
       "    <tr>\n",
       "      <th>4320575</th>\n",
       "      <td>-1.090217</td>\n",
       "    </tr>\n",
       "    <tr>\n",
       "      <th>4320576</th>\n",
       "      <td>-1.090217</td>\n",
       "    </tr>\n",
       "  </tbody>\n",
       "</table>\n",
       "<p>4320577 rows × 1 columns</p>\n",
       "</div>"
      ],
      "text/plain": [
       "         System2_1 PCA\n",
       "0            -1.182250\n",
       "1            -1.182250\n",
       "2            -1.182250\n",
       "3            -1.182250\n",
       "4            -1.182250\n",
       "...                ...\n",
       "4320572      -1.090217\n",
       "4320573      -1.090217\n",
       "4320574      -1.090217\n",
       "4320575      -1.090217\n",
       "4320576      -1.090217\n",
       "\n",
       "[4320577 rows x 1 columns]"
      ]
     },
     "execution_count": 39,
     "metadata": {},
     "output_type": "execute_result"
    }
   ],
   "source": [
    "System2_1_col = ['x11', 'x13']\n",
    "System2_1_pca_df = motor2[System2_1_col]\n",
    "\n",
    "System2_1_pca = PCA(n_components=1)\n",
    "System2_1_pca.fit(System2_1_pca_df)\n",
    "System2_1_pca_result = System2_1_pca.transform(System2_1_pca_df)\n",
    "\n",
    "# 차원 축소 결과\n",
    "print('차원 축소 결과 평가', System2_1_pca.explained_variance_ratio_)\n",
    "\n",
    "# DataFrame으로 변환\n",
    "System2_1_pca_result_df = pd.DataFrame(System2_1_pca_result, columns=['System2_1 PCA'])\n",
    "System2_1_pca_result_df"
   ]
  },
  {
   "cell_type": "markdown",
   "metadata": {},
   "source": [
    "## System 2-2"
   ]
  },
  {
   "cell_type": "code",
   "execution_count": 40,
   "metadata": {},
   "outputs": [
    {
     "name": "stdout",
     "output_type": "stream",
     "text": [
      "차원 축소 결과 평가 [0.92974586]\n"
     ]
    },
    {
     "data": {
      "text/html": [
       "<div>\n",
       "<style scoped>\n",
       "    .dataframe tbody tr th:only-of-type {\n",
       "        vertical-align: middle;\n",
       "    }\n",
       "\n",
       "    .dataframe tbody tr th {\n",
       "        vertical-align: top;\n",
       "    }\n",
       "\n",
       "    .dataframe thead th {\n",
       "        text-align: right;\n",
       "    }\n",
       "</style>\n",
       "<table border=\"1\" class=\"dataframe\">\n",
       "  <thead>\n",
       "    <tr style=\"text-align: right;\">\n",
       "      <th></th>\n",
       "      <th>System2_2 PCA</th>\n",
       "    </tr>\n",
       "  </thead>\n",
       "  <tbody>\n",
       "    <tr>\n",
       "      <th>0</th>\n",
       "      <td>-1.536911</td>\n",
       "    </tr>\n",
       "    <tr>\n",
       "      <th>1</th>\n",
       "      <td>-1.536911</td>\n",
       "    </tr>\n",
       "    <tr>\n",
       "      <th>2</th>\n",
       "      <td>-1.536911</td>\n",
       "    </tr>\n",
       "    <tr>\n",
       "      <th>3</th>\n",
       "      <td>-1.531365</td>\n",
       "    </tr>\n",
       "    <tr>\n",
       "      <th>4</th>\n",
       "      <td>-1.531365</td>\n",
       "    </tr>\n",
       "    <tr>\n",
       "      <th>...</th>\n",
       "      <td>...</td>\n",
       "    </tr>\n",
       "    <tr>\n",
       "      <th>4320572</th>\n",
       "      <td>-0.738343</td>\n",
       "    </tr>\n",
       "    <tr>\n",
       "      <th>4320573</th>\n",
       "      <td>-0.732798</td>\n",
       "    </tr>\n",
       "    <tr>\n",
       "      <th>4320574</th>\n",
       "      <td>-0.732798</td>\n",
       "    </tr>\n",
       "    <tr>\n",
       "      <th>4320575</th>\n",
       "      <td>-0.732798</td>\n",
       "    </tr>\n",
       "    <tr>\n",
       "      <th>4320576</th>\n",
       "      <td>-0.732798</td>\n",
       "    </tr>\n",
       "  </tbody>\n",
       "</table>\n",
       "<p>4320577 rows × 1 columns</p>\n",
       "</div>"
      ],
      "text/plain": [
       "         System2_2 PCA\n",
       "0            -1.536911\n",
       "1            -1.536911\n",
       "2            -1.536911\n",
       "3            -1.531365\n",
       "4            -1.531365\n",
       "...                ...\n",
       "4320572      -0.738343\n",
       "4320573      -0.732798\n",
       "4320574      -0.732798\n",
       "4320575      -0.732798\n",
       "4320576      -0.732798\n",
       "\n",
       "[4320577 rows x 1 columns]"
      ]
     },
     "execution_count": 40,
     "metadata": {},
     "output_type": "execute_result"
    }
   ],
   "source": [
    "System2_2_col = ['x1', 'x11', \"x23\"]\n",
    "System2_2_pca_df = motor2[System2_2_col]\n",
    "\n",
    "System2_2_pca = PCA(n_components=1)\n",
    "System2_2_pca.fit(System2_2_pca_df)\n",
    "System2_2_pca_result = System2_2_pca.transform(System2_2_pca_df)\n",
    "\n",
    "# 차원 축소 결과\n",
    "print('차원 축소 결과 평가', System2_2_pca.explained_variance_ratio_)\n",
    "\n",
    "# DataFrame으로 변환\n",
    "System2_2_pca_result_df = pd.DataFrame(System2_2_pca_result, columns=['System2_2 PCA'])\n",
    "System2_2_pca_result_df"
   ]
  },
  {
   "cell_type": "markdown",
   "metadata": {},
   "source": [
    "### System 3-1"
   ]
  },
  {
   "cell_type": "code",
   "execution_count": 41,
   "metadata": {},
   "outputs": [
    {
     "name": "stdout",
     "output_type": "stream",
     "text": [
      "차원 축소 결과 평가 [0.92020439]\n"
     ]
    },
    {
     "data": {
      "text/html": [
       "<div>\n",
       "<style scoped>\n",
       "    .dataframe tbody tr th:only-of-type {\n",
       "        vertical-align: middle;\n",
       "    }\n",
       "\n",
       "    .dataframe tbody tr th {\n",
       "        vertical-align: top;\n",
       "    }\n",
       "\n",
       "    .dataframe thead th {\n",
       "        text-align: right;\n",
       "    }\n",
       "</style>\n",
       "<table border=\"1\" class=\"dataframe\">\n",
       "  <thead>\n",
       "    <tr style=\"text-align: right;\">\n",
       "      <th></th>\n",
       "      <th>System3_1 PCA</th>\n",
       "    </tr>\n",
       "  </thead>\n",
       "  <tbody>\n",
       "    <tr>\n",
       "      <th>0</th>\n",
       "      <td>-1.913168</td>\n",
       "    </tr>\n",
       "    <tr>\n",
       "      <th>1</th>\n",
       "      <td>-1.913168</td>\n",
       "    </tr>\n",
       "    <tr>\n",
       "      <th>2</th>\n",
       "      <td>-1.913168</td>\n",
       "    </tr>\n",
       "    <tr>\n",
       "      <th>3</th>\n",
       "      <td>-1.913168</td>\n",
       "    </tr>\n",
       "    <tr>\n",
       "      <th>4</th>\n",
       "      <td>-1.913168</td>\n",
       "    </tr>\n",
       "    <tr>\n",
       "      <th>...</th>\n",
       "      <td>...</td>\n",
       "    </tr>\n",
       "    <tr>\n",
       "      <th>4320572</th>\n",
       "      <td>-0.418421</td>\n",
       "    </tr>\n",
       "    <tr>\n",
       "      <th>4320573</th>\n",
       "      <td>-0.418421</td>\n",
       "    </tr>\n",
       "    <tr>\n",
       "      <th>4320574</th>\n",
       "      <td>-0.418421</td>\n",
       "    </tr>\n",
       "    <tr>\n",
       "      <th>4320575</th>\n",
       "      <td>-0.418421</td>\n",
       "    </tr>\n",
       "    <tr>\n",
       "      <th>4320576</th>\n",
       "      <td>-0.418421</td>\n",
       "    </tr>\n",
       "  </tbody>\n",
       "</table>\n",
       "<p>4320577 rows × 1 columns</p>\n",
       "</div>"
      ],
      "text/plain": [
       "         System3_1 PCA\n",
       "0            -1.913168\n",
       "1            -1.913168\n",
       "2            -1.913168\n",
       "3            -1.913168\n",
       "4            -1.913168\n",
       "...                ...\n",
       "4320572      -0.418421\n",
       "4320573      -0.418421\n",
       "4320574      -0.418421\n",
       "4320575      -0.418421\n",
       "4320576      -0.418421\n",
       "\n",
       "[4320577 rows x 1 columns]"
      ]
     },
     "execution_count": 41,
     "metadata": {},
     "output_type": "execute_result"
    }
   ],
   "source": [
    "System3_1_col = ['x6', 'x7', \"x12\", \"x19\"]\n",
    "System3_1_pca_df = motor2[System3_1_col]\n",
    "\n",
    "System3_1_pca = PCA(n_components=1)\n",
    "System3_1_pca.fit(System3_1_pca_df)\n",
    "System3_1_pca_result = System3_1_pca.transform(System3_1_pca_df)\n",
    "\n",
    "# 차원 축소 결과\n",
    "print('차원 축소 결과 평가', System3_1_pca.explained_variance_ratio_)\n",
    "\n",
    "# DataFrame으로 변환\n",
    "System3_1_pca_result_df = pd.DataFrame(System3_1_pca_result, columns=['System3_1 PCA'])\n",
    "System3_1_pca_result_df"
   ]
  },
  {
   "cell_type": "markdown",
   "metadata": {},
   "source": [
    "### System 3-2"
   ]
  },
  {
   "cell_type": "code",
   "execution_count": 42,
   "metadata": {},
   "outputs": [
    {
     "name": "stdout",
     "output_type": "stream",
     "text": [
      "차원 축소 결과 평가 [0.85962336]\n"
     ]
    },
    {
     "data": {
      "text/html": [
       "<div>\n",
       "<style scoped>\n",
       "    .dataframe tbody tr th:only-of-type {\n",
       "        vertical-align: middle;\n",
       "    }\n",
       "\n",
       "    .dataframe tbody tr th {\n",
       "        vertical-align: top;\n",
       "    }\n",
       "\n",
       "    .dataframe thead th {\n",
       "        text-align: right;\n",
       "    }\n",
       "</style>\n",
       "<table border=\"1\" class=\"dataframe\">\n",
       "  <thead>\n",
       "    <tr style=\"text-align: right;\">\n",
       "      <th></th>\n",
       "      <th>System3_2 PCA</th>\n",
       "    </tr>\n",
       "  </thead>\n",
       "  <tbody>\n",
       "    <tr>\n",
       "      <th>0</th>\n",
       "      <td>1.422883</td>\n",
       "    </tr>\n",
       "    <tr>\n",
       "      <th>1</th>\n",
       "      <td>1.422883</td>\n",
       "    </tr>\n",
       "    <tr>\n",
       "      <th>2</th>\n",
       "      <td>1.422883</td>\n",
       "    </tr>\n",
       "    <tr>\n",
       "      <th>3</th>\n",
       "      <td>1.422883</td>\n",
       "    </tr>\n",
       "    <tr>\n",
       "      <th>4</th>\n",
       "      <td>1.422883</td>\n",
       "    </tr>\n",
       "    <tr>\n",
       "      <th>...</th>\n",
       "      <td>...</td>\n",
       "    </tr>\n",
       "    <tr>\n",
       "      <th>4320572</th>\n",
       "      <td>-1.630776</td>\n",
       "    </tr>\n",
       "    <tr>\n",
       "      <th>4320573</th>\n",
       "      <td>-1.729616</td>\n",
       "    </tr>\n",
       "    <tr>\n",
       "      <th>4320574</th>\n",
       "      <td>-1.729616</td>\n",
       "    </tr>\n",
       "    <tr>\n",
       "      <th>4320575</th>\n",
       "      <td>-1.729616</td>\n",
       "    </tr>\n",
       "    <tr>\n",
       "      <th>4320576</th>\n",
       "      <td>-1.729616</td>\n",
       "    </tr>\n",
       "  </tbody>\n",
       "</table>\n",
       "<p>4320577 rows × 1 columns</p>\n",
       "</div>"
      ],
      "text/plain": [
       "         System3_2 PCA\n",
       "0             1.422883\n",
       "1             1.422883\n",
       "2             1.422883\n",
       "3             1.422883\n",
       "4             1.422883\n",
       "...                ...\n",
       "4320572      -1.630776\n",
       "4320573      -1.729616\n",
       "4320574      -1.729616\n",
       "4320575      -1.729616\n",
       "4320576      -1.729616\n",
       "\n",
       "[4320577 rows x 1 columns]"
      ]
     },
     "execution_count": 42,
     "metadata": {},
     "output_type": "execute_result"
    }
   ],
   "source": [
    "System3_2_col = ['x3', 'x6']\n",
    "System3_2_pca_df = motor2[System3_2_col]\n",
    "\n",
    "System3_2_pca = PCA(n_components=1)\n",
    "System3_2_pca.fit(System3_2_pca_df)\n",
    "System3_2_pca_result = System3_2_pca.transform(System3_2_pca_df)\n",
    "\n",
    "# 차원 축소 결과\n",
    "print('차원 축소 결과 평가', System3_2_pca.explained_variance_ratio_)\n",
    "\n",
    "# DataFrame으로 변환\n",
    "System3_2_pca_result_df = pd.DataFrame(System3_2_pca_result, columns=['System3_2 PCA'])\n",
    "System3_2_pca_result_df"
   ]
  },
  {
   "cell_type": "markdown",
   "metadata": {},
   "source": [
    "## 최종 데이터 정리"
   ]
  },
  {
   "cell_type": "code",
   "execution_count": 43,
   "metadata": {},
   "outputs": [
    {
     "data": {
      "text/html": [
       "<div>\n",
       "<style scoped>\n",
       "    .dataframe tbody tr th:only-of-type {\n",
       "        vertical-align: middle;\n",
       "    }\n",
       "\n",
       "    .dataframe tbody tr th {\n",
       "        vertical-align: top;\n",
       "    }\n",
       "\n",
       "    .dataframe thead th {\n",
       "        text-align: right;\n",
       "    }\n",
       "</style>\n",
       "<table border=\"1\" class=\"dataframe\">\n",
       "  <thead>\n",
       "    <tr style=\"text-align: right;\">\n",
       "      <th></th>\n",
       "      <th>x4</th>\n",
       "      <th>x8</th>\n",
       "      <th>x9</th>\n",
       "      <th>x10</th>\n",
       "      <th>x12</th>\n",
       "      <th>x13</th>\n",
       "      <th>x15</th>\n",
       "      <th>x21</th>\n",
       "      <th>x24</th>\n",
       "      <th>System2_1 PCA</th>\n",
       "      <th>System2_2 PCA</th>\n",
       "      <th>System3_1 PCA</th>\n",
       "      <th>System3_2 PCA</th>\n",
       "      <th>x26</th>\n",
       "    </tr>\n",
       "  </thead>\n",
       "  <tbody>\n",
       "    <tr>\n",
       "      <th>0</th>\n",
       "      <td>-0.44</td>\n",
       "      <td>-0.72</td>\n",
       "      <td>-0.76</td>\n",
       "      <td>-1.07</td>\n",
       "      <td>-0.82</td>\n",
       "      <td>-0.86</td>\n",
       "      <td>-1.03</td>\n",
       "      <td>-0.83</td>\n",
       "      <td>-1.09</td>\n",
       "      <td>-1.182250</td>\n",
       "      <td>-1.536911</td>\n",
       "      <td>-1.913168</td>\n",
       "      <td>1.422883</td>\n",
       "      <td>1.0</td>\n",
       "    </tr>\n",
       "    <tr>\n",
       "      <th>1</th>\n",
       "      <td>-0.44</td>\n",
       "      <td>-0.72</td>\n",
       "      <td>-0.76</td>\n",
       "      <td>-0.92</td>\n",
       "      <td>-0.82</td>\n",
       "      <td>-0.86</td>\n",
       "      <td>-1.03</td>\n",
       "      <td>-0.83</td>\n",
       "      <td>-1.09</td>\n",
       "      <td>-1.182250</td>\n",
       "      <td>-1.536911</td>\n",
       "      <td>-1.913168</td>\n",
       "      <td>1.422883</td>\n",
       "      <td>1.0</td>\n",
       "    </tr>\n",
       "    <tr>\n",
       "      <th>2</th>\n",
       "      <td>-0.44</td>\n",
       "      <td>-0.72</td>\n",
       "      <td>-0.76</td>\n",
       "      <td>-0.92</td>\n",
       "      <td>-0.82</td>\n",
       "      <td>-0.86</td>\n",
       "      <td>-1.03</td>\n",
       "      <td>-0.83</td>\n",
       "      <td>-1.09</td>\n",
       "      <td>-1.182250</td>\n",
       "      <td>-1.536911</td>\n",
       "      <td>-1.913168</td>\n",
       "      <td>1.422883</td>\n",
       "      <td>1.0</td>\n",
       "    </tr>\n",
       "    <tr>\n",
       "      <th>3</th>\n",
       "      <td>-0.44</td>\n",
       "      <td>-0.72</td>\n",
       "      <td>-0.76</td>\n",
       "      <td>-1.07</td>\n",
       "      <td>-0.82</td>\n",
       "      <td>-0.86</td>\n",
       "      <td>-1.03</td>\n",
       "      <td>-0.83</td>\n",
       "      <td>-1.09</td>\n",
       "      <td>-1.182250</td>\n",
       "      <td>-1.531365</td>\n",
       "      <td>-1.913168</td>\n",
       "      <td>1.422883</td>\n",
       "      <td>1.0</td>\n",
       "    </tr>\n",
       "    <tr>\n",
       "      <th>4</th>\n",
       "      <td>-0.44</td>\n",
       "      <td>-0.72</td>\n",
       "      <td>-0.76</td>\n",
       "      <td>-1.07</td>\n",
       "      <td>-0.82</td>\n",
       "      <td>-0.86</td>\n",
       "      <td>-1.03</td>\n",
       "      <td>-0.83</td>\n",
       "      <td>-1.09</td>\n",
       "      <td>-1.182250</td>\n",
       "      <td>-1.531365</td>\n",
       "      <td>-1.913168</td>\n",
       "      <td>1.422883</td>\n",
       "      <td>1.0</td>\n",
       "    </tr>\n",
       "    <tr>\n",
       "      <th>...</th>\n",
       "      <td>...</td>\n",
       "      <td>...</td>\n",
       "      <td>...</td>\n",
       "      <td>...</td>\n",
       "      <td>...</td>\n",
       "      <td>...</td>\n",
       "      <td>...</td>\n",
       "      <td>...</td>\n",
       "      <td>...</td>\n",
       "      <td>...</td>\n",
       "      <td>...</td>\n",
       "      <td>...</td>\n",
       "      <td>...</td>\n",
       "      <td>...</td>\n",
       "    </tr>\n",
       "    <tr>\n",
       "      <th>4320572</th>\n",
       "      <td>2.66</td>\n",
       "      <td>-0.72</td>\n",
       "      <td>1.90</td>\n",
       "      <td>1.41</td>\n",
       "      <td>-0.82</td>\n",
       "      <td>-0.73</td>\n",
       "      <td>0.36</td>\n",
       "      <td>-0.83</td>\n",
       "      <td>-0.77</td>\n",
       "      <td>-1.090217</td>\n",
       "      <td>-0.738343</td>\n",
       "      <td>-0.418421</td>\n",
       "      <td>-1.630776</td>\n",
       "      <td>0.0</td>\n",
       "    </tr>\n",
       "    <tr>\n",
       "      <th>4320573</th>\n",
       "      <td>2.66</td>\n",
       "      <td>-0.72</td>\n",
       "      <td>1.90</td>\n",
       "      <td>1.41</td>\n",
       "      <td>-0.82</td>\n",
       "      <td>-0.73</td>\n",
       "      <td>0.36</td>\n",
       "      <td>-0.83</td>\n",
       "      <td>-0.77</td>\n",
       "      <td>-1.090217</td>\n",
       "      <td>-0.732798</td>\n",
       "      <td>-0.418421</td>\n",
       "      <td>-1.729616</td>\n",
       "      <td>0.0</td>\n",
       "    </tr>\n",
       "    <tr>\n",
       "      <th>4320574</th>\n",
       "      <td>2.66</td>\n",
       "      <td>-0.72</td>\n",
       "      <td>1.90</td>\n",
       "      <td>1.41</td>\n",
       "      <td>-0.82</td>\n",
       "      <td>-0.73</td>\n",
       "      <td>0.36</td>\n",
       "      <td>-0.83</td>\n",
       "      <td>-0.77</td>\n",
       "      <td>-1.090217</td>\n",
       "      <td>-0.732798</td>\n",
       "      <td>-0.418421</td>\n",
       "      <td>-1.729616</td>\n",
       "      <td>0.0</td>\n",
       "    </tr>\n",
       "    <tr>\n",
       "      <th>4320575</th>\n",
       "      <td>2.66</td>\n",
       "      <td>-0.72</td>\n",
       "      <td>1.90</td>\n",
       "      <td>1.41</td>\n",
       "      <td>-0.82</td>\n",
       "      <td>-0.73</td>\n",
       "      <td>0.36</td>\n",
       "      <td>-0.83</td>\n",
       "      <td>-0.77</td>\n",
       "      <td>-1.090217</td>\n",
       "      <td>-0.732798</td>\n",
       "      <td>-0.418421</td>\n",
       "      <td>-1.729616</td>\n",
       "      <td>0.0</td>\n",
       "    </tr>\n",
       "    <tr>\n",
       "      <th>4320576</th>\n",
       "      <td>2.66</td>\n",
       "      <td>-0.72</td>\n",
       "      <td>1.90</td>\n",
       "      <td>1.41</td>\n",
       "      <td>-0.82</td>\n",
       "      <td>-0.73</td>\n",
       "      <td>0.36</td>\n",
       "      <td>-0.83</td>\n",
       "      <td>-0.77</td>\n",
       "      <td>-1.090217</td>\n",
       "      <td>-0.732798</td>\n",
       "      <td>-0.418421</td>\n",
       "      <td>-1.729616</td>\n",
       "      <td>0.0</td>\n",
       "    </tr>\n",
       "  </tbody>\n",
       "</table>\n",
       "<p>4320577 rows × 14 columns</p>\n",
       "</div>"
      ],
      "text/plain": [
       "           x4    x8    x9   x10   x12   x13   x15   x21   x24  System2_1 PCA  \\\n",
       "0       -0.44 -0.72 -0.76 -1.07 -0.82 -0.86 -1.03 -0.83 -1.09      -1.182250   \n",
       "1       -0.44 -0.72 -0.76 -0.92 -0.82 -0.86 -1.03 -0.83 -1.09      -1.182250   \n",
       "2       -0.44 -0.72 -0.76 -0.92 -0.82 -0.86 -1.03 -0.83 -1.09      -1.182250   \n",
       "3       -0.44 -0.72 -0.76 -1.07 -0.82 -0.86 -1.03 -0.83 -1.09      -1.182250   \n",
       "4       -0.44 -0.72 -0.76 -1.07 -0.82 -0.86 -1.03 -0.83 -1.09      -1.182250   \n",
       "...       ...   ...   ...   ...   ...   ...   ...   ...   ...            ...   \n",
       "4320572  2.66 -0.72  1.90  1.41 -0.82 -0.73  0.36 -0.83 -0.77      -1.090217   \n",
       "4320573  2.66 -0.72  1.90  1.41 -0.82 -0.73  0.36 -0.83 -0.77      -1.090217   \n",
       "4320574  2.66 -0.72  1.90  1.41 -0.82 -0.73  0.36 -0.83 -0.77      -1.090217   \n",
       "4320575  2.66 -0.72  1.90  1.41 -0.82 -0.73  0.36 -0.83 -0.77      -1.090217   \n",
       "4320576  2.66 -0.72  1.90  1.41 -0.82 -0.73  0.36 -0.83 -0.77      -1.090217   \n",
       "\n",
       "         System2_2 PCA  System3_1 PCA  System3_2 PCA  x26  \n",
       "0            -1.536911      -1.913168       1.422883  1.0  \n",
       "1            -1.536911      -1.913168       1.422883  1.0  \n",
       "2            -1.536911      -1.913168       1.422883  1.0  \n",
       "3            -1.531365      -1.913168       1.422883  1.0  \n",
       "4            -1.531365      -1.913168       1.422883  1.0  \n",
       "...                ...            ...            ...  ...  \n",
       "4320572      -0.738343      -0.418421      -1.630776  0.0  \n",
       "4320573      -0.732798      -0.418421      -1.729616  0.0  \n",
       "4320574      -0.732798      -0.418421      -1.729616  0.0  \n",
       "4320575      -0.732798      -0.418421      -1.729616  0.0  \n",
       "4320576      -0.732798      -0.418421      -1.729616  0.0  \n",
       "\n",
       "[4320577 rows x 14 columns]"
      ]
     },
     "execution_count": 43,
     "metadata": {},
     "output_type": "execute_result"
    }
   ],
   "source": [
    "df = motor2[[\"x4\", \"x8\", \"x9\", \"x10\", \"x12\", \"x13\", \"x15\", \"x21\", \"x24\"]]\n",
    "df['System2_1 PCA'] = System2_1_pca_result_df['System2_1 PCA']\n",
    "df['System2_2 PCA'] = System2_2_pca_result_df['System2_2 PCA']\n",
    "df['System3_1 PCA'] = System3_1_pca_result_df['System3_1 PCA']\n",
    "df['System3_2 PCA'] = System3_2_pca_result_df['System3_2 PCA']\n",
    "df['x26'] = motor2['x26']\n",
    "df"
   ]
  },
  {
   "cell_type": "code",
   "execution_count": 44,
   "metadata": {},
   "outputs": [
    {
     "data": {
      "text/plain": [
       "1752998"
      ]
     },
     "execution_count": 44,
     "metadata": {},
     "output_type": "execute_result"
    }
   ],
   "source": [
    "# 정상 되는 시점의 index 값\n",
    "first_normal_idx = np.argmax(df['x26'] == 0)\n",
    "first_normal_idx"
   ]
  },
  {
   "cell_type": "code",
   "execution_count": 45,
   "metadata": {},
   "outputs": [],
   "source": [
    "System1_col = ['x4', 'x15', \"x26\"]\n",
    "System2_col = ['x12', 'System2_1 PCA', \"System2_1 PCA\", \"x26\"]\n",
    "System3_col = ['x13', 'x24', 'System3_1 PCA', \"System3_2 PCA\", \"x26\"]\n",
    "System4_col = ['x8', 'x9', 'x10', \"x21\", \"x26\"]\n",
    "\n",
    "System1_df = df[System1_col]\n",
    "System2_df = df[System2_col]\n",
    "System3_df = df[System3_col]\n",
    "System4_df = df[System4_col]"
   ]
  },
  {
   "cell_type": "markdown",
   "metadata": {},
   "source": [
    "## Problem 1"
   ]
  },
  {
   "cell_type": "markdown",
   "metadata": {},
   "source": [
    "### System 1"
   ]
  },
  {
   "cell_type": "code",
   "execution_count": 59,
   "metadata": {},
   "outputs": [
    {
     "data": {
      "text/html": [
       "<div>\n",
       "<style scoped>\n",
       "    .dataframe tbody tr th:only-of-type {\n",
       "        vertical-align: middle;\n",
       "    }\n",
       "\n",
       "    .dataframe tbody tr th {\n",
       "        vertical-align: top;\n",
       "    }\n",
       "\n",
       "    .dataframe thead th {\n",
       "        text-align: right;\n",
       "    }\n",
       "</style>\n",
       "<table border=\"1\" class=\"dataframe\">\n",
       "  <thead>\n",
       "    <tr style=\"text-align: right;\">\n",
       "      <th></th>\n",
       "      <th>x4</th>\n",
       "      <th>x15</th>\n",
       "      <th>x26</th>\n",
       "    </tr>\n",
       "  </thead>\n",
       "  <tbody>\n",
       "    <tr>\n",
       "      <th>0</th>\n",
       "      <td>-0.44</td>\n",
       "      <td>-1.03</td>\n",
       "      <td>1.0</td>\n",
       "    </tr>\n",
       "    <tr>\n",
       "      <th>1</th>\n",
       "      <td>-0.44</td>\n",
       "      <td>-1.03</td>\n",
       "      <td>1.0</td>\n",
       "    </tr>\n",
       "    <tr>\n",
       "      <th>2</th>\n",
       "      <td>-0.44</td>\n",
       "      <td>-1.03</td>\n",
       "      <td>1.0</td>\n",
       "    </tr>\n",
       "    <tr>\n",
       "      <th>3</th>\n",
       "      <td>-0.44</td>\n",
       "      <td>-1.03</td>\n",
       "      <td>1.0</td>\n",
       "    </tr>\n",
       "    <tr>\n",
       "      <th>4</th>\n",
       "      <td>-0.44</td>\n",
       "      <td>-1.03</td>\n",
       "      <td>1.0</td>\n",
       "    </tr>\n",
       "  </tbody>\n",
       "</table>\n",
       "</div>"
      ],
      "text/plain": [
       "     x4   x15  x26\n",
       "0 -0.44 -1.03  1.0\n",
       "1 -0.44 -1.03  1.0\n",
       "2 -0.44 -1.03  1.0\n",
       "3 -0.44 -1.03  1.0\n",
       "4 -0.44 -1.03  1.0"
      ]
     },
     "execution_count": 59,
     "metadata": {},
     "output_type": "execute_result"
    }
   ],
   "source": [
    "System1_train_abnormal = System1_df[:1000000]\n",
    "System1_train_normal = System1_df[2320577:]\n",
    "System1_train = pd.concat([System1_train_abnormal, System1_train_normal]).reset_index(drop = True)\n",
    "System1_train.head()"
   ]
  },
  {
   "cell_type": "code",
   "execution_count": 47,
   "metadata": {},
   "outputs": [
    {
     "name": "stdout",
     "output_type": "stream",
     "text": [
      "(3456463, 2) (3456463,)\n"
     ]
    }
   ],
   "source": [
    "System1_train_x = System1_train.drop(\"x26\", axis = 1)\n",
    "System1_train_y = System1_train[\"x26\"]\n",
    "\n",
    "print(System1_train_x.shape, System1_train_y.shape)"
   ]
  },
  {
   "cell_type": "code",
   "execution_count": 60,
   "metadata": {},
   "outputs": [
    {
     "data": {
      "text/html": [
       "<div>\n",
       "<style scoped>\n",
       "    .dataframe tbody tr th:only-of-type {\n",
       "        vertical-align: middle;\n",
       "    }\n",
       "\n",
       "    .dataframe tbody tr th {\n",
       "        vertical-align: top;\n",
       "    }\n",
       "\n",
       "    .dataframe thead th {\n",
       "        text-align: right;\n",
       "    }\n",
       "</style>\n",
       "<table border=\"1\" class=\"dataframe\">\n",
       "  <thead>\n",
       "    <tr style=\"text-align: right;\">\n",
       "      <th></th>\n",
       "      <th>x4</th>\n",
       "      <th>x15</th>\n",
       "      <th>x26</th>\n",
       "    </tr>\n",
       "  </thead>\n",
       "  <tbody>\n",
       "    <tr>\n",
       "      <th>0</th>\n",
       "      <td>-0.55</td>\n",
       "      <td>-1.06</td>\n",
       "      <td>1.0</td>\n",
       "    </tr>\n",
       "    <tr>\n",
       "      <th>1</th>\n",
       "      <td>-0.55</td>\n",
       "      <td>-1.06</td>\n",
       "      <td>1.0</td>\n",
       "    </tr>\n",
       "    <tr>\n",
       "      <th>2</th>\n",
       "      <td>-0.55</td>\n",
       "      <td>-1.06</td>\n",
       "      <td>1.0</td>\n",
       "    </tr>\n",
       "    <tr>\n",
       "      <th>3</th>\n",
       "      <td>-0.44</td>\n",
       "      <td>-1.06</td>\n",
       "      <td>1.0</td>\n",
       "    </tr>\n",
       "    <tr>\n",
       "      <th>4</th>\n",
       "      <td>-0.44</td>\n",
       "      <td>-1.06</td>\n",
       "      <td>1.0</td>\n",
       "    </tr>\n",
       "  </tbody>\n",
       "</table>\n",
       "</div>"
      ],
      "text/plain": [
       "     x4   x15  x26\n",
       "0 -0.55 -1.06  1.0\n",
       "1 -0.55 -1.06  1.0\n",
       "2 -0.55 -1.06  1.0\n",
       "3 -0.44 -1.06  1.0\n",
       "4 -0.44 -1.06  1.0"
      ]
     },
     "execution_count": 60,
     "metadata": {},
     "output_type": "execute_result"
    }
   ],
   "source": [
    "System1_test = System1_df[1000000:2320577].reset_index(drop = True)\n",
    "System1_test.head()"
   ]
  },
  {
   "cell_type": "code",
   "execution_count": 61,
   "metadata": {},
   "outputs": [
    {
     "name": "stdout",
     "output_type": "stream",
     "text": [
      "(1320577, 2) (1320577,)\n"
     ]
    }
   ],
   "source": [
    "System1_test_x = System1_test.drop('x26', axis=1)\n",
    "System1_test_y = System1_test['x26']\n",
    "\n",
    "print(System1_test_x.shape, System1_test_y.shape)"
   ]
  },
  {
   "cell_type": "code",
   "execution_count": 62,
   "metadata": {},
   "outputs": [
    {
     "data": {
      "text/html": [
       "<style>#sk-container-id-4 {color: black;background-color: white;}#sk-container-id-4 pre{padding: 0;}#sk-container-id-4 div.sk-toggleable {background-color: white;}#sk-container-id-4 label.sk-toggleable__label {cursor: pointer;display: block;width: 100%;margin-bottom: 0;padding: 0.3em;box-sizing: border-box;text-align: center;}#sk-container-id-4 label.sk-toggleable__label-arrow:before {content: \"▸\";float: left;margin-right: 0.25em;color: #696969;}#sk-container-id-4 label.sk-toggleable__label-arrow:hover:before {color: black;}#sk-container-id-4 div.sk-estimator:hover label.sk-toggleable__label-arrow:before {color: black;}#sk-container-id-4 div.sk-toggleable__content {max-height: 0;max-width: 0;overflow: hidden;text-align: left;background-color: #f0f8ff;}#sk-container-id-4 div.sk-toggleable__content pre {margin: 0.2em;color: black;border-radius: 0.25em;background-color: #f0f8ff;}#sk-container-id-4 input.sk-toggleable__control:checked~div.sk-toggleable__content {max-height: 200px;max-width: 100%;overflow: auto;}#sk-container-id-4 input.sk-toggleable__control:checked~label.sk-toggleable__label-arrow:before {content: \"▾\";}#sk-container-id-4 div.sk-estimator input.sk-toggleable__control:checked~label.sk-toggleable__label {background-color: #d4ebff;}#sk-container-id-4 div.sk-label input.sk-toggleable__control:checked~label.sk-toggleable__label {background-color: #d4ebff;}#sk-container-id-4 input.sk-hidden--visually {border: 0;clip: rect(1px 1px 1px 1px);clip: rect(1px, 1px, 1px, 1px);height: 1px;margin: -1px;overflow: hidden;padding: 0;position: absolute;width: 1px;}#sk-container-id-4 div.sk-estimator {font-family: monospace;background-color: #f0f8ff;border: 1px dotted black;border-radius: 0.25em;box-sizing: border-box;margin-bottom: 0.5em;}#sk-container-id-4 div.sk-estimator:hover {background-color: #d4ebff;}#sk-container-id-4 div.sk-parallel-item::after {content: \"\";width: 100%;border-bottom: 1px solid gray;flex-grow: 1;}#sk-container-id-4 div.sk-label:hover label.sk-toggleable__label {background-color: #d4ebff;}#sk-container-id-4 div.sk-serial::before {content: \"\";position: absolute;border-left: 1px solid gray;box-sizing: border-box;top: 0;bottom: 0;left: 50%;z-index: 0;}#sk-container-id-4 div.sk-serial {display: flex;flex-direction: column;align-items: center;background-color: white;padding-right: 0.2em;padding-left: 0.2em;position: relative;}#sk-container-id-4 div.sk-item {position: relative;z-index: 1;}#sk-container-id-4 div.sk-parallel {display: flex;align-items: stretch;justify-content: center;background-color: white;position: relative;}#sk-container-id-4 div.sk-item::before, #sk-container-id-4 div.sk-parallel-item::before {content: \"\";position: absolute;border-left: 1px solid gray;box-sizing: border-box;top: 0;bottom: 0;left: 50%;z-index: -1;}#sk-container-id-4 div.sk-parallel-item {display: flex;flex-direction: column;z-index: 1;position: relative;background-color: white;}#sk-container-id-4 div.sk-parallel-item:first-child::after {align-self: flex-end;width: 50%;}#sk-container-id-4 div.sk-parallel-item:last-child::after {align-self: flex-start;width: 50%;}#sk-container-id-4 div.sk-parallel-item:only-child::after {width: 0;}#sk-container-id-4 div.sk-dashed-wrapped {border: 1px dashed gray;margin: 0 0.4em 0.5em 0.4em;box-sizing: border-box;padding-bottom: 0.4em;background-color: white;}#sk-container-id-4 div.sk-label label {font-family: monospace;font-weight: bold;display: inline-block;line-height: 1.2em;}#sk-container-id-4 div.sk-label-container {text-align: center;}#sk-container-id-4 div.sk-container {/* jupyter's `normalize.less` sets `[hidden] { display: none; }` but bootstrap.min.css set `[hidden] { display: none !important; }` so we also need the `!important` here to be able to override the default hidden behavior on the sphinx rendered scikit-learn.org. See: https://github.com/scikit-learn/scikit-learn/issues/21755 */display: inline-block !important;position: relative;}#sk-container-id-4 div.sk-text-repr-fallback {display: none;}</style><div id=\"sk-container-id-4\" class=\"sk-top-container\"><div class=\"sk-text-repr-fallback\"><pre>LogisticRegression(C=10, max_iter=1000)</pre><b>In a Jupyter environment, please rerun this cell to show the HTML representation or trust the notebook. <br />On GitHub, the HTML representation is unable to render, please try loading this page with nbviewer.org.</b></div><div class=\"sk-container\" hidden><div class=\"sk-item\"><div class=\"sk-estimator sk-toggleable\"><input class=\"sk-toggleable__control sk-hidden--visually\" id=\"sk-estimator-id-4\" type=\"checkbox\" checked><label for=\"sk-estimator-id-4\" class=\"sk-toggleable__label sk-toggleable__label-arrow\">LogisticRegression</label><div class=\"sk-toggleable__content\"><pre>LogisticRegression(C=10, max_iter=1000)</pre></div></div></div></div></div>"
      ],
      "text/plain": [
       "LogisticRegression(C=10, max_iter=1000)"
      ]
     },
     "execution_count": 62,
     "metadata": {},
     "output_type": "execute_result"
    }
   ],
   "source": [
    "System1_model = LogisticRegression(solver=\"lbfgs\", C=10, tol=1e-4, max_iter=1000)                  \n",
    "System1_model.fit(System1_train_x, System1_train_y)"
   ]
  },
  {
   "cell_type": "code",
   "execution_count": 63,
   "metadata": {},
   "outputs": [
    {
     "name": "stdout",
     "output_type": "stream",
     "text": [
      "Accuracy(정확도): 0.51\n",
      "Presicion(정밀도):  0.81\n",
      "Recall(재현율):  0.18\n",
      "F1_score:  0.3\n"
     ]
    }
   ],
   "source": [
    "# 예측값\n",
    "System1_pred = System1_model.predict(System1_test_x)\n",
    "\n",
    "# 다른 평가지표\n",
    "accuracy = System1_model.score(System1_test_x, System1_test_y)\n",
    "precision = precision_score(System1_test_y, System1_pred)\n",
    "recall = recall_score(System1_test_y, System1_pred)\n",
    "f1 = f1_score(System1_test_y, System1_pred)\n",
    "print(\"Accuracy(정확도):\", accuracy.round(2))\n",
    "print('Presicion(정밀도): ', precision.round(2))\n",
    "print('Recall(재현율): ', recall.round(2))\n",
    "print('F1_score: ', f1.round(2))"
   ]
  },
  {
   "cell_type": "code",
   "execution_count": 31,
   "metadata": {},
   "outputs": [
    {
     "data": {
      "image/png": "[encoded data removed]",
      "text/plain": [
       "<Figure size 1200x800 with 1 Axes>"
      ]
     },
     "metadata": {},
     "output_type": "display_data"
    }
   ],
   "source": [
    "# 확률\n",
    "System1_prob = System1_model.predict_proba(System1_test_x)\n",
    "\n",
    "# 시각화\n",
    "plt.figure(figsize=(12, 8))\n",
    "plt.plot(System1_test_y, label='label (state)')\n",
    "plt.plot(System1_prob[:,1], label='abnormal prob')\n",
    "plt.legend()\n",
    "plt.title('System1 model')\n",
    "plt.show()"
   ]
  },
  {
   "cell_type": "markdown",
   "metadata": {},
   "source": [
    "### System 2"
   ]
  },
  {
   "cell_type": "code",
   "execution_count": 52,
   "metadata": {},
   "outputs": [
    {
     "data": {
      "text/html": [
       "<div>\n",
       "<style scoped>\n",
       "    .dataframe tbody tr th:only-of-type {\n",
       "        vertical-align: middle;\n",
       "    }\n",
       "\n",
       "    .dataframe tbody tr th {\n",
       "        vertical-align: top;\n",
       "    }\n",
       "\n",
       "    .dataframe thead th {\n",
       "        text-align: right;\n",
       "    }\n",
       "</style>\n",
       "<table border=\"1\" class=\"dataframe\">\n",
       "  <thead>\n",
       "    <tr style=\"text-align: right;\">\n",
       "      <th></th>\n",
       "      <th>x12</th>\n",
       "      <th>System2_1 PCA</th>\n",
       "      <th>System2_1 PCA</th>\n",
       "      <th>x26</th>\n",
       "    </tr>\n",
       "  </thead>\n",
       "  <tbody>\n",
       "    <tr>\n",
       "      <th>0</th>\n",
       "      <td>-0.82</td>\n",
       "      <td>-1.18225</td>\n",
       "      <td>-1.18225</td>\n",
       "      <td>1.0</td>\n",
       "    </tr>\n",
       "    <tr>\n",
       "      <th>1</th>\n",
       "      <td>-0.82</td>\n",
       "      <td>-1.18225</td>\n",
       "      <td>-1.18225</td>\n",
       "      <td>1.0</td>\n",
       "    </tr>\n",
       "    <tr>\n",
       "      <th>2</th>\n",
       "      <td>-0.82</td>\n",
       "      <td>-1.18225</td>\n",
       "      <td>-1.18225</td>\n",
       "      <td>1.0</td>\n",
       "    </tr>\n",
       "    <tr>\n",
       "      <th>3</th>\n",
       "      <td>-0.82</td>\n",
       "      <td>-1.18225</td>\n",
       "      <td>-1.18225</td>\n",
       "      <td>1.0</td>\n",
       "    </tr>\n",
       "    <tr>\n",
       "      <th>4</th>\n",
       "      <td>-0.82</td>\n",
       "      <td>-1.18225</td>\n",
       "      <td>-1.18225</td>\n",
       "      <td>1.0</td>\n",
       "    </tr>\n",
       "  </tbody>\n",
       "</table>\n",
       "</div>"
      ],
      "text/plain": [
       "    x12  System2_1 PCA  System2_1 PCA  x26\n",
       "0 -0.82       -1.18225       -1.18225  1.0\n",
       "1 -0.82       -1.18225       -1.18225  1.0\n",
       "2 -0.82       -1.18225       -1.18225  1.0\n",
       "3 -0.82       -1.18225       -1.18225  1.0\n",
       "4 -0.82       -1.18225       -1.18225  1.0"
      ]
     },
     "execution_count": 52,
     "metadata": {},
     "output_type": "execute_result"
    }
   ],
   "source": [
    "System2_train_abnormal = System2_df[:first_normal_idx - int((len(df) * 0.1))]\n",
    "System2_train_normal = System2_df[first_normal_idx + int((len(df) * 0.1)):]\n",
    "System2_train = pd.concat([System2_train_abnormal, System2_train_normal]).reset_index(drop = True)\n",
    "System2_train.head()"
   ]
  },
  {
   "cell_type": "code",
   "execution_count": 53,
   "metadata": {},
   "outputs": [
    {
     "name": "stdout",
     "output_type": "stream",
     "text": [
      "(3456463, 3) (3456463,)\n"
     ]
    }
   ],
   "source": [
    "System2_train_x = System2_train.drop(\"x26\", axis = 1)\n",
    "System2_train_y = System2_train[\"x26\"]\n",
    "\n",
    "print(System2_train_x.shape, System2_train_y.shape)"
   ]
  },
  {
   "cell_type": "code",
   "execution_count": 54,
   "metadata": {},
   "outputs": [
    {
     "data": {
      "text/html": [
       "<div>\n",
       "<style scoped>\n",
       "    .dataframe tbody tr th:only-of-type {\n",
       "        vertical-align: middle;\n",
       "    }\n",
       "\n",
       "    .dataframe tbody tr th {\n",
       "        vertical-align: top;\n",
       "    }\n",
       "\n",
       "    .dataframe thead th {\n",
       "        text-align: right;\n",
       "    }\n",
       "</style>\n",
       "<table border=\"1\" class=\"dataframe\">\n",
       "  <thead>\n",
       "    <tr style=\"text-align: right;\">\n",
       "      <th></th>\n",
       "      <th>x12</th>\n",
       "      <th>System2_1 PCA</th>\n",
       "      <th>System2_1 PCA</th>\n",
       "      <th>x26</th>\n",
       "    </tr>\n",
       "  </thead>\n",
       "  <tbody>\n",
       "    <tr>\n",
       "      <th>0</th>\n",
       "      <td>1.45</td>\n",
       "      <td>1.822876</td>\n",
       "      <td>1.822876</td>\n",
       "      <td>1.0</td>\n",
       "    </tr>\n",
       "    <tr>\n",
       "      <th>1</th>\n",
       "      <td>1.45</td>\n",
       "      <td>1.822876</td>\n",
       "      <td>1.822876</td>\n",
       "      <td>1.0</td>\n",
       "    </tr>\n",
       "    <tr>\n",
       "      <th>2</th>\n",
       "      <td>1.39</td>\n",
       "      <td>1.801688</td>\n",
       "      <td>1.801688</td>\n",
       "      <td>1.0</td>\n",
       "    </tr>\n",
       "    <tr>\n",
       "      <th>3</th>\n",
       "      <td>1.39</td>\n",
       "      <td>1.801688</td>\n",
       "      <td>1.801688</td>\n",
       "      <td>1.0</td>\n",
       "    </tr>\n",
       "    <tr>\n",
       "      <th>4</th>\n",
       "      <td>1.42</td>\n",
       "      <td>1.808751</td>\n",
       "      <td>1.808751</td>\n",
       "      <td>1.0</td>\n",
       "    </tr>\n",
       "  </tbody>\n",
       "</table>\n",
       "</div>"
      ],
      "text/plain": [
       "    x12  System2_1 PCA  System2_1 PCA  x26\n",
       "0  1.45       1.822876       1.822876  1.0\n",
       "1  1.45       1.822876       1.822876  1.0\n",
       "2  1.39       1.801688       1.801688  1.0\n",
       "3  1.39       1.801688       1.801688  1.0\n",
       "4  1.42       1.808751       1.808751  1.0"
      ]
     },
     "execution_count": 54,
     "metadata": {},
     "output_type": "execute_result"
    }
   ],
   "source": [
    "System2_test = System2_df[first_normal_idx - int((len(df) * 0.1)):first_normal_idx + int((len(df) * 0.1))].reset_index(drop = True)\n",
    "System2_test.head()"
   ]
  },
  {
   "cell_type": "code",
   "execution_count": 55,
   "metadata": {},
   "outputs": [
    {
     "name": "stdout",
     "output_type": "stream",
     "text": [
      "(864114, 3) (864114,)\n"
     ]
    }
   ],
   "source": [
    "System2_test_x = System2_test.drop('x26', axis=1)\n",
    "System2_test_y = System2_test['x26']\n",
    "\n",
    "print(System2_test_x.shape, System2_test_y.shape)"
   ]
  },
  {
   "cell_type": "code",
   "execution_count": 56,
   "metadata": {},
   "outputs": [
    {
     "data": {
      "text/html": [
       "<style>#sk-container-id-3 {color: black;background-color: white;}#sk-container-id-3 pre{padding: 0;}#sk-container-id-3 div.sk-toggleable {background-color: white;}#sk-container-id-3 label.sk-toggleable__label {cursor: pointer;display: block;width: 100%;margin-bottom: 0;padding: 0.3em;box-sizing: border-box;text-align: center;}#sk-container-id-3 label.sk-toggleable__label-arrow:before {content: \"▸\";float: left;margin-right: 0.25em;color: #696969;}#sk-container-id-3 label.sk-toggleable__label-arrow:hover:before {color: black;}#sk-container-id-3 div.sk-estimator:hover label.sk-toggleable__label-arrow:before {color: black;}#sk-container-id-3 div.sk-toggleable__content {max-height: 0;max-width: 0;overflow: hidden;text-align: left;background-color: #f0f8ff;}#sk-container-id-3 div.sk-toggleable__content pre {margin: 0.2em;color: black;border-radius: 0.25em;background-color: #f0f8ff;}#sk-container-id-3 input.sk-toggleable__control:checked~div.sk-toggleable__content {max-height: 200px;max-width: 100%;overflow: auto;}#sk-container-id-3 input.sk-toggleable__control:checked~label.sk-toggleable__label-arrow:before {content: \"▾\";}#sk-container-id-3 div.sk-estimator input.sk-toggleable__control:checked~label.sk-toggleable__label {background-color: #d4ebff;}#sk-container-id-3 div.sk-label input.sk-toggleable__control:checked~label.sk-toggleable__label {background-color: #d4ebff;}#sk-container-id-3 input.sk-hidden--visually {border: 0;clip: rect(1px 1px 1px 1px);clip: rect(1px, 1px, 1px, 1px);height: 1px;margin: -1px;overflow: hidden;padding: 0;position: absolute;width: 1px;}#sk-container-id-3 div.sk-estimator {font-family: monospace;background-color: #f0f8ff;border: 1px dotted black;border-radius: 0.25em;box-sizing: border-box;margin-bottom: 0.5em;}#sk-container-id-3 div.sk-estimator:hover {background-color: #d4ebff;}#sk-container-id-3 div.sk-parallel-item::after {content: \"\";width: 100%;border-bottom: 1px solid gray;flex-grow: 1;}#sk-container-id-3 div.sk-label:hover label.sk-toggleable__label {background-color: #d4ebff;}#sk-container-id-3 div.sk-serial::before {content: \"\";position: absolute;border-left: 1px solid gray;box-sizing: border-box;top: 0;bottom: 0;left: 50%;z-index: 0;}#sk-container-id-3 div.sk-serial {display: flex;flex-direction: column;align-items: center;background-color: white;padding-right: 0.2em;padding-left: 0.2em;position: relative;}#sk-container-id-3 div.sk-item {position: relative;z-index: 1;}#sk-container-id-3 div.sk-parallel {display: flex;align-items: stretch;justify-content: center;background-color: white;position: relative;}#sk-container-id-3 div.sk-item::before, #sk-container-id-3 div.sk-parallel-item::before {content: \"\";position: absolute;border-left: 1px solid gray;box-sizing: border-box;top: 0;bottom: 0;left: 50%;z-index: -1;}#sk-container-id-3 div.sk-parallel-item {display: flex;flex-direction: column;z-index: 1;position: relative;background-color: white;}#sk-container-id-3 div.sk-parallel-item:first-child::after {align-self: flex-end;width: 50%;}#sk-container-id-3 div.sk-parallel-item:last-child::after {align-self: flex-start;width: 50%;}#sk-container-id-3 div.sk-parallel-item:only-child::after {width: 0;}#sk-container-id-3 div.sk-dashed-wrapped {border: 1px dashed gray;margin: 0 0.4em 0.5em 0.4em;box-sizing: border-box;padding-bottom: 0.4em;background-color: white;}#sk-container-id-3 div.sk-label label {font-family: monospace;font-weight: bold;display: inline-block;line-height: 1.2em;}#sk-container-id-3 div.sk-label-container {text-align: center;}#sk-container-id-3 div.sk-container {/* jupyter's `normalize.less` sets `[hidden] { display: none; }` but bootstrap.min.css set `[hidden] { display: none !important; }` so we also need the `!important` here to be able to override the default hidden behavior on the sphinx rendered scikit-learn.org. See: https://github.com/scikit-learn/scikit-learn/issues/21755 */display: inline-block !important;position: relative;}#sk-container-id-3 div.sk-text-repr-fallback {display: none;}</style><div id=\"sk-container-id-3\" class=\"sk-top-container\"><div class=\"sk-text-repr-fallback\"><pre>LogisticRegression(C=10, max_iter=1000)</pre><b>In a Jupyter environment, please rerun this cell to show the HTML representation or trust the notebook. <br />On GitHub, the HTML representation is unable to render, please try loading this page with nbviewer.org.</b></div><div class=\"sk-container\" hidden><div class=\"sk-item\"><div class=\"sk-estimator sk-toggleable\"><input class=\"sk-toggleable__control sk-hidden--visually\" id=\"sk-estimator-id-3\" type=\"checkbox\" checked><label for=\"sk-estimator-id-3\" class=\"sk-toggleable__label sk-toggleable__label-arrow\">LogisticRegression</label><div class=\"sk-toggleable__content\"><pre>LogisticRegression(C=10, max_iter=1000)</pre></div></div></div></div></div>"
      ],
      "text/plain": [
       "LogisticRegression(C=10, max_iter=1000)"
      ]
     },
     "execution_count": 56,
     "metadata": {},
     "output_type": "execute_result"
    }
   ],
   "source": [
    "System2_model = LogisticRegression(solver=\"lbfgs\", C=10, tol=1e-4, max_iter=1000)                  \n",
    "System2_model.fit(System2_train_x, System2_train_y)"
   ]
  },
  {
   "cell_type": "code",
   "execution_count": 57,
   "metadata": {},
   "outputs": [
    {
     "name": "stdout",
     "output_type": "stream",
     "text": [
      "Accuracy(정확도): 0.5\n",
      "Presicion(정밀도):  0.3\n",
      "Recall(재현율):  0.01\n",
      "F1_score:  0.01\n"
     ]
    }
   ],
   "source": [
    "# 예측값\n",
    "System2_pred = System2_model.predict(System2_test_x)\n",
    "\n",
    "# 다른 평가지표\n",
    "accuracy = System2_model.score(System2_test_x, System2_test_y)\n",
    "precision = precision_score(System2_test_y, System2_pred)\n",
    "recall = recall_score(System2_test_y, System2_pred)\n",
    "f1 = f1_score(System2_test_y, System2_pred)\n",
    "print(\"Accuracy(정확도):\", accuracy.round(2))\n",
    "print('Presicion(정밀도): ', precision.round(2))\n",
    "print('Recall(재현율): ', recall.round(2))\n",
    "print('F1_score: ', f1.round(2))"
   ]
  },
  {
   "cell_type": "code",
   "execution_count": 58,
   "metadata": {},
   "outputs": [
    {
     "data": {
      "image/png": "[encoded data removed]",
      "text/plain": [
       "<Figure size 1200x800 with 1 Axes>"
      ]
     },
     "metadata": {},
     "output_type": "display_data"
    }
   ],
   "source": [
    "# 확률\n",
    "System2_prob = System2_model.predict_proba(System2_test_x)\n",
    "\n",
    "# 시각화\n",
    "plt.figure(figsize=(12, 8))\n",
    "plt.plot(System2_test_y, label='label (state)')\n",
    "plt.plot(System2_prob[:,1], label='abnormal prob')\n",
    "plt.legend()\n",
    "plt.title('System2 model')\n",
    "plt.show()"
   ]
  },
  {
   "cell_type": "markdown",
   "metadata": {},
   "source": [
    "### System 3"
   ]
  },
  {
   "cell_type": "code",
   "execution_count": 64,
   "metadata": {},
   "outputs": [
    {
     "data": {
      "text/html": [
       "<div>\n",
       "<style scoped>\n",
       "    .dataframe tbody tr th:only-of-type {\n",
       "        vertical-align: middle;\n",
       "    }\n",
       "\n",
       "    .dataframe tbody tr th {\n",
       "        vertical-align: top;\n",
       "    }\n",
       "\n",
       "    .dataframe thead th {\n",
       "        text-align: right;\n",
       "    }\n",
       "</style>\n",
       "<table border=\"1\" class=\"dataframe\">\n",
       "  <thead>\n",
       "    <tr style=\"text-align: right;\">\n",
       "      <th></th>\n",
       "      <th>x13</th>\n",
       "      <th>x24</th>\n",
       "      <th>System3_1 PCA</th>\n",
       "      <th>System3_2 PCA</th>\n",
       "      <th>x26</th>\n",
       "    </tr>\n",
       "  </thead>\n",
       "  <tbody>\n",
       "    <tr>\n",
       "      <th>0</th>\n",
       "      <td>-0.86</td>\n",
       "      <td>-1.09</td>\n",
       "      <td>-1.913168</td>\n",
       "      <td>1.422883</td>\n",
       "      <td>1.0</td>\n",
       "    </tr>\n",
       "    <tr>\n",
       "      <th>1</th>\n",
       "      <td>-0.86</td>\n",
       "      <td>-1.09</td>\n",
       "      <td>-1.913168</td>\n",
       "      <td>1.422883</td>\n",
       "      <td>1.0</td>\n",
       "    </tr>\n",
       "    <tr>\n",
       "      <th>2</th>\n",
       "      <td>-0.86</td>\n",
       "      <td>-1.09</td>\n",
       "      <td>-1.913168</td>\n",
       "      <td>1.422883</td>\n",
       "      <td>1.0</td>\n",
       "    </tr>\n",
       "    <tr>\n",
       "      <th>3</th>\n",
       "      <td>-0.86</td>\n",
       "      <td>-1.09</td>\n",
       "      <td>-1.913168</td>\n",
       "      <td>1.422883</td>\n",
       "      <td>1.0</td>\n",
       "    </tr>\n",
       "    <tr>\n",
       "      <th>4</th>\n",
       "      <td>-0.86</td>\n",
       "      <td>-1.09</td>\n",
       "      <td>-1.913168</td>\n",
       "      <td>1.422883</td>\n",
       "      <td>1.0</td>\n",
       "    </tr>\n",
       "  </tbody>\n",
       "</table>\n",
       "</div>"
      ],
      "text/plain": [
       "    x13   x24  System3_1 PCA  System3_2 PCA  x26\n",
       "0 -0.86 -1.09      -1.913168       1.422883  1.0\n",
       "1 -0.86 -1.09      -1.913168       1.422883  1.0\n",
       "2 -0.86 -1.09      -1.913168       1.422883  1.0\n",
       "3 -0.86 -1.09      -1.913168       1.422883  1.0\n",
       "4 -0.86 -1.09      -1.913168       1.422883  1.0"
      ]
     },
     "execution_count": 64,
     "metadata": {},
     "output_type": "execute_result"
    }
   ],
   "source": [
    "System3_train_abnormal = System3_df[:first_normal_idx - int((len(df) * 0.1))]\n",
    "System3_train_normal = System3_df[first_normal_idx + int((len(df) * 0.1)):]\n",
    "System3_train = pd.concat([System3_train_abnormal, System3_train_normal]).reset_index(drop = True)\n",
    "System3_train.head()"
   ]
  },
  {
   "cell_type": "code",
   "execution_count": 65,
   "metadata": {},
   "outputs": [
    {
     "name": "stdout",
     "output_type": "stream",
     "text": [
      "(3456463, 4) (3456463,)\n"
     ]
    }
   ],
   "source": [
    "System3_train_x = System3_train.drop(\"x26\", axis = 1)\n",
    "System3_train_y = System3_train[\"x26\"]\n",
    "\n",
    "print(System3_train_x.shape, System3_train_y.shape)"
   ]
  },
  {
   "cell_type": "code",
   "execution_count": 66,
   "metadata": {},
   "outputs": [
    {
     "data": {
      "text/html": [
       "<div>\n",
       "<style scoped>\n",
       "    .dataframe tbody tr th:only-of-type {\n",
       "        vertical-align: middle;\n",
       "    }\n",
       "\n",
       "    .dataframe tbody tr th {\n",
       "        vertical-align: top;\n",
       "    }\n",
       "\n",
       "    .dataframe thead th {\n",
       "        text-align: right;\n",
       "    }\n",
       "</style>\n",
       "<table border=\"1\" class=\"dataframe\">\n",
       "  <thead>\n",
       "    <tr style=\"text-align: right;\">\n",
       "      <th></th>\n",
       "      <th>x13</th>\n",
       "      <th>x24</th>\n",
       "      <th>System3_1 PCA</th>\n",
       "      <th>System3_2 PCA</th>\n",
       "      <th>x26</th>\n",
       "    </tr>\n",
       "  </thead>\n",
       "  <tbody>\n",
       "    <tr>\n",
       "      <th>0</th>\n",
       "      <td>1.22</td>\n",
       "      <td>0.91</td>\n",
       "      <td>2.331624</td>\n",
       "      <td>-0.869091</td>\n",
       "      <td>1.0</td>\n",
       "    </tr>\n",
       "    <tr>\n",
       "      <th>1</th>\n",
       "      <td>1.22</td>\n",
       "      <td>0.91</td>\n",
       "      <td>2.331624</td>\n",
       "      <td>-0.869091</td>\n",
       "      <td>1.0</td>\n",
       "    </tr>\n",
       "    <tr>\n",
       "      <th>2</th>\n",
       "      <td>1.22</td>\n",
       "      <td>0.91</td>\n",
       "      <td>2.301533</td>\n",
       "      <td>-0.869091</td>\n",
       "      <td>1.0</td>\n",
       "    </tr>\n",
       "    <tr>\n",
       "      <th>3</th>\n",
       "      <td>1.22</td>\n",
       "      <td>0.91</td>\n",
       "      <td>2.301533</td>\n",
       "      <td>-0.869091</td>\n",
       "      <td>1.0</td>\n",
       "    </tr>\n",
       "    <tr>\n",
       "      <th>4</th>\n",
       "      <td>1.22</td>\n",
       "      <td>0.91</td>\n",
       "      <td>2.316578</td>\n",
       "      <td>-0.869091</td>\n",
       "      <td>1.0</td>\n",
       "    </tr>\n",
       "  </tbody>\n",
       "</table>\n",
       "</div>"
      ],
      "text/plain": [
       "    x13   x24  System3_1 PCA  System3_2 PCA  x26\n",
       "0  1.22  0.91       2.331624      -0.869091  1.0\n",
       "1  1.22  0.91       2.331624      -0.869091  1.0\n",
       "2  1.22  0.91       2.301533      -0.869091  1.0\n",
       "3  1.22  0.91       2.301533      -0.869091  1.0\n",
       "4  1.22  0.91       2.316578      -0.869091  1.0"
      ]
     },
     "execution_count": 66,
     "metadata": {},
     "output_type": "execute_result"
    }
   ],
   "source": [
    "System3_test = System3_df[first_normal_idx - int((len(df) * 0.1)):first_normal_idx + int((len(df) * 0.1))].reset_index(drop = True)\n",
    "System3_test.head()"
   ]
  },
  {
   "cell_type": "code",
   "execution_count": 67,
   "metadata": {},
   "outputs": [
    {
     "name": "stdout",
     "output_type": "stream",
     "text": [
      "(864114, 4) (864114,)\n"
     ]
    }
   ],
   "source": [
    "System3_test_x = System3_test.drop('x26', axis=1)\n",
    "System3_test_y = System3_test['x26']\n",
    "\n",
    "print(System3_test_x.shape, System3_test_y.shape)"
   ]
  },
  {
   "cell_type": "code",
   "execution_count": 68,
   "metadata": {},
   "outputs": [
    {
     "data": {
      "text/html": [
       "<style>#sk-container-id-5 {color: black;background-color: white;}#sk-container-id-5 pre{padding: 0;}#sk-container-id-5 div.sk-toggleable {background-color: white;}#sk-container-id-5 label.sk-toggleable__label {cursor: pointer;display: block;width: 100%;margin-bottom: 0;padding: 0.3em;box-sizing: border-box;text-align: center;}#sk-container-id-5 label.sk-toggleable__label-arrow:before {content: \"▸\";float: left;margin-right: 0.25em;color: #696969;}#sk-container-id-5 label.sk-toggleable__label-arrow:hover:before {color: black;}#sk-container-id-5 div.sk-estimator:hover label.sk-toggleable__label-arrow:before {color: black;}#sk-container-id-5 div.sk-toggleable__content {max-height: 0;max-width: 0;overflow: hidden;text-align: left;background-color: #f0f8ff;}#sk-container-id-5 div.sk-toggleable__content pre {margin: 0.2em;color: black;border-radius: 0.25em;background-color: #f0f8ff;}#sk-container-id-5 input.sk-toggleable__control:checked~div.sk-toggleable__content {max-height: 200px;max-width: 100%;overflow: auto;}#sk-container-id-5 input.sk-toggleable__control:checked~label.sk-toggleable__label-arrow:before {content: \"▾\";}#sk-container-id-5 div.sk-estimator input.sk-toggleable__control:checked~label.sk-toggleable__label {background-color: #d4ebff;}#sk-container-id-5 div.sk-label input.sk-toggleable__control:checked~label.sk-toggleable__label {background-color: #d4ebff;}#sk-container-id-5 input.sk-hidden--visually {border: 0;clip: rect(1px 1px 1px 1px);clip: rect(1px, 1px, 1px, 1px);height: 1px;margin: -1px;overflow: hidden;padding: 0;position: absolute;width: 1px;}#sk-container-id-5 div.sk-estimator {font-family: monospace;background-color: #f0f8ff;border: 1px dotted black;border-radius: 0.25em;box-sizing: border-box;margin-bottom: 0.5em;}#sk-container-id-5 div.sk-estimator:hover {background-color: #d4ebff;}#sk-container-id-5 div.sk-parallel-item::after {content: \"\";width: 100%;border-bottom: 1px solid gray;flex-grow: 1;}#sk-container-id-5 div.sk-label:hover label.sk-toggleable__label {background-color: #d4ebff;}#sk-container-id-5 div.sk-serial::before {content: \"\";position: absolute;border-left: 1px solid gray;box-sizing: border-box;top: 0;bottom: 0;left: 50%;z-index: 0;}#sk-container-id-5 div.sk-serial {display: flex;flex-direction: column;align-items: center;background-color: white;padding-right: 0.2em;padding-left: 0.2em;position: relative;}#sk-container-id-5 div.sk-item {position: relative;z-index: 1;}#sk-container-id-5 div.sk-parallel {display: flex;align-items: stretch;justify-content: center;background-color: white;position: relative;}#sk-container-id-5 div.sk-item::before, #sk-container-id-5 div.sk-parallel-item::before {content: \"\";position: absolute;border-left: 1px solid gray;box-sizing: border-box;top: 0;bottom: 0;left: 50%;z-index: -1;}#sk-container-id-5 div.sk-parallel-item {display: flex;flex-direction: column;z-index: 1;position: relative;background-color: white;}#sk-container-id-5 div.sk-parallel-item:first-child::after {align-self: flex-end;width: 50%;}#sk-container-id-5 div.sk-parallel-item:last-child::after {align-self: flex-start;width: 50%;}#sk-container-id-5 div.sk-parallel-item:only-child::after {width: 0;}#sk-container-id-5 div.sk-dashed-wrapped {border: 1px dashed gray;margin: 0 0.4em 0.5em 0.4em;box-sizing: border-box;padding-bottom: 0.4em;background-color: white;}#sk-container-id-5 div.sk-label label {font-family: monospace;font-weight: bold;display: inline-block;line-height: 1.2em;}#sk-container-id-5 div.sk-label-container {text-align: center;}#sk-container-id-5 div.sk-container {/* jupyter's `normalize.less` sets `[hidden] { display: none; }` but bootstrap.min.css set `[hidden] { display: none !important; }` so we also need the `!important` here to be able to override the default hidden behavior on the sphinx rendered scikit-learn.org. See: https://github.com/scikit-learn/scikit-learn/issues/21755 */display: inline-block !important;position: relative;}#sk-container-id-5 div.sk-text-repr-fallback {display: none;}</style><div id=\"sk-container-id-5\" class=\"sk-top-container\"><div class=\"sk-text-repr-fallback\"><pre>LogisticRegression(C=10, max_iter=1000)</pre><b>In a Jupyter environment, please rerun this cell to show the HTML representation or trust the notebook. <br />On GitHub, the HTML representation is unable to render, please try loading this page with nbviewer.org.</b></div><div class=\"sk-container\" hidden><div class=\"sk-item\"><div class=\"sk-estimator sk-toggleable\"><input class=\"sk-toggleable__control sk-hidden--visually\" id=\"sk-estimator-id-5\" type=\"checkbox\" checked><label for=\"sk-estimator-id-5\" class=\"sk-toggleable__label sk-toggleable__label-arrow\">LogisticRegression</label><div class=\"sk-toggleable__content\"><pre>LogisticRegression(C=10, max_iter=1000)</pre></div></div></div></div></div>"
      ],
      "text/plain": [
       "LogisticRegression(C=10, max_iter=1000)"
      ]
     },
     "execution_count": 68,
     "metadata": {},
     "output_type": "execute_result"
    }
   ],
   "source": [
    "System3_model = LogisticRegression(solver=\"lbfgs\", C=10, tol=1e-4, max_iter=1000)                  \n",
    "System3_model.fit(System3_train_x, System3_train_y)"
   ]
  },
  {
   "cell_type": "code",
   "execution_count": 69,
   "metadata": {},
   "outputs": [
    {
     "name": "stdout",
     "output_type": "stream",
     "text": [
      "Accuracy(정확도): 0.68\n",
      "Presicion(정밀도):  0.98\n",
      "Recall(재현율):  0.38\n",
      "F1_score:  0.54\n"
     ]
    }
   ],
   "source": [
    "# 예측값\n",
    "System3_pred = System3_model.predict(System3_test_x)\n",
    "\n",
    "# 다른 평가지표\n",
    "accuracy = System3_model.score(System3_test_x, System3_test_y)\n",
    "precision = precision_score(System3_test_y, System3_pred)\n",
    "recall = recall_score(System3_test_y, System3_pred)\n",
    "f1 = f1_score(System3_test_y, System3_pred)\n",
    "print(\"Accuracy(정확도):\", accuracy.round(2))\n",
    "print('Presicion(정밀도): ', precision.round(2))\n",
    "print('Recall(재현율): ', recall.round(2))\n",
    "print('F1_score: ', f1.round(2))"
   ]
  },
  {
   "cell_type": "code",
   "execution_count": 70,
   "metadata": {},
   "outputs": [
    {
     "data": {
      "image/png": "[encoded data removed]",
      "text/plain": [
       "<Figure size 1200x800 with 1 Axes>"
      ]
     },
     "metadata": {},
     "output_type": "display_data"
    }
   ],
   "source": [
    "# 확률\n",
    "System3_prob = System3_model.predict_proba(System3_test_x)\n",
    "\n",
    "# 시각화\n",
    "plt.figure(figsize=(12, 8))\n",
    "plt.plot(System3_test_y, label='label (state)')\n",
    "plt.plot(System3_prob[:,1], label='abnormal prob')\n",
    "plt.legend()\n",
    "plt.title('System3 model')\n",
    "plt.show()"
   ]
  },
  {
   "cell_type": "markdown",
   "metadata": {},
   "source": [
    "### System 4"
   ]
  },
  {
   "cell_type": "code",
   "execution_count": 71,
   "metadata": {},
   "outputs": [
    {
     "data": {
      "text/html": [
       "<div>\n",
       "<style scoped>\n",
       "    .dataframe tbody tr th:only-of-type {\n",
       "        vertical-align: middle;\n",
       "    }\n",
       "\n",
       "    .dataframe tbody tr th {\n",
       "        vertical-align: top;\n",
       "    }\n",
       "\n",
       "    .dataframe thead th {\n",
       "        text-align: right;\n",
       "    }\n",
       "</style>\n",
       "<table border=\"1\" class=\"dataframe\">\n",
       "  <thead>\n",
       "    <tr style=\"text-align: right;\">\n",
       "      <th></th>\n",
       "      <th>x8</th>\n",
       "      <th>x9</th>\n",
       "      <th>x10</th>\n",
       "      <th>x21</th>\n",
       "      <th>x26</th>\n",
       "    </tr>\n",
       "  </thead>\n",
       "  <tbody>\n",
       "    <tr>\n",
       "      <th>0</th>\n",
       "      <td>-0.72</td>\n",
       "      <td>-0.76</td>\n",
       "      <td>-1.07</td>\n",
       "      <td>-0.83</td>\n",
       "      <td>1.0</td>\n",
       "    </tr>\n",
       "    <tr>\n",
       "      <th>1</th>\n",
       "      <td>-0.72</td>\n",
       "      <td>-0.76</td>\n",
       "      <td>-0.92</td>\n",
       "      <td>-0.83</td>\n",
       "      <td>1.0</td>\n",
       "    </tr>\n",
       "    <tr>\n",
       "      <th>2</th>\n",
       "      <td>-0.72</td>\n",
       "      <td>-0.76</td>\n",
       "      <td>-0.92</td>\n",
       "      <td>-0.83</td>\n",
       "      <td>1.0</td>\n",
       "    </tr>\n",
       "    <tr>\n",
       "      <th>3</th>\n",
       "      <td>-0.72</td>\n",
       "      <td>-0.76</td>\n",
       "      <td>-1.07</td>\n",
       "      <td>-0.83</td>\n",
       "      <td>1.0</td>\n",
       "    </tr>\n",
       "    <tr>\n",
       "      <th>4</th>\n",
       "      <td>-0.72</td>\n",
       "      <td>-0.76</td>\n",
       "      <td>-1.07</td>\n",
       "      <td>-0.83</td>\n",
       "      <td>1.0</td>\n",
       "    </tr>\n",
       "  </tbody>\n",
       "</table>\n",
       "</div>"
      ],
      "text/plain": [
       "     x8    x9   x10   x21  x26\n",
       "0 -0.72 -0.76 -1.07 -0.83  1.0\n",
       "1 -0.72 -0.76 -0.92 -0.83  1.0\n",
       "2 -0.72 -0.76 -0.92 -0.83  1.0\n",
       "3 -0.72 -0.76 -1.07 -0.83  1.0\n",
       "4 -0.72 -0.76 -1.07 -0.83  1.0"
      ]
     },
     "execution_count": 71,
     "metadata": {},
     "output_type": "execute_result"
    }
   ],
   "source": [
    "System4_train_abnormal = System4_df[:first_normal_idx - int((len(df) * 0.1))]\n",
    "System4_train_normal = System4_df[first_normal_idx + int((len(df) * 0.1)):]\n",
    "System4_train = pd.concat([System4_train_abnormal, System4_train_normal]).reset_index(drop = True)\n",
    "System4_train.head()"
   ]
  },
  {
   "cell_type": "code",
   "execution_count": 72,
   "metadata": {},
   "outputs": [
    {
     "name": "stdout",
     "output_type": "stream",
     "text": [
      "(3456463, 4) (3456463,)\n"
     ]
    }
   ],
   "source": [
    "System4_train_x = System4_train.drop(\"x26\", axis = 1)\n",
    "System4_train_y = System4_train[\"x26\"]\n",
    "\n",
    "print(System4_train_x.shape, System4_train_y.shape)"
   ]
  },
  {
   "cell_type": "code",
   "execution_count": 73,
   "metadata": {},
   "outputs": [
    {
     "data": {
      "text/html": [
       "<div>\n",
       "<style scoped>\n",
       "    .dataframe tbody tr th:only-of-type {\n",
       "        vertical-align: middle;\n",
       "    }\n",
       "\n",
       "    .dataframe tbody tr th {\n",
       "        vertical-align: top;\n",
       "    }\n",
       "\n",
       "    .dataframe thead th {\n",
       "        text-align: right;\n",
       "    }\n",
       "</style>\n",
       "<table border=\"1\" class=\"dataframe\">\n",
       "  <thead>\n",
       "    <tr style=\"text-align: right;\">\n",
       "      <th></th>\n",
       "      <th>x8</th>\n",
       "      <th>x9</th>\n",
       "      <th>x10</th>\n",
       "      <th>x21</th>\n",
       "      <th>x26</th>\n",
       "    </tr>\n",
       "  </thead>\n",
       "  <tbody>\n",
       "    <tr>\n",
       "      <th>0</th>\n",
       "      <td>1.39</td>\n",
       "      <td>0.08</td>\n",
       "      <td>0.54</td>\n",
       "      <td>1.26</td>\n",
       "      <td>1.0</td>\n",
       "    </tr>\n",
       "    <tr>\n",
       "      <th>1</th>\n",
       "      <td>1.39</td>\n",
       "      <td>0.08</td>\n",
       "      <td>0.54</td>\n",
       "      <td>1.26</td>\n",
       "      <td>1.0</td>\n",
       "    </tr>\n",
       "    <tr>\n",
       "      <th>2</th>\n",
       "      <td>1.39</td>\n",
       "      <td>0.08</td>\n",
       "      <td>0.54</td>\n",
       "      <td>1.26</td>\n",
       "      <td>1.0</td>\n",
       "    </tr>\n",
       "    <tr>\n",
       "      <th>3</th>\n",
       "      <td>1.39</td>\n",
       "      <td>0.08</td>\n",
       "      <td>0.54</td>\n",
       "      <td>1.26</td>\n",
       "      <td>1.0</td>\n",
       "    </tr>\n",
       "    <tr>\n",
       "      <th>4</th>\n",
       "      <td>1.39</td>\n",
       "      <td>0.08</td>\n",
       "      <td>0.54</td>\n",
       "      <td>1.26</td>\n",
       "      <td>1.0</td>\n",
       "    </tr>\n",
       "  </tbody>\n",
       "</table>\n",
       "</div>"
      ],
      "text/plain": [
       "     x8    x9   x10   x21  x26\n",
       "0  1.39  0.08  0.54  1.26  1.0\n",
       "1  1.39  0.08  0.54  1.26  1.0\n",
       "2  1.39  0.08  0.54  1.26  1.0\n",
       "3  1.39  0.08  0.54  1.26  1.0\n",
       "4  1.39  0.08  0.54  1.26  1.0"
      ]
     },
     "execution_count": 73,
     "metadata": {},
     "output_type": "execute_result"
    }
   ],
   "source": [
    "System4_test = System4_df[first_normal_idx - int((len(df) * 0.1)):first_normal_idx + int((len(df) * 0.1))].reset_index(drop = True)\n",
    "System4_test.head()"
   ]
  },
  {
   "cell_type": "code",
   "execution_count": 74,
   "metadata": {},
   "outputs": [
    {
     "name": "stdout",
     "output_type": "stream",
     "text": [
      "(864114, 4) (864114,)\n"
     ]
    }
   ],
   "source": [
    "System4_test_x = System4_test.drop('x26', axis=1)\n",
    "System4_test_y = System4_test['x26']\n",
    "\n",
    "print(System4_test_x.shape, System4_test_y.shape)"
   ]
  },
  {
   "cell_type": "code",
   "execution_count": 75,
   "metadata": {},
   "outputs": [
    {
     "data": {
      "text/html": [
       "<style>#sk-container-id-6 {color: black;background-color: white;}#sk-container-id-6 pre{padding: 0;}#sk-container-id-6 div.sk-toggleable {background-color: white;}#sk-container-id-6 label.sk-toggleable__label {cursor: pointer;display: block;width: 100%;margin-bottom: 0;padding: 0.3em;box-sizing: border-box;text-align: center;}#sk-container-id-6 label.sk-toggleable__label-arrow:before {content: \"▸\";float: left;margin-right: 0.25em;color: #696969;}#sk-container-id-6 label.sk-toggleable__label-arrow:hover:before {color: black;}#sk-container-id-6 div.sk-estimator:hover label.sk-toggleable__label-arrow:before {color: black;}#sk-container-id-6 div.sk-toggleable__content {max-height: 0;max-width: 0;overflow: hidden;text-align: left;background-color: #f0f8ff;}#sk-container-id-6 div.sk-toggleable__content pre {margin: 0.2em;color: black;border-radius: 0.25em;background-color: #f0f8ff;}#sk-container-id-6 input.sk-toggleable__control:checked~div.sk-toggleable__content {max-height: 200px;max-width: 100%;overflow: auto;}#sk-container-id-6 input.sk-toggleable__control:checked~label.sk-toggleable__label-arrow:before {content: \"▾\";}#sk-container-id-6 div.sk-estimator input.sk-toggleable__control:checked~label.sk-toggleable__label {background-color: #d4ebff;}#sk-container-id-6 div.sk-label input.sk-toggleable__control:checked~label.sk-toggleable__label {background-color: #d4ebff;}#sk-container-id-6 input.sk-hidden--visually {border: 0;clip: rect(1px 1px 1px 1px);clip: rect(1px, 1px, 1px, 1px);height: 1px;margin: -1px;overflow: hidden;padding: 0;position: absolute;width: 1px;}#sk-container-id-6 div.sk-estimator {font-family: monospace;background-color: #f0f8ff;border: 1px dotted black;border-radius: 0.25em;box-sizing: border-box;margin-bottom: 0.5em;}#sk-container-id-6 div.sk-estimator:hover {background-color: #d4ebff;}#sk-container-id-6 div.sk-parallel-item::after {content: \"\";width: 100%;border-bottom: 1px solid gray;flex-grow: 1;}#sk-container-id-6 div.sk-label:hover label.sk-toggleable__label {background-color: #d4ebff;}#sk-container-id-6 div.sk-serial::before {content: \"\";position: absolute;border-left: 1px solid gray;box-sizing: border-box;top: 0;bottom: 0;left: 50%;z-index: 0;}#sk-container-id-6 div.sk-serial {display: flex;flex-direction: column;align-items: center;background-color: white;padding-right: 0.2em;padding-left: 0.2em;position: relative;}#sk-container-id-6 div.sk-item {position: relative;z-index: 1;}#sk-container-id-6 div.sk-parallel {display: flex;align-items: stretch;justify-content: center;background-color: white;position: relative;}#sk-container-id-6 div.sk-item::before, #sk-container-id-6 div.sk-parallel-item::before {content: \"\";position: absolute;border-left: 1px solid gray;box-sizing: border-box;top: 0;bottom: 0;left: 50%;z-index: -1;}#sk-container-id-6 div.sk-parallel-item {display: flex;flex-direction: column;z-index: 1;position: relative;background-color: white;}#sk-container-id-6 div.sk-parallel-item:first-child::after {align-self: flex-end;width: 50%;}#sk-container-id-6 div.sk-parallel-item:last-child::after {align-self: flex-start;width: 50%;}#sk-container-id-6 div.sk-parallel-item:only-child::after {width: 0;}#sk-container-id-6 div.sk-dashed-wrapped {border: 1px dashed gray;margin: 0 0.4em 0.5em 0.4em;box-sizing: border-box;padding-bottom: 0.4em;background-color: white;}#sk-container-id-6 div.sk-label label {font-family: monospace;font-weight: bold;display: inline-block;line-height: 1.2em;}#sk-container-id-6 div.sk-label-container {text-align: center;}#sk-container-id-6 div.sk-container {/* jupyter's `normalize.less` sets `[hidden] { display: none; }` but bootstrap.min.css set `[hidden] { display: none !important; }` so we also need the `!important` here to be able to override the default hidden behavior on the sphinx rendered scikit-learn.org. See: https://github.com/scikit-learn/scikit-learn/issues/21755 */display: inline-block !important;position: relative;}#sk-container-id-6 div.sk-text-repr-fallback {display: none;}</style><div id=\"sk-container-id-6\" class=\"sk-top-container\"><div class=\"sk-text-repr-fallback\"><pre>LogisticRegression(C=10, max_iter=1000)</pre><b>In a Jupyter environment, please rerun this cell to show the HTML representation or trust the notebook. <br />On GitHub, the HTML representation is unable to render, please try loading this page with nbviewer.org.</b></div><div class=\"sk-container\" hidden><div class=\"sk-item\"><div class=\"sk-estimator sk-toggleable\"><input class=\"sk-toggleable__control sk-hidden--visually\" id=\"sk-estimator-id-6\" type=\"checkbox\" checked><label for=\"sk-estimator-id-6\" class=\"sk-toggleable__label sk-toggleable__label-arrow\">LogisticRegression</label><div class=\"sk-toggleable__content\"><pre>LogisticRegression(C=10, max_iter=1000)</pre></div></div></div></div></div>"
      ],
      "text/plain": [
       "LogisticRegression(C=10, max_iter=1000)"
      ]
     },
     "execution_count": 75,
     "metadata": {},
     "output_type": "execute_result"
    }
   ],
   "source": [
    "System4_model = LogisticRegression(solver=\"lbfgs\", C=10, tol=1e-4, max_iter=1000)                  \n",
    "System4_model.fit(System4_train_x, System4_train_y)"
   ]
  },
  {
   "cell_type": "code",
   "execution_count": 76,
   "metadata": {},
   "outputs": [
    {
     "name": "stdout",
     "output_type": "stream",
     "text": [
      "Accuracy(정확도): 0.61\n",
      "Presicion(정밀도):  0.63\n",
      "Recall(재현율):  0.54\n",
      "F1_score:  0.58\n"
     ]
    }
   ],
   "source": [
    "# 예측값\n",
    "System4_pred = System4_model.predict(System4_test_x)\n",
    "\n",
    "# 다른 평가지표\n",
    "accuracy = System4_model.score(System4_test_x, System4_test_y)\n",
    "precision = precision_score(System4_test_y, System4_pred)\n",
    "recall = recall_score(System4_test_y, System4_pred)\n",
    "f1 = f1_score(System4_test_y, System4_pred)\n",
    "print(\"Accuracy(정확도):\", accuracy.round(2))\n",
    "print('Presicion(정밀도): ', precision.round(2))\n",
    "print('Recall(재현율): ', recall.round(2))\n",
    "print('F1_score: ', f1.round(2))"
   ]
  },
  {
   "cell_type": "code",
   "execution_count": 77,
   "metadata": {},
   "outputs": [
    {
     "data": {
      "image/png": "[encoded data removed]",
      "text/plain": [
       "<Figure size 1200x800 with 1 Axes>"
      ]
     },
     "metadata": {},
     "output_type": "display_data"
    }
   ],
   "source": [
    "# 확률\n",
    "System4_prob = System4_model.predict_proba(System4_test_x)\n",
    "\n",
    "# 시각화\n",
    "plt.figure(figsize=(12, 8))\n",
    "plt.plot(System4_test_y, label='label (state)')\n",
    "plt.plot(System4_prob[:,1], label='abnormal prob')\n",
    "plt.legend()\n",
    "plt.title('System4 model')\n",
    "plt.show()"
   ]
  },
  {
   "cell_type": "markdown",
   "metadata": {},
   "source": [
    "## Problem 2"
   ]
  },
  {
   "cell_type": "code",
   "execution_count": 78,
   "metadata": {},
   "outputs": [
    {
     "data": {
      "text/html": [
       "<div>\n",
       "<style scoped>\n",
       "    .dataframe tbody tr th:only-of-type {\n",
       "        vertical-align: middle;\n",
       "    }\n",
       "\n",
       "    .dataframe tbody tr th {\n",
       "        vertical-align: top;\n",
       "    }\n",
       "\n",
       "    .dataframe thead th {\n",
       "        text-align: right;\n",
       "    }\n",
       "</style>\n",
       "<table border=\"1\" class=\"dataframe\">\n",
       "  <thead>\n",
       "    <tr style=\"text-align: right;\">\n",
       "      <th></th>\n",
       "      <th>System1 prob</th>\n",
       "      <th>System2 prob</th>\n",
       "      <th>System3 prob</th>\n",
       "      <th>System4 prob</th>\n",
       "      <th>state</th>\n",
       "    </tr>\n",
       "  </thead>\n",
       "  <tbody>\n",
       "    <tr>\n",
       "      <th>0</th>\n",
       "      <td>0.293518</td>\n",
       "      <td>0.448422</td>\n",
       "      <td>0.343229</td>\n",
       "      <td>0.467689</td>\n",
       "      <td>1.0</td>\n",
       "    </tr>\n",
       "    <tr>\n",
       "      <th>1</th>\n",
       "      <td>0.293518</td>\n",
       "      <td>0.448422</td>\n",
       "      <td>0.343229</td>\n",
       "      <td>0.467689</td>\n",
       "      <td>1.0</td>\n",
       "    </tr>\n",
       "    <tr>\n",
       "      <th>2</th>\n",
       "      <td>0.293518</td>\n",
       "      <td>0.404772</td>\n",
       "      <td>0.323474</td>\n",
       "      <td>0.467689</td>\n",
       "      <td>1.0</td>\n",
       "    </tr>\n",
       "    <tr>\n",
       "      <th>3</th>\n",
       "      <td>0.293518</td>\n",
       "      <td>0.404772</td>\n",
       "      <td>0.323474</td>\n",
       "      <td>0.467689</td>\n",
       "      <td>1.0</td>\n",
       "    </tr>\n",
       "    <tr>\n",
       "      <th>4</th>\n",
       "      <td>0.293518</td>\n",
       "      <td>0.429102</td>\n",
       "      <td>0.333279</td>\n",
       "      <td>0.467689</td>\n",
       "      <td>1.0</td>\n",
       "    </tr>\n",
       "  </tbody>\n",
       "</table>\n",
       "</div>"
      ],
      "text/plain": [
       "   System1 prob  System2 prob  System3 prob  System4 prob  state\n",
       "0      0.293518      0.448422      0.343229      0.467689    1.0\n",
       "1      0.293518      0.448422      0.343229      0.467689    1.0\n",
       "2      0.293518      0.404772      0.323474      0.467689    1.0\n",
       "3      0.293518      0.404772      0.323474      0.467689    1.0\n",
       "4      0.293518      0.429102      0.333279      0.467689    1.0"
      ]
     },
     "execution_count": 78,
     "metadata": {},
     "output_type": "execute_result"
    }
   ],
   "source": [
    "engine_df = pd.DataFrame({'System1 prob': System1_prob[:,1],\n",
    "                          'System2 prob': System2_prob[:,1],\n",
    "                          'System3 prob': System3_prob[:,1],\n",
    "                          'System4 prob': System4_prob[:,1],\n",
    "                          'state': System4_test_y}) # test dataset의 label 가져옴 (모든 모델의 label동일하니 아무거나)\n",
    "engine_df.head()"
   ]
  },
  {
   "cell_type": "markdown",
   "metadata": {},
   "source": [
    "### Train & Test"
   ]
  },
  {
   "cell_type": "code",
   "execution_count": 79,
   "metadata": {},
   "outputs": [
    {
     "name": "stdout",
     "output_type": "stream",
     "text": [
      "train - (691291, 4) (691291,)\n",
      "test - (172823, 4) (172823,)\n"
     ]
    }
   ],
   "source": [
    "# trian & test 나누기\n",
    "x = engine_df.drop('state', axis=1)\n",
    "y = engine_df['state']\n",
    "\n",
    "x_train, x_test, y_train, y_test = train_test_split(x, y, test_size=0.2, shuffle=True)\n",
    "print(\"train -\", x_train.shape, y_train.shape)\n",
    "print(\"test -\", x_test.shape, y_test.shape)"
   ]
  },
  {
   "cell_type": "markdown",
   "metadata": {},
   "source": [
    "### Logistic Regression"
   ]
  },
  {
   "cell_type": "code",
   "execution_count": 80,
   "metadata": {},
   "outputs": [
    {
     "data": {
      "text/html": [
       "<style>#sk-container-id-7 {color: black;background-color: white;}#sk-container-id-7 pre{padding: 0;}#sk-container-id-7 div.sk-toggleable {background-color: white;}#sk-container-id-7 label.sk-toggleable__label {cursor: pointer;display: block;width: 100%;margin-bottom: 0;padding: 0.3em;box-sizing: border-box;text-align: center;}#sk-container-id-7 label.sk-toggleable__label-arrow:before {content: \"▸\";float: left;margin-right: 0.25em;color: #696969;}#sk-container-id-7 label.sk-toggleable__label-arrow:hover:before {color: black;}#sk-container-id-7 div.sk-estimator:hover label.sk-toggleable__label-arrow:before {color: black;}#sk-container-id-7 div.sk-toggleable__content {max-height: 0;max-width: 0;overflow: hidden;text-align: left;background-color: #f0f8ff;}#sk-container-id-7 div.sk-toggleable__content pre {margin: 0.2em;color: black;border-radius: 0.25em;background-color: #f0f8ff;}#sk-container-id-7 input.sk-toggleable__control:checked~div.sk-toggleable__content {max-height: 200px;max-width: 100%;overflow: auto;}#sk-container-id-7 input.sk-toggleable__control:checked~label.sk-toggleable__label-arrow:before {content: \"▾\";}#sk-container-id-7 div.sk-estimator input.sk-toggleable__control:checked~label.sk-toggleable__label {background-color: #d4ebff;}#sk-container-id-7 div.sk-label input.sk-toggleable__control:checked~label.sk-toggleable__label {background-color: #d4ebff;}#sk-container-id-7 input.sk-hidden--visually {border: 0;clip: rect(1px 1px 1px 1px);clip: rect(1px, 1px, 1px, 1px);height: 1px;margin: -1px;overflow: hidden;padding: 0;position: absolute;width: 1px;}#sk-container-id-7 div.sk-estimator {font-family: monospace;background-color: #f0f8ff;border: 1px dotted black;border-radius: 0.25em;box-sizing: border-box;margin-bottom: 0.5em;}#sk-container-id-7 div.sk-estimator:hover {background-color: #d4ebff;}#sk-container-id-7 div.sk-parallel-item::after {content: \"\";width: 100%;border-bottom: 1px solid gray;flex-grow: 1;}#sk-container-id-7 div.sk-label:hover label.sk-toggleable__label {background-color: #d4ebff;}#sk-container-id-7 div.sk-serial::before {content: \"\";position: absolute;border-left: 1px solid gray;box-sizing: border-box;top: 0;bottom: 0;left: 50%;z-index: 0;}#sk-container-id-7 div.sk-serial {display: flex;flex-direction: column;align-items: center;background-color: white;padding-right: 0.2em;padding-left: 0.2em;position: relative;}#sk-container-id-7 div.sk-item {position: relative;z-index: 1;}#sk-container-id-7 div.sk-parallel {display: flex;align-items: stretch;justify-content: center;background-color: white;position: relative;}#sk-container-id-7 div.sk-item::before, #sk-container-id-7 div.sk-parallel-item::before {content: \"\";position: absolute;border-left: 1px solid gray;box-sizing: border-box;top: 0;bottom: 0;left: 50%;z-index: -1;}#sk-container-id-7 div.sk-parallel-item {display: flex;flex-direction: column;z-index: 1;position: relative;background-color: white;}#sk-container-id-7 div.sk-parallel-item:first-child::after {align-self: flex-end;width: 50%;}#sk-container-id-7 div.sk-parallel-item:last-child::after {align-self: flex-start;width: 50%;}#sk-container-id-7 div.sk-parallel-item:only-child::after {width: 0;}#sk-container-id-7 div.sk-dashed-wrapped {border: 1px dashed gray;margin: 0 0.4em 0.5em 0.4em;box-sizing: border-box;padding-bottom: 0.4em;background-color: white;}#sk-container-id-7 div.sk-label label {font-family: monospace;font-weight: bold;display: inline-block;line-height: 1.2em;}#sk-container-id-7 div.sk-label-container {text-align: center;}#sk-container-id-7 div.sk-container {/* jupyter's `normalize.less` sets `[hidden] { display: none; }` but bootstrap.min.css set `[hidden] { display: none !important; }` so we also need the `!important` here to be able to override the default hidden behavior on the sphinx rendered scikit-learn.org. See: https://github.com/scikit-learn/scikit-learn/issues/21755 */display: inline-block !important;position: relative;}#sk-container-id-7 div.sk-text-repr-fallback {display: none;}</style><div id=\"sk-container-id-7\" class=\"sk-top-container\"><div class=\"sk-text-repr-fallback\"><pre>LogisticRegression(C=10, max_iter=1000)</pre><b>In a Jupyter environment, please rerun this cell to show the HTML representation or trust the notebook. <br />On GitHub, the HTML representation is unable to render, please try loading this page with nbviewer.org.</b></div><div class=\"sk-container\" hidden><div class=\"sk-item\"><div class=\"sk-estimator sk-toggleable\"><input class=\"sk-toggleable__control sk-hidden--visually\" id=\"sk-estimator-id-7\" type=\"checkbox\" checked><label for=\"sk-estimator-id-7\" class=\"sk-toggleable__label sk-toggleable__label-arrow\">LogisticRegression</label><div class=\"sk-toggleable__content\"><pre>LogisticRegression(C=10, max_iter=1000)</pre></div></div></div></div></div>"
      ],
      "text/plain": [
       "LogisticRegression(C=10, max_iter=1000)"
      ]
     },
     "execution_count": 80,
     "metadata": {},
     "output_type": "execute_result"
    }
   ],
   "source": [
    "# 모델 선언 및 훈련\n",
    "engine_model = LogisticRegression(solver=\"lbfgs\", C=10, tol=1e-4, max_iter=1000)\n",
    "\n",
    "# 훈련                               \n",
    "engine_model.fit(x_train, y_train)"
   ]
  },
  {
   "cell_type": "code",
   "execution_count": 81,
   "metadata": {},
   "outputs": [
    {
     "name": "stdout",
     "output_type": "stream",
     "text": [
      "Accuracy(정확도): 0.74\n",
      "Presicion(정밀도):  0.69\n",
      "Recall(재현율):  0.86\n",
      "F1_score:  0.77\n"
     ]
    }
   ],
   "source": [
    "# 예측값\n",
    "engine_pred = engine_model.predict(x_test)\n",
    "\n",
    "# 다른 평가지표\n",
    "precision = precision_score(y_test, engine_pred)\n",
    "recall = recall_score(y_test, engine_pred)\n",
    "f1 = f1_score(y_test, engine_pred)\n",
    "accuracy = engine_model.score(x_test, y_test)\n",
    "print(\"Accuracy(정확도):\", accuracy.round(2))\n",
    "print('Presicion(정밀도): ', precision.round(2))\n",
    "print('Recall(재현율): ', recall.round(2))\n",
    "print('F1_score: ', f1.round(2))"
   ]
  },
  {
   "cell_type": "markdown",
   "metadata": {},
   "source": [
    "### SHAP"
   ]
  },
  {
   "cell_type": "code",
   "execution_count": 82,
   "metadata": {},
   "outputs": [
    {
     "data": {
      "image/png": "[encoded data removed]",
      "text/plain": [
       "<Figure size 800x310 with 1 Axes>"
      ]
     },
     "metadata": {},
     "output_type": "display_data"
    }
   ],
   "source": [
    "explainer = shap.Explainer(engine_model, x_train, feature_names=x_train.columns)\n",
    "shap_values = explainer(x_test)\n",
    "shap.summary_plot(shap_values, x_train, plot_type='bar')"
   ]
  }
 ],
 "metadata": {
  "kernelspec": {
   "display_name": "Python 3",
   "language": "python",
   "name": "python3"
  },
  "language_info": {
   "codemirror_mode": {
    "name": "ipython",
    "version": 3
   },
   "file_extension": ".py",
   "mimetype": "text/x-python",
   "name": "python",
   "nbconvert_exporter": "python",
   "pygments_lexer": "ipython3",
   "version": "3.10.8"
  },
  "orig_nbformat": 4
 },
 "nbformat": 4,
 "nbformat_minor": 2
}
