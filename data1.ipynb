{
 "cells": [
  {
   "cell_type": "code",
   "execution_count": 1,
   "metadata": {},
   "outputs": [
    {
     "name": "stderr",
     "output_type": "stream",
     "text": [
      "IProgress not found. Please update jupyter and ipywidgets. See https://ipywidgets.readthedocs.io/en/stable/user_install.html\n"
     ]
    }
   ],
   "source": [
    "import pandas as pd\n",
    "import numpy as np\n",
    "import matplotlib.pyplot as plt\n",
    "import warnings\n",
    "import shap\n",
    "\n",
    "from sklearn.decomposition import PCA\n",
    "from sklearn.linear_model import LogisticRegression\n",
    "from sklearn.metrics import precision_score, recall_score, f1_score\n",
    "from sklearn.model_selection import train_test_split\n",
    "warnings.filterwarnings('ignore')"
   ]
  },
  {
   "cell_type": "code",
   "execution_count": 2,
   "metadata": {},
   "outputs": [],
   "source": [
    "def Drop_same_data(dataframe):\n",
    "    x0_same = dataframe[dataframe.duplicated(subset=['x0'], keep=False)]\n",
    "    x0_same_group = x0_same.groupby('x0').aggregate('mean')\n",
    "    x0_same_group = x0_same_group.reset_index()\n",
    "    x0_same_drop = dataframe.drop_duplicates(['x0'], keep=False)\n",
    "    x0_same_drop_mean = x0_same_drop.append(x0_same_group)\n",
    "    x0_same_drop_mean = x0_same_drop_mean.sort_values('x0').reset_index(drop=True)\n",
    "    return x0_same_drop_mean"
   ]
  },
  {
   "cell_type": "code",
   "execution_count": 4,
   "metadata": {},
   "outputs": [],
   "source": [
    "def change_state(dataframe):\n",
    "    df = dataframe.copy()\n",
    "    df.replace('normal', 0, inplace=True)\n",
    "    df.replace('abnormal', 1, inplace=True)\n",
    "    return df"
   ]
  },
  {
   "cell_type": "code",
   "execution_count": 5,
   "metadata": {},
   "outputs": [
    {
     "data": {
      "text/html": [
       "<div>\n",
       "<style scoped>\n",
       "    .dataframe tbody tr th:only-of-type {\n",
       "        vertical-align: middle;\n",
       "    }\n",
       "\n",
       "    .dataframe tbody tr th {\n",
       "        vertical-align: top;\n",
       "    }\n",
       "\n",
       "    .dataframe thead th {\n",
       "        text-align: right;\n",
       "    }\n",
       "</style>\n",
       "<table border=\"1\" class=\"dataframe\">\n",
       "  <thead>\n",
       "    <tr style=\"text-align: right;\">\n",
       "      <th></th>\n",
       "      <th>x0</th>\n",
       "      <th>x1</th>\n",
       "      <th>x2</th>\n",
       "      <th>x3</th>\n",
       "      <th>x4</th>\n",
       "      <th>x5</th>\n",
       "      <th>x6</th>\n",
       "      <th>x7</th>\n",
       "      <th>x8</th>\n",
       "      <th>x9</th>\n",
       "      <th>...</th>\n",
       "      <th>x17</th>\n",
       "      <th>x18</th>\n",
       "      <th>x19</th>\n",
       "      <th>x20</th>\n",
       "      <th>x21</th>\n",
       "      <th>x22</th>\n",
       "      <th>x23</th>\n",
       "      <th>x24</th>\n",
       "      <th>x25</th>\n",
       "      <th>x26</th>\n",
       "    </tr>\n",
       "  </thead>\n",
       "  <tbody>\n",
       "    <tr>\n",
       "      <th>0</th>\n",
       "      <td>2019-05-01 02:05:54</td>\n",
       "      <td>-0.583180</td>\n",
       "      <td>0.544801</td>\n",
       "      <td>-1.839546</td>\n",
       "      <td>-1.611705</td>\n",
       "      <td>0.727061</td>\n",
       "      <td>-2.136444</td>\n",
       "      <td>-3.179617</td>\n",
       "      <td>0.011333</td>\n",
       "      <td>1.161184</td>\n",
       "      <td>...</td>\n",
       "      <td>-0.525366</td>\n",
       "      <td>-0.696114</td>\n",
       "      <td>-0.012986</td>\n",
       "      <td>1.192422</td>\n",
       "      <td>-0.652867</td>\n",
       "      <td>3.0</td>\n",
       "      <td>-9.616957</td>\n",
       "      <td>0.137369</td>\n",
       "      <td>-1.582205</td>\n",
       "      <td>abnormal</td>\n",
       "    </tr>\n",
       "    <tr>\n",
       "      <th>1</th>\n",
       "      <td>2019-05-01 02:05:55</td>\n",
       "      <td>-0.581843</td>\n",
       "      <td>0.544552</td>\n",
       "      <td>-1.829168</td>\n",
       "      <td>-1.611705</td>\n",
       "      <td>0.729050</td>\n",
       "      <td>-2.123520</td>\n",
       "      <td>-3.170427</td>\n",
       "      <td>0.011333</td>\n",
       "      <td>1.168481</td>\n",
       "      <td>...</td>\n",
       "      <td>-0.524120</td>\n",
       "      <td>-0.695196</td>\n",
       "      <td>-0.012731</td>\n",
       "      <td>1.175877</td>\n",
       "      <td>-0.651512</td>\n",
       "      <td>3.0</td>\n",
       "      <td>-9.601653</td>\n",
       "      <td>0.137344</td>\n",
       "      <td>-1.582205</td>\n",
       "      <td>abnormal</td>\n",
       "    </tr>\n",
       "    <tr>\n",
       "      <th>2</th>\n",
       "      <td>2019-05-01 02:05:56</td>\n",
       "      <td>-0.580507</td>\n",
       "      <td>0.544302</td>\n",
       "      <td>-1.818789</td>\n",
       "      <td>-1.611705</td>\n",
       "      <td>0.731038</td>\n",
       "      <td>-2.110595</td>\n",
       "      <td>-3.161236</td>\n",
       "      <td>0.011333</td>\n",
       "      <td>1.175778</td>\n",
       "      <td>...</td>\n",
       "      <td>-0.522874</td>\n",
       "      <td>-0.694278</td>\n",
       "      <td>-0.012604</td>\n",
       "      <td>1.175877</td>\n",
       "      <td>-0.650201</td>\n",
       "      <td>3.0</td>\n",
       "      <td>-9.586350</td>\n",
       "      <td>0.137319</td>\n",
       "      <td>-1.582205</td>\n",
       "      <td>abnormal</td>\n",
       "    </tr>\n",
       "    <tr>\n",
       "      <th>3</th>\n",
       "      <td>2019-05-01 02:05:57</td>\n",
       "      <td>-0.579210</td>\n",
       "      <td>0.544095</td>\n",
       "      <td>-1.810141</td>\n",
       "      <td>-1.611705</td>\n",
       "      <td>0.733027</td>\n",
       "      <td>-2.097670</td>\n",
       "      <td>-3.152046</td>\n",
       "      <td>0.011333</td>\n",
       "      <td>1.183076</td>\n",
       "      <td>...</td>\n",
       "      <td>-0.521628</td>\n",
       "      <td>-0.693359</td>\n",
       "      <td>-0.012477</td>\n",
       "      <td>1.159333</td>\n",
       "      <td>-0.648977</td>\n",
       "      <td>3.0</td>\n",
       "      <td>-9.570920</td>\n",
       "      <td>0.137306</td>\n",
       "      <td>-1.582205</td>\n",
       "      <td>abnormal</td>\n",
       "    </tr>\n",
       "    <tr>\n",
       "      <th>4</th>\n",
       "      <td>2019-05-01 02:05:58</td>\n",
       "      <td>-0.577914</td>\n",
       "      <td>0.543887</td>\n",
       "      <td>-1.801492</td>\n",
       "      <td>-1.611705</td>\n",
       "      <td>0.735015</td>\n",
       "      <td>-2.084745</td>\n",
       "      <td>-3.142855</td>\n",
       "      <td>0.011333</td>\n",
       "      <td>1.190373</td>\n",
       "      <td>...</td>\n",
       "      <td>-0.520383</td>\n",
       "      <td>-0.692135</td>\n",
       "      <td>-0.012350</td>\n",
       "      <td>1.142788</td>\n",
       "      <td>-0.647754</td>\n",
       "      <td>3.0</td>\n",
       "      <td>-9.555490</td>\n",
       "      <td>0.137306</td>\n",
       "      <td>-1.582205</td>\n",
       "      <td>abnormal</td>\n",
       "    </tr>\n",
       "  </tbody>\n",
       "</table>\n",
       "<p>5 rows × 27 columns</p>\n",
       "</div>"
      ],
      "text/plain": [
       "                    x0        x1        x2        x3        x4        x5  \\\n",
       "0  2019-05-01 02:05:54 -0.583180  0.544801 -1.839546 -1.611705  0.727061   \n",
       "1  2019-05-01 02:05:55 -0.581843  0.544552 -1.829168 -1.611705  0.729050   \n",
       "2  2019-05-01 02:05:56 -0.580507  0.544302 -1.818789 -1.611705  0.731038   \n",
       "3  2019-05-01 02:05:57 -0.579210  0.544095 -1.810141 -1.611705  0.733027   \n",
       "4  2019-05-01 02:05:58 -0.577914  0.543887 -1.801492 -1.611705  0.735015   \n",
       "\n",
       "         x6        x7        x8        x9  ...       x17       x18       x19  \\\n",
       "0 -2.136444 -3.179617  0.011333  1.161184  ... -0.525366 -0.696114 -0.012986   \n",
       "1 -2.123520 -3.170427  0.011333  1.168481  ... -0.524120 -0.695196 -0.012731   \n",
       "2 -2.110595 -3.161236  0.011333  1.175778  ... -0.522874 -0.694278 -0.012604   \n",
       "3 -2.097670 -3.152046  0.011333  1.183076  ... -0.521628 -0.693359 -0.012477   \n",
       "4 -2.084745 -3.142855  0.011333  1.190373  ... -0.520383 -0.692135 -0.012350   \n",
       "\n",
       "        x20       x21  x22       x23       x24       x25       x26  \n",
       "0  1.192422 -0.652867  3.0 -9.616957  0.137369 -1.582205  abnormal  \n",
       "1  1.175877 -0.651512  3.0 -9.601653  0.137344 -1.582205  abnormal  \n",
       "2  1.175877 -0.650201  3.0 -9.586350  0.137319 -1.582205  abnormal  \n",
       "3  1.159333 -0.648977  3.0 -9.570920  0.137306 -1.582205  abnormal  \n",
       "4  1.142788 -0.647754  3.0 -9.555490  0.137306 -1.582205  abnormal  \n",
       "\n",
       "[5 rows x 27 columns]"
      ]
     },
     "execution_count": 5,
     "metadata": {},
     "output_type": "execute_result"
    }
   ],
   "source": [
    "motor1 = pd.read_csv(\"C:/Users/creade/data_science/현대중공업_DT/DT/renewal_code/data/motor1.csv\")\n",
    "motor1.head()"
   ]
  },
  {
   "cell_type": "markdown",
   "metadata": {},
   "source": [
    "## 전처리"
   ]
  },
  {
   "cell_type": "code",
   "execution_count": 6,
   "metadata": {},
   "outputs": [
    {
     "name": "stdout",
     "output_type": "stream",
     "text": [
      "before True\n",
      "after False\n"
     ]
    }
   ],
   "source": [
    "motor1 = change_state(motor1)\n",
    "motor1 = Drop_same_data(motor1)\n",
    "motor1 = motor1.round(2)"
   ]
  },
  {
   "cell_type": "code",
   "execution_count": 7,
   "metadata": {},
   "outputs": [
    {
     "data": {
      "text/html": [
       "<div>\n",
       "<style scoped>\n",
       "    .dataframe tbody tr th:only-of-type {\n",
       "        vertical-align: middle;\n",
       "    }\n",
       "\n",
       "    .dataframe tbody tr th {\n",
       "        vertical-align: top;\n",
       "    }\n",
       "\n",
       "    .dataframe thead th {\n",
       "        text-align: right;\n",
       "    }\n",
       "</style>\n",
       "<table border=\"1\" class=\"dataframe\">\n",
       "  <thead>\n",
       "    <tr style=\"text-align: right;\">\n",
       "      <th></th>\n",
       "      <th>x0</th>\n",
       "      <th>x1</th>\n",
       "      <th>x2</th>\n",
       "      <th>x3</th>\n",
       "      <th>x4</th>\n",
       "      <th>x5</th>\n",
       "      <th>x6</th>\n",
       "      <th>x7</th>\n",
       "      <th>x8</th>\n",
       "      <th>x9</th>\n",
       "      <th>...</th>\n",
       "      <th>x17</th>\n",
       "      <th>x18</th>\n",
       "      <th>x19</th>\n",
       "      <th>x20</th>\n",
       "      <th>x21</th>\n",
       "      <th>x22</th>\n",
       "      <th>x23</th>\n",
       "      <th>x24</th>\n",
       "      <th>x25</th>\n",
       "      <th>x26</th>\n",
       "    </tr>\n",
       "  </thead>\n",
       "  <tbody>\n",
       "    <tr>\n",
       "      <th>0</th>\n",
       "      <td>2019-05-01 02:05:54</td>\n",
       "      <td>-0.58</td>\n",
       "      <td>0.54</td>\n",
       "      <td>-1.84</td>\n",
       "      <td>-1.61</td>\n",
       "      <td>0.73</td>\n",
       "      <td>-2.14</td>\n",
       "      <td>-3.18</td>\n",
       "      <td>0.01</td>\n",
       "      <td>1.16</td>\n",
       "      <td>...</td>\n",
       "      <td>-0.53</td>\n",
       "      <td>-0.70</td>\n",
       "      <td>-0.01</td>\n",
       "      <td>1.19</td>\n",
       "      <td>-0.65</td>\n",
       "      <td>3.0</td>\n",
       "      <td>-9.62</td>\n",
       "      <td>0.14</td>\n",
       "      <td>-1.58</td>\n",
       "      <td>1.0</td>\n",
       "    </tr>\n",
       "    <tr>\n",
       "      <th>1</th>\n",
       "      <td>2019-05-01 02:05:55</td>\n",
       "      <td>-0.58</td>\n",
       "      <td>0.54</td>\n",
       "      <td>-1.83</td>\n",
       "      <td>-1.61</td>\n",
       "      <td>0.73</td>\n",
       "      <td>-2.12</td>\n",
       "      <td>-3.17</td>\n",
       "      <td>0.01</td>\n",
       "      <td>1.17</td>\n",
       "      <td>...</td>\n",
       "      <td>-0.52</td>\n",
       "      <td>-0.70</td>\n",
       "      <td>-0.01</td>\n",
       "      <td>1.18</td>\n",
       "      <td>-0.65</td>\n",
       "      <td>3.0</td>\n",
       "      <td>-9.60</td>\n",
       "      <td>0.14</td>\n",
       "      <td>-1.58</td>\n",
       "      <td>1.0</td>\n",
       "    </tr>\n",
       "    <tr>\n",
       "      <th>2</th>\n",
       "      <td>2019-05-01 02:05:56</td>\n",
       "      <td>-0.58</td>\n",
       "      <td>0.54</td>\n",
       "      <td>-1.82</td>\n",
       "      <td>-1.61</td>\n",
       "      <td>0.73</td>\n",
       "      <td>-2.11</td>\n",
       "      <td>-3.16</td>\n",
       "      <td>0.01</td>\n",
       "      <td>1.18</td>\n",
       "      <td>...</td>\n",
       "      <td>-0.52</td>\n",
       "      <td>-0.69</td>\n",
       "      <td>-0.01</td>\n",
       "      <td>1.18</td>\n",
       "      <td>-0.65</td>\n",
       "      <td>3.0</td>\n",
       "      <td>-9.59</td>\n",
       "      <td>0.14</td>\n",
       "      <td>-1.58</td>\n",
       "      <td>1.0</td>\n",
       "    </tr>\n",
       "    <tr>\n",
       "      <th>3</th>\n",
       "      <td>2019-05-01 02:05:57</td>\n",
       "      <td>-0.58</td>\n",
       "      <td>0.54</td>\n",
       "      <td>-1.81</td>\n",
       "      <td>-1.61</td>\n",
       "      <td>0.73</td>\n",
       "      <td>-2.10</td>\n",
       "      <td>-3.15</td>\n",
       "      <td>0.01</td>\n",
       "      <td>1.18</td>\n",
       "      <td>...</td>\n",
       "      <td>-0.52</td>\n",
       "      <td>-0.69</td>\n",
       "      <td>-0.01</td>\n",
       "      <td>1.16</td>\n",
       "      <td>-0.65</td>\n",
       "      <td>3.0</td>\n",
       "      <td>-9.57</td>\n",
       "      <td>0.14</td>\n",
       "      <td>-1.58</td>\n",
       "      <td>1.0</td>\n",
       "    </tr>\n",
       "    <tr>\n",
       "      <th>4</th>\n",
       "      <td>2019-05-01 02:05:58</td>\n",
       "      <td>-0.58</td>\n",
       "      <td>0.54</td>\n",
       "      <td>-1.80</td>\n",
       "      <td>-1.61</td>\n",
       "      <td>0.74</td>\n",
       "      <td>-2.08</td>\n",
       "      <td>-3.14</td>\n",
       "      <td>0.01</td>\n",
       "      <td>1.19</td>\n",
       "      <td>...</td>\n",
       "      <td>-0.52</td>\n",
       "      <td>-0.69</td>\n",
       "      <td>-0.01</td>\n",
       "      <td>1.14</td>\n",
       "      <td>-0.65</td>\n",
       "      <td>3.0</td>\n",
       "      <td>-9.56</td>\n",
       "      <td>0.14</td>\n",
       "      <td>-1.58</td>\n",
       "      <td>1.0</td>\n",
       "    </tr>\n",
       "  </tbody>\n",
       "</table>\n",
       "<p>5 rows × 27 columns</p>\n",
       "</div>"
      ],
      "text/plain": [
       "                    x0    x1    x2    x3    x4    x5    x6    x7    x8    x9  \\\n",
       "0  2019-05-01 02:05:54 -0.58  0.54 -1.84 -1.61  0.73 -2.14 -3.18  0.01  1.16   \n",
       "1  2019-05-01 02:05:55 -0.58  0.54 -1.83 -1.61  0.73 -2.12 -3.17  0.01  1.17   \n",
       "2  2019-05-01 02:05:56 -0.58  0.54 -1.82 -1.61  0.73 -2.11 -3.16  0.01  1.18   \n",
       "3  2019-05-01 02:05:57 -0.58  0.54 -1.81 -1.61  0.73 -2.10 -3.15  0.01  1.18   \n",
       "4  2019-05-01 02:05:58 -0.58  0.54 -1.80 -1.61  0.74 -2.08 -3.14  0.01  1.19   \n",
       "\n",
       "   ...   x17   x18   x19   x20   x21  x22   x23   x24   x25  x26  \n",
       "0  ... -0.53 -0.70 -0.01  1.19 -0.65  3.0 -9.62  0.14 -1.58  1.0  \n",
       "1  ... -0.52 -0.70 -0.01  1.18 -0.65  3.0 -9.60  0.14 -1.58  1.0  \n",
       "2  ... -0.52 -0.69 -0.01  1.18 -0.65  3.0 -9.59  0.14 -1.58  1.0  \n",
       "3  ... -0.52 -0.69 -0.01  1.16 -0.65  3.0 -9.57  0.14 -1.58  1.0  \n",
       "4  ... -0.52 -0.69 -0.01  1.14 -0.65  3.0 -9.56  0.14 -1.58  1.0  \n",
       "\n",
       "[5 rows x 27 columns]"
      ]
     },
     "execution_count": 7,
     "metadata": {},
     "output_type": "execute_result"
    }
   ],
   "source": [
    "motor1.head()"
   ]
  },
  {
   "cell_type": "markdown",
   "metadata": {},
   "source": [
    "## PCA\n",
    "\n",
    "- System 2 : x12, x13, x23\n",
    "- System 3 : x12, x13\n",
    "- System 4 : x9, x10"
   ]
  },
  {
   "cell_type": "markdown",
   "metadata": {},
   "source": [
    "### System 2"
   ]
  },
  {
   "cell_type": "code",
   "execution_count": 8,
   "metadata": {},
   "outputs": [
    {
     "name": "stdout",
     "output_type": "stream",
     "text": [
      "차원 축소 결과 평가 [0.9345851]\n"
     ]
    },
    {
     "data": {
      "text/html": [
       "<div>\n",
       "<style scoped>\n",
       "    .dataframe tbody tr th:only-of-type {\n",
       "        vertical-align: middle;\n",
       "    }\n",
       "\n",
       "    .dataframe tbody tr th {\n",
       "        vertical-align: top;\n",
       "    }\n",
       "\n",
       "    .dataframe thead th {\n",
       "        text-align: right;\n",
       "    }\n",
       "</style>\n",
       "<table border=\"1\" class=\"dataframe\">\n",
       "  <thead>\n",
       "    <tr style=\"text-align: right;\">\n",
       "      <th></th>\n",
       "      <th>System2 PCA</th>\n",
       "    </tr>\n",
       "  </thead>\n",
       "  <tbody>\n",
       "    <tr>\n",
       "      <th>0</th>\n",
       "      <td>6.601154</td>\n",
       "    </tr>\n",
       "    <tr>\n",
       "      <th>1</th>\n",
       "      <td>6.589466</td>\n",
       "    </tr>\n",
       "    <tr>\n",
       "      <th>2</th>\n",
       "      <td>6.589273</td>\n",
       "    </tr>\n",
       "    <tr>\n",
       "      <th>3</th>\n",
       "      <td>6.577585</td>\n",
       "    </tr>\n",
       "    <tr>\n",
       "      <th>4</th>\n",
       "      <td>6.565917</td>\n",
       "    </tr>\n",
       "    <tr>\n",
       "      <th>...</th>\n",
       "      <td>...</td>\n",
       "    </tr>\n",
       "    <tr>\n",
       "      <th>4243626</th>\n",
       "      <td>4.519429</td>\n",
       "    </tr>\n",
       "    <tr>\n",
       "      <th>4243627</th>\n",
       "      <td>4.519429</td>\n",
       "    </tr>\n",
       "    <tr>\n",
       "      <th>4243628</th>\n",
       "      <td>4.519429</td>\n",
       "    </tr>\n",
       "    <tr>\n",
       "      <th>4243629</th>\n",
       "      <td>4.519429</td>\n",
       "    </tr>\n",
       "    <tr>\n",
       "      <th>4243630</th>\n",
       "      <td>4.519429</td>\n",
       "    </tr>\n",
       "  </tbody>\n",
       "</table>\n",
       "<p>4243631 rows × 1 columns</p>\n",
       "</div>"
      ],
      "text/plain": [
       "         System2 PCA\n",
       "0           6.601154\n",
       "1           6.589466\n",
       "2           6.589273\n",
       "3           6.577585\n",
       "4           6.565917\n",
       "...              ...\n",
       "4243626     4.519429\n",
       "4243627     4.519429\n",
       "4243628     4.519429\n",
       "4243629     4.519429\n",
       "4243630     4.519429\n",
       "\n",
       "[4243631 rows x 1 columns]"
      ]
     },
     "execution_count": 8,
     "metadata": {},
     "output_type": "execute_result"
    }
   ],
   "source": [
    "System2_col = ['x12', 'x13', 'x23']\n",
    "System2_pca_df = motor1[System2_col]\n",
    "\n",
    "System2_pca = PCA(n_components=1)\n",
    "System2_pca.fit(System2_pca_df)\n",
    "System2_pca_result = System2_pca.transform(System2_pca_df)\n",
    "\n",
    "# 차원 축소 결과\n",
    "print('차원 축소 결과 평가', System2_pca.explained_variance_ratio_)\n",
    "\n",
    "# DataFrame으로 변환\n",
    "System2_pca_result_df = pd.DataFrame(System2_pca_result, columns=['System2 PCA'])\n",
    "System2_pca_result_df"
   ]
  },
  {
   "cell_type": "markdown",
   "metadata": {},
   "source": [
    "### System 3"
   ]
  },
  {
   "cell_type": "code",
   "execution_count": 9,
   "metadata": {},
   "outputs": [
    {
     "name": "stdout",
     "output_type": "stream",
     "text": [
      "차원 축소 결과 평가 [0.93435696]\n"
     ]
    },
    {
     "data": {
      "text/html": [
       "<div>\n",
       "<style scoped>\n",
       "    .dataframe tbody tr th:only-of-type {\n",
       "        vertical-align: middle;\n",
       "    }\n",
       "\n",
       "    .dataframe tbody tr th {\n",
       "        vertical-align: top;\n",
       "    }\n",
       "\n",
       "    .dataframe thead th {\n",
       "        text-align: right;\n",
       "    }\n",
       "</style>\n",
       "<table border=\"1\" class=\"dataframe\">\n",
       "  <thead>\n",
       "    <tr style=\"text-align: right;\">\n",
       "      <th></th>\n",
       "      <th>System3 PCA</th>\n",
       "    </tr>\n",
       "  </thead>\n",
       "  <tbody>\n",
       "    <tr>\n",
       "      <th>0</th>\n",
       "      <td>1.209058</td>\n",
       "    </tr>\n",
       "    <tr>\n",
       "      <th>1</th>\n",
       "      <td>1.209058</td>\n",
       "    </tr>\n",
       "    <tr>\n",
       "      <th>2</th>\n",
       "      <td>1.216129</td>\n",
       "    </tr>\n",
       "    <tr>\n",
       "      <th>3</th>\n",
       "      <td>1.216129</td>\n",
       "    </tr>\n",
       "    <tr>\n",
       "      <th>4</th>\n",
       "      <td>1.209058</td>\n",
       "    </tr>\n",
       "    <tr>\n",
       "      <th>...</th>\n",
       "      <td>...</td>\n",
       "    </tr>\n",
       "    <tr>\n",
       "      <th>4243626</th>\n",
       "      <td>3.401092</td>\n",
       "    </tr>\n",
       "    <tr>\n",
       "      <th>4243627</th>\n",
       "      <td>3.401092</td>\n",
       "    </tr>\n",
       "    <tr>\n",
       "      <th>4243628</th>\n",
       "      <td>3.401092</td>\n",
       "    </tr>\n",
       "    <tr>\n",
       "      <th>4243629</th>\n",
       "      <td>3.401092</td>\n",
       "    </tr>\n",
       "    <tr>\n",
       "      <th>4243630</th>\n",
       "      <td>3.401092</td>\n",
       "    </tr>\n",
       "  </tbody>\n",
       "</table>\n",
       "<p>4243631 rows × 1 columns</p>\n",
       "</div>"
      ],
      "text/plain": [
       "         System3 PCA\n",
       "0           1.209058\n",
       "1           1.209058\n",
       "2           1.216129\n",
       "3           1.216129\n",
       "4           1.209058\n",
       "...              ...\n",
       "4243626     3.401092\n",
       "4243627     3.401092\n",
       "4243628     3.401092\n",
       "4243629     3.401092\n",
       "4243630     3.401092\n",
       "\n",
       "[4243631 rows x 1 columns]"
      ]
     },
     "execution_count": 9,
     "metadata": {},
     "output_type": "execute_result"
    }
   ],
   "source": [
    "System3_col = ['x12', 'x13']\n",
    "System3_pca_df = motor1[System3_col]\n",
    "System3_pca_df\n",
    "\n",
    "System3_pca = PCA(n_components=1)\n",
    "System3_pca.fit(System3_pca_df)\n",
    "System3_pca_result = System3_pca.transform(System3_pca_df)\n",
    "\n",
    "# 차원 축소 결과\n",
    "print('차원 축소 결과 평가', System3_pca.explained_variance_ratio_)\n",
    "\n",
    "# DataFrame으로 변환\n",
    "System3_pca_result_df = pd.DataFrame(System3_pca_result, columns=['System3 PCA'])\n",
    "System3_pca_result_df"
   ]
  },
  {
   "cell_type": "markdown",
   "metadata": {},
   "source": [
    "### System 4"
   ]
  },
  {
   "cell_type": "code",
   "execution_count": 10,
   "metadata": {},
   "outputs": [
    {
     "name": "stdout",
     "output_type": "stream",
     "text": [
      "차원 축소 결과 평가 [0.94432419]\n"
     ]
    },
    {
     "data": {
      "text/html": [
       "<div>\n",
       "<style scoped>\n",
       "    .dataframe tbody tr th:only-of-type {\n",
       "        vertical-align: middle;\n",
       "    }\n",
       "\n",
       "    .dataframe tbody tr th {\n",
       "        vertical-align: top;\n",
       "    }\n",
       "\n",
       "    .dataframe thead th {\n",
       "        text-align: right;\n",
       "    }\n",
       "</style>\n",
       "<table border=\"1\" class=\"dataframe\">\n",
       "  <thead>\n",
       "    <tr style=\"text-align: right;\">\n",
       "      <th></th>\n",
       "      <th>System4 PCA</th>\n",
       "    </tr>\n",
       "  </thead>\n",
       "  <tbody>\n",
       "    <tr>\n",
       "      <th>0</th>\n",
       "      <td>1.499195</td>\n",
       "    </tr>\n",
       "    <tr>\n",
       "      <th>1</th>\n",
       "      <td>1.513337</td>\n",
       "    </tr>\n",
       "    <tr>\n",
       "      <th>2</th>\n",
       "      <td>1.527479</td>\n",
       "    </tr>\n",
       "    <tr>\n",
       "      <th>3</th>\n",
       "      <td>1.534550</td>\n",
       "    </tr>\n",
       "    <tr>\n",
       "      <th>4</th>\n",
       "      <td>1.541621</td>\n",
       "    </tr>\n",
       "    <tr>\n",
       "      <th>...</th>\n",
       "      <td>...</td>\n",
       "    </tr>\n",
       "    <tr>\n",
       "      <th>4243626</th>\n",
       "      <td>-1.541294</td>\n",
       "    </tr>\n",
       "    <tr>\n",
       "      <th>4243627</th>\n",
       "      <td>-1.541294</td>\n",
       "    </tr>\n",
       "    <tr>\n",
       "      <th>4243628</th>\n",
       "      <td>-1.548365</td>\n",
       "    </tr>\n",
       "    <tr>\n",
       "      <th>4243629</th>\n",
       "      <td>-1.548365</td>\n",
       "    </tr>\n",
       "    <tr>\n",
       "      <th>4243630</th>\n",
       "      <td>-1.548365</td>\n",
       "    </tr>\n",
       "  </tbody>\n",
       "</table>\n",
       "<p>4243631 rows × 1 columns</p>\n",
       "</div>"
      ],
      "text/plain": [
       "         System4 PCA\n",
       "0           1.499195\n",
       "1           1.513337\n",
       "2           1.527479\n",
       "3           1.534550\n",
       "4           1.541621\n",
       "...              ...\n",
       "4243626    -1.541294\n",
       "4243627    -1.541294\n",
       "4243628    -1.548365\n",
       "4243629    -1.548365\n",
       "4243630    -1.548365\n",
       "\n",
       "[4243631 rows x 1 columns]"
      ]
     },
     "execution_count": 10,
     "metadata": {},
     "output_type": "execute_result"
    }
   ],
   "source": [
    "System4_col = ['x9', 'x10']\n",
    "System4_pca_df = motor1[System4_col]\n",
    "System4_pca_df\n",
    "\n",
    "System4_pca = PCA(n_components=1)\n",
    "System4_pca.fit(System4_pca_df)\n",
    "System4_pca_result = System4_pca.transform(System4_pca_df)\n",
    "\n",
    "# 차원 축소 결과\n",
    "print('차원 축소 결과 평가', System4_pca.explained_variance_ratio_)\n",
    "\n",
    "# DataFrame으로 변환\n",
    "System4_pca_result_df = pd.DataFrame(System4_pca_result, columns=['System4 PCA'])\n",
    "System4_pca_result_df"
   ]
  },
  {
   "cell_type": "markdown",
   "metadata": {},
   "source": [
    "## 최종 데이터 정리"
   ]
  },
  {
   "cell_type": "code",
   "execution_count": 11,
   "metadata": {},
   "outputs": [
    {
     "data": {
      "text/html": [
       "<div>\n",
       "<style scoped>\n",
       "    .dataframe tbody tr th:only-of-type {\n",
       "        vertical-align: middle;\n",
       "    }\n",
       "\n",
       "    .dataframe tbody tr th {\n",
       "        vertical-align: top;\n",
       "    }\n",
       "\n",
       "    .dataframe thead th {\n",
       "        text-align: right;\n",
       "    }\n",
       "</style>\n",
       "<table border=\"1\" class=\"dataframe\">\n",
       "  <thead>\n",
       "    <tr style=\"text-align: right;\">\n",
       "      <th></th>\n",
       "      <th>x3</th>\n",
       "      <th>x4</th>\n",
       "      <th>x5</th>\n",
       "      <th>x14</th>\n",
       "      <th>x15</th>\n",
       "      <th>System2 PCA</th>\n",
       "      <th>System3 PCA</th>\n",
       "      <th>System4 PCA</th>\n",
       "      <th>x26</th>\n",
       "    </tr>\n",
       "  </thead>\n",
       "  <tbody>\n",
       "    <tr>\n",
       "      <th>0</th>\n",
       "      <td>-1.84</td>\n",
       "      <td>-1.61</td>\n",
       "      <td>0.73</td>\n",
       "      <td>-1.21</td>\n",
       "      <td>-1.09</td>\n",
       "      <td>6.601154</td>\n",
       "      <td>1.209058</td>\n",
       "      <td>1.499195</td>\n",
       "      <td>1.0</td>\n",
       "    </tr>\n",
       "    <tr>\n",
       "      <th>1</th>\n",
       "      <td>-1.83</td>\n",
       "      <td>-1.61</td>\n",
       "      <td>0.73</td>\n",
       "      <td>-1.20</td>\n",
       "      <td>-1.08</td>\n",
       "      <td>6.589466</td>\n",
       "      <td>1.209058</td>\n",
       "      <td>1.513337</td>\n",
       "      <td>1.0</td>\n",
       "    </tr>\n",
       "    <tr>\n",
       "      <th>2</th>\n",
       "      <td>-1.82</td>\n",
       "      <td>-1.61</td>\n",
       "      <td>0.73</td>\n",
       "      <td>-1.20</td>\n",
       "      <td>-1.08</td>\n",
       "      <td>6.589273</td>\n",
       "      <td>1.216129</td>\n",
       "      <td>1.527479</td>\n",
       "      <td>1.0</td>\n",
       "    </tr>\n",
       "    <tr>\n",
       "      <th>3</th>\n",
       "      <td>-1.81</td>\n",
       "      <td>-1.61</td>\n",
       "      <td>0.73</td>\n",
       "      <td>-1.20</td>\n",
       "      <td>-1.08</td>\n",
       "      <td>6.577585</td>\n",
       "      <td>1.216129</td>\n",
       "      <td>1.534550</td>\n",
       "      <td>1.0</td>\n",
       "    </tr>\n",
       "    <tr>\n",
       "      <th>4</th>\n",
       "      <td>-1.80</td>\n",
       "      <td>-1.61</td>\n",
       "      <td>0.74</td>\n",
       "      <td>-1.19</td>\n",
       "      <td>-1.08</td>\n",
       "      <td>6.565917</td>\n",
       "      <td>1.209058</td>\n",
       "      <td>1.541621</td>\n",
       "      <td>1.0</td>\n",
       "    </tr>\n",
       "    <tr>\n",
       "      <th>...</th>\n",
       "      <td>...</td>\n",
       "      <td>...</td>\n",
       "      <td>...</td>\n",
       "      <td>...</td>\n",
       "      <td>...</td>\n",
       "      <td>...</td>\n",
       "      <td>...</td>\n",
       "      <td>...</td>\n",
       "      <td>...</td>\n",
       "    </tr>\n",
       "    <tr>\n",
       "      <th>4243626</th>\n",
       "      <td>1.29</td>\n",
       "      <td>-1.25</td>\n",
       "      <td>-1.18</td>\n",
       "      <td>-1.34</td>\n",
       "      <td>3.04</td>\n",
       "      <td>4.519429</td>\n",
       "      <td>3.401092</td>\n",
       "      <td>-1.541294</td>\n",
       "      <td>0.0</td>\n",
       "    </tr>\n",
       "    <tr>\n",
       "      <th>4243627</th>\n",
       "      <td>1.29</td>\n",
       "      <td>-1.25</td>\n",
       "      <td>-1.18</td>\n",
       "      <td>-1.34</td>\n",
       "      <td>3.04</td>\n",
       "      <td>4.519429</td>\n",
       "      <td>3.401092</td>\n",
       "      <td>-1.541294</td>\n",
       "      <td>0.0</td>\n",
       "    </tr>\n",
       "    <tr>\n",
       "      <th>4243628</th>\n",
       "      <td>1.29</td>\n",
       "      <td>-1.25</td>\n",
       "      <td>-1.18</td>\n",
       "      <td>-1.34</td>\n",
       "      <td>3.04</td>\n",
       "      <td>4.519429</td>\n",
       "      <td>3.401092</td>\n",
       "      <td>-1.548365</td>\n",
       "      <td>0.0</td>\n",
       "    </tr>\n",
       "    <tr>\n",
       "      <th>4243629</th>\n",
       "      <td>1.29</td>\n",
       "      <td>-1.25</td>\n",
       "      <td>-1.18</td>\n",
       "      <td>-1.34</td>\n",
       "      <td>3.04</td>\n",
       "      <td>4.519429</td>\n",
       "      <td>3.401092</td>\n",
       "      <td>-1.548365</td>\n",
       "      <td>0.0</td>\n",
       "    </tr>\n",
       "    <tr>\n",
       "      <th>4243630</th>\n",
       "      <td>1.29</td>\n",
       "      <td>-1.25</td>\n",
       "      <td>-1.18</td>\n",
       "      <td>-1.34</td>\n",
       "      <td>3.04</td>\n",
       "      <td>4.519429</td>\n",
       "      <td>3.401092</td>\n",
       "      <td>-1.548365</td>\n",
       "      <td>0.0</td>\n",
       "    </tr>\n",
       "  </tbody>\n",
       "</table>\n",
       "<p>4243631 rows × 9 columns</p>\n",
       "</div>"
      ],
      "text/plain": [
       "           x3    x4    x5   x14   x15  System2 PCA  System3 PCA  System4 PCA  \\\n",
       "0       -1.84 -1.61  0.73 -1.21 -1.09     6.601154     1.209058     1.499195   \n",
       "1       -1.83 -1.61  0.73 -1.20 -1.08     6.589466     1.209058     1.513337   \n",
       "2       -1.82 -1.61  0.73 -1.20 -1.08     6.589273     1.216129     1.527479   \n",
       "3       -1.81 -1.61  0.73 -1.20 -1.08     6.577585     1.216129     1.534550   \n",
       "4       -1.80 -1.61  0.74 -1.19 -1.08     6.565917     1.209058     1.541621   \n",
       "...       ...   ...   ...   ...   ...          ...          ...          ...   \n",
       "4243626  1.29 -1.25 -1.18 -1.34  3.04     4.519429     3.401092    -1.541294   \n",
       "4243627  1.29 -1.25 -1.18 -1.34  3.04     4.519429     3.401092    -1.541294   \n",
       "4243628  1.29 -1.25 -1.18 -1.34  3.04     4.519429     3.401092    -1.548365   \n",
       "4243629  1.29 -1.25 -1.18 -1.34  3.04     4.519429     3.401092    -1.548365   \n",
       "4243630  1.29 -1.25 -1.18 -1.34  3.04     4.519429     3.401092    -1.548365   \n",
       "\n",
       "         x26  \n",
       "0        1.0  \n",
       "1        1.0  \n",
       "2        1.0  \n",
       "3        1.0  \n",
       "4        1.0  \n",
       "...      ...  \n",
       "4243626  0.0  \n",
       "4243627  0.0  \n",
       "4243628  0.0  \n",
       "4243629  0.0  \n",
       "4243630  0.0  \n",
       "\n",
       "[4243631 rows x 9 columns]"
      ]
     },
     "execution_count": 11,
     "metadata": {},
     "output_type": "execute_result"
    }
   ],
   "source": [
    "df = motor1[['x3', 'x4', 'x5', 'x14', 'x15']]\n",
    "df['System2 PCA'] = System2_pca_result_df['System2 PCA']\n",
    "df['System3 PCA'] = System3_pca_result_df['System3 PCA']\n",
    "df['System4 PCA'] = System4_pca_result_df['System4 PCA']\n",
    "df['x26'] = motor1['x26']\n",
    "df"
   ]
  },
  {
   "cell_type": "code",
   "execution_count": 12,
   "metadata": {},
   "outputs": [
    {
     "data": {
      "text/plain": [
       "2804007"
      ]
     },
     "execution_count": 12,
     "metadata": {},
     "output_type": "execute_result"
    }
   ],
   "source": [
    "# 정상 되는 시점의 index 값\n",
    "first_normal_idx = np.argmax(df['x26'] == 0)\n",
    "first_normal_idx"
   ]
  },
  {
   "cell_type": "code",
   "execution_count": 13,
   "metadata": {},
   "outputs": [],
   "source": [
    "# 각 시스템에 해당하는 변수 정리\n",
    "System1_col = ['x4', 'x5', 'x14', 'x15', 'x26']\n",
    "System2_col = ['System2 PCA', 'x26']\n",
    "System3_col = ['x3', 'System3 PCA', 'x26']\n",
    "System4_col = ['x3', 'System4 PCA', 'x26']\n",
    "\n",
    "System1_df = df[System1_col]\n",
    "System2_df = df[System2_col]\n",
    "System3_df = df[System3_col]\n",
    "System4_df = df[System4_col]"
   ]
  },
  {
   "cell_type": "markdown",
   "metadata": {},
   "source": [
    "## Problem 1"
   ]
  },
  {
   "cell_type": "markdown",
   "metadata": {},
   "source": [
    "### System 1"
   ]
  },
  {
   "cell_type": "code",
   "execution_count": 14,
   "metadata": {},
   "outputs": [
    {
     "data": {
      "text/html": [
       "<div>\n",
       "<style scoped>\n",
       "    .dataframe tbody tr th:only-of-type {\n",
       "        vertical-align: middle;\n",
       "    }\n",
       "\n",
       "    .dataframe tbody tr th {\n",
       "        vertical-align: top;\n",
       "    }\n",
       "\n",
       "    .dataframe thead th {\n",
       "        text-align: right;\n",
       "    }\n",
       "</style>\n",
       "<table border=\"1\" class=\"dataframe\">\n",
       "  <thead>\n",
       "    <tr style=\"text-align: right;\">\n",
       "      <th></th>\n",
       "      <th>x4</th>\n",
       "      <th>x5</th>\n",
       "      <th>x14</th>\n",
       "      <th>x15</th>\n",
       "      <th>x26</th>\n",
       "    </tr>\n",
       "  </thead>\n",
       "  <tbody>\n",
       "    <tr>\n",
       "      <th>0</th>\n",
       "      <td>-1.61</td>\n",
       "      <td>0.73</td>\n",
       "      <td>-1.21</td>\n",
       "      <td>-1.09</td>\n",
       "      <td>1.0</td>\n",
       "    </tr>\n",
       "    <tr>\n",
       "      <th>1</th>\n",
       "      <td>-1.61</td>\n",
       "      <td>0.73</td>\n",
       "      <td>-1.20</td>\n",
       "      <td>-1.08</td>\n",
       "      <td>1.0</td>\n",
       "    </tr>\n",
       "    <tr>\n",
       "      <th>2</th>\n",
       "      <td>-1.61</td>\n",
       "      <td>0.73</td>\n",
       "      <td>-1.20</td>\n",
       "      <td>-1.08</td>\n",
       "      <td>1.0</td>\n",
       "    </tr>\n",
       "    <tr>\n",
       "      <th>3</th>\n",
       "      <td>-1.61</td>\n",
       "      <td>0.73</td>\n",
       "      <td>-1.20</td>\n",
       "      <td>-1.08</td>\n",
       "      <td>1.0</td>\n",
       "    </tr>\n",
       "    <tr>\n",
       "      <th>4</th>\n",
       "      <td>-1.61</td>\n",
       "      <td>0.74</td>\n",
       "      <td>-1.19</td>\n",
       "      <td>-1.08</td>\n",
       "      <td>1.0</td>\n",
       "    </tr>\n",
       "  </tbody>\n",
       "</table>\n",
       "</div>"
      ],
      "text/plain": [
       "     x4    x5   x14   x15  x26\n",
       "0 -1.61  0.73 -1.21 -1.09  1.0\n",
       "1 -1.61  0.73 -1.20 -1.08  1.0\n",
       "2 -1.61  0.73 -1.20 -1.08  1.0\n",
       "3 -1.61  0.73 -1.20 -1.08  1.0\n",
       "4 -1.61  0.74 -1.19 -1.08  1.0"
      ]
     },
     "execution_count": 14,
     "metadata": {},
     "output_type": "execute_result"
    }
   ],
   "source": [
    "# Train dataset - 양 끝의 정상, 비정상\n",
    "System1_train_abnormal = System1_df[:2243205]\n",
    "System1_train_normal = System1_df[3091932:]\n",
    "System1_train = pd.concat([System1_train_abnormal, System1_train_normal]).reset_index(drop=True) # 하나로 묶음\n",
    "System1_train.head()"
   ]
  },
  {
   "cell_type": "code",
   "execution_count": 15,
   "metadata": {},
   "outputs": [
    {
     "name": "stdout",
     "output_type": "stream",
     "text": [
      "(3394904, 4) (3394904,)\n"
     ]
    }
   ],
   "source": [
    "# 셔플 안 하고 X, y 분리 - Train\n",
    "System1_train_x = System1_train.drop('x26', axis=1)\n",
    "System1_train_y = System1_train['x26']\n",
    "\n",
    "print(System1_train_x.shape, System1_train_y.shape)"
   ]
  },
  {
   "cell_type": "code",
   "execution_count": 16,
   "metadata": {},
   "outputs": [
    {
     "data": {
      "text/html": [
       "<div>\n",
       "<style scoped>\n",
       "    .dataframe tbody tr th:only-of-type {\n",
       "        vertical-align: middle;\n",
       "    }\n",
       "\n",
       "    .dataframe tbody tr th {\n",
       "        vertical-align: top;\n",
       "    }\n",
       "\n",
       "    .dataframe thead th {\n",
       "        text-align: right;\n",
       "    }\n",
       "</style>\n",
       "<table border=\"1\" class=\"dataframe\">\n",
       "  <thead>\n",
       "    <tr style=\"text-align: right;\">\n",
       "      <th></th>\n",
       "      <th>x4</th>\n",
       "      <th>x5</th>\n",
       "      <th>x14</th>\n",
       "      <th>x15</th>\n",
       "      <th>x26</th>\n",
       "    </tr>\n",
       "  </thead>\n",
       "  <tbody>\n",
       "    <tr>\n",
       "      <th>0</th>\n",
       "      <td>0.21</td>\n",
       "      <td>-0.05</td>\n",
       "      <td>0.1</td>\n",
       "      <td>-0.55</td>\n",
       "      <td>1.0</td>\n",
       "    </tr>\n",
       "    <tr>\n",
       "      <th>1</th>\n",
       "      <td>0.21</td>\n",
       "      <td>-0.05</td>\n",
       "      <td>0.1</td>\n",
       "      <td>-0.55</td>\n",
       "      <td>1.0</td>\n",
       "    </tr>\n",
       "    <tr>\n",
       "      <th>2</th>\n",
       "      <td>0.21</td>\n",
       "      <td>-0.05</td>\n",
       "      <td>0.1</td>\n",
       "      <td>-0.55</td>\n",
       "      <td>1.0</td>\n",
       "    </tr>\n",
       "    <tr>\n",
       "      <th>3</th>\n",
       "      <td>0.21</td>\n",
       "      <td>-0.05</td>\n",
       "      <td>0.1</td>\n",
       "      <td>-0.55</td>\n",
       "      <td>1.0</td>\n",
       "    </tr>\n",
       "    <tr>\n",
       "      <th>4</th>\n",
       "      <td>0.21</td>\n",
       "      <td>-0.05</td>\n",
       "      <td>0.1</td>\n",
       "      <td>-0.55</td>\n",
       "      <td>1.0</td>\n",
       "    </tr>\n",
       "  </tbody>\n",
       "</table>\n",
       "</div>"
      ],
      "text/plain": [
       "     x4    x5  x14   x15  x26\n",
       "0  0.21 -0.05  0.1 -0.55  1.0\n",
       "1  0.21 -0.05  0.1 -0.55  1.0\n",
       "2  0.21 -0.05  0.1 -0.55  1.0\n",
       "3  0.21 -0.05  0.1 -0.55  1.0\n",
       "4  0.21 -0.05  0.1 -0.55  1.0"
      ]
     },
     "execution_count": 16,
     "metadata": {},
     "output_type": "execute_result"
    }
   ],
   "source": [
    "# test dataset - 중앙 쪽 (train 제외 나머지)\n",
    "System1_test = System1_df[2243205:3091932].reset_index(drop=True)\n",
    "System1_test.head()"
   ]
  },
  {
   "cell_type": "code",
   "execution_count": 17,
   "metadata": {},
   "outputs": [
    {
     "name": "stdout",
     "output_type": "stream",
     "text": [
      "(848727, 4) (848727,)\n"
     ]
    }
   ],
   "source": [
    "# X, y 분리 - Test\n",
    "System1_test_x = System1_test.drop('x26', axis=1)\n",
    "System1_test_y = System1_test['x26']\n",
    "\n",
    "print(System1_test_x.shape, System1_test_y.shape)"
   ]
  },
  {
   "cell_type": "code",
   "execution_count": 18,
   "metadata": {},
   "outputs": [
    {
     "data": {
      "text/html": [
       "<style>#sk-container-id-1 {color: black;background-color: white;}#sk-container-id-1 pre{padding: 0;}#sk-container-id-1 div.sk-toggleable {background-color: white;}#sk-container-id-1 label.sk-toggleable__label {cursor: pointer;display: block;width: 100%;margin-bottom: 0;padding: 0.3em;box-sizing: border-box;text-align: center;}#sk-container-id-1 label.sk-toggleable__label-arrow:before {content: \"▸\";float: left;margin-right: 0.25em;color: #696969;}#sk-container-id-1 label.sk-toggleable__label-arrow:hover:before {color: black;}#sk-container-id-1 div.sk-estimator:hover label.sk-toggleable__label-arrow:before {color: black;}#sk-container-id-1 div.sk-toggleable__content {max-height: 0;max-width: 0;overflow: hidden;text-align: left;background-color: #f0f8ff;}#sk-container-id-1 div.sk-toggleable__content pre {margin: 0.2em;color: black;border-radius: 0.25em;background-color: #f0f8ff;}#sk-container-id-1 input.sk-toggleable__control:checked~div.sk-toggleable__content {max-height: 200px;max-width: 100%;overflow: auto;}#sk-container-id-1 input.sk-toggleable__control:checked~label.sk-toggleable__label-arrow:before {content: \"▾\";}#sk-container-id-1 div.sk-estimator input.sk-toggleable__control:checked~label.sk-toggleable__label {background-color: #d4ebff;}#sk-container-id-1 div.sk-label input.sk-toggleable__control:checked~label.sk-toggleable__label {background-color: #d4ebff;}#sk-container-id-1 input.sk-hidden--visually {border: 0;clip: rect(1px 1px 1px 1px);clip: rect(1px, 1px, 1px, 1px);height: 1px;margin: -1px;overflow: hidden;padding: 0;position: absolute;width: 1px;}#sk-container-id-1 div.sk-estimator {font-family: monospace;background-color: #f0f8ff;border: 1px dotted black;border-radius: 0.25em;box-sizing: border-box;margin-bottom: 0.5em;}#sk-container-id-1 div.sk-estimator:hover {background-color: #d4ebff;}#sk-container-id-1 div.sk-parallel-item::after {content: \"\";width: 100%;border-bottom: 1px solid gray;flex-grow: 1;}#sk-container-id-1 div.sk-label:hover label.sk-toggleable__label {background-color: #d4ebff;}#sk-container-id-1 div.sk-serial::before {content: \"\";position: absolute;border-left: 1px solid gray;box-sizing: border-box;top: 0;bottom: 0;left: 50%;z-index: 0;}#sk-container-id-1 div.sk-serial {display: flex;flex-direction: column;align-items: center;background-color: white;padding-right: 0.2em;padding-left: 0.2em;position: relative;}#sk-container-id-1 div.sk-item {position: relative;z-index: 1;}#sk-container-id-1 div.sk-parallel {display: flex;align-items: stretch;justify-content: center;background-color: white;position: relative;}#sk-container-id-1 div.sk-item::before, #sk-container-id-1 div.sk-parallel-item::before {content: \"\";position: absolute;border-left: 1px solid gray;box-sizing: border-box;top: 0;bottom: 0;left: 50%;z-index: -1;}#sk-container-id-1 div.sk-parallel-item {display: flex;flex-direction: column;z-index: 1;position: relative;background-color: white;}#sk-container-id-1 div.sk-parallel-item:first-child::after {align-self: flex-end;width: 50%;}#sk-container-id-1 div.sk-parallel-item:last-child::after {align-self: flex-start;width: 50%;}#sk-container-id-1 div.sk-parallel-item:only-child::after {width: 0;}#sk-container-id-1 div.sk-dashed-wrapped {border: 1px dashed gray;margin: 0 0.4em 0.5em 0.4em;box-sizing: border-box;padding-bottom: 0.4em;background-color: white;}#sk-container-id-1 div.sk-label label {font-family: monospace;font-weight: bold;display: inline-block;line-height: 1.2em;}#sk-container-id-1 div.sk-label-container {text-align: center;}#sk-container-id-1 div.sk-container {/* jupyter's `normalize.less` sets `[hidden] { display: none; }` but bootstrap.min.css set `[hidden] { display: none !important; }` so we also need the `!important` here to be able to override the default hidden behavior on the sphinx rendered scikit-learn.org. See: https://github.com/scikit-learn/scikit-learn/issues/21755 */display: inline-block !important;position: relative;}#sk-container-id-1 div.sk-text-repr-fallback {display: none;}</style><div id=\"sk-container-id-1\" class=\"sk-top-container\"><div class=\"sk-text-repr-fallback\"><pre>LogisticRegression(C=10, max_iter=1000)</pre><b>In a Jupyter environment, please rerun this cell to show the HTML representation or trust the notebook. <br />On GitHub, the HTML representation is unable to render, please try loading this page with nbviewer.org.</b></div><div class=\"sk-container\" hidden><div class=\"sk-item\"><div class=\"sk-estimator sk-toggleable\"><input class=\"sk-toggleable__control sk-hidden--visually\" id=\"sk-estimator-id-1\" type=\"checkbox\" checked><label for=\"sk-estimator-id-1\" class=\"sk-toggleable__label sk-toggleable__label-arrow\">LogisticRegression</label><div class=\"sk-toggleable__content\"><pre>LogisticRegression(C=10, max_iter=1000)</pre></div></div></div></div></div>"
      ],
      "text/plain": [
       "LogisticRegression(C=10, max_iter=1000)"
      ]
     },
     "execution_count": 18,
     "metadata": {},
     "output_type": "execute_result"
    }
   ],
   "source": [
    "# 모델 선언 및 훈련\n",
    "System1_model = LogisticRegression(solver=\"lbfgs\", C=10, tol=1e-4, max_iter=1000)                  \n",
    "System1_model.fit(System1_train_x, System1_train_y)"
   ]
  },
  {
   "cell_type": "code",
   "execution_count": 19,
   "metadata": {},
   "outputs": [
    {
     "name": "stdout",
     "output_type": "stream",
     "text": [
      "Accuracy(정확도): 0.85\n",
      "Presicion(정밀도):  0.87\n",
      "Recall(재현율):  0.91\n",
      "F1_score:  0.89\n"
     ]
    }
   ],
   "source": [
    "# 예측값\n",
    "System1_pred = System1_model.predict(System1_test_x)\n",
    "\n",
    "# 다른 평가지표\n",
    "accuracy = System1_model.score(System1_test_x, System1_test_y)\n",
    "precision = precision_score(System1_test_y, System1_pred)\n",
    "recall = recall_score(System1_test_y, System1_pred)\n",
    "f1 = f1_score(System1_test_y, System1_pred)\n",
    "print(\"Accuracy(정확도):\", accuracy.round(2))\n",
    "print('Presicion(정밀도): ', precision.round(2))\n",
    "print('Recall(재현율): ', recall.round(2))\n",
    "print('F1_score: ', f1.round(2))"
   ]
  },
  {
   "cell_type": "code",
   "execution_count": 20,
   "metadata": {},
   "outputs": [
    {
     "data": {
      "image/png": "[encoded data removed]",
      "text/plain": [
       "<Figure size 1200x800 with 1 Axes>"
      ]
     },
     "metadata": {},
     "output_type": "display_data"
    }
   ],
   "source": [
    "# 확률\n",
    "System1_prob = System1_model.predict_proba(System1_test_x)\n",
    "\n",
    "# 시각화\n",
    "plt.figure(figsize=(12, 8))\n",
    "plt.plot(System1_test_y, label='label (state)')\n",
    "plt.plot(System1_prob[:,1], label='abnormal prob')\n",
    "plt.legend()\n",
    "plt.title('System1 model')\n",
    "plt.show()"
   ]
  },
  {
   "cell_type": "markdown",
   "metadata": {},
   "source": [
    "### System 2"
   ]
  },
  {
   "cell_type": "code",
   "execution_count": 21,
   "metadata": {},
   "outputs": [
    {
     "data": {
      "text/html": [
       "<div>\n",
       "<style scoped>\n",
       "    .dataframe tbody tr th:only-of-type {\n",
       "        vertical-align: middle;\n",
       "    }\n",
       "\n",
       "    .dataframe tbody tr th {\n",
       "        vertical-align: top;\n",
       "    }\n",
       "\n",
       "    .dataframe thead th {\n",
       "        text-align: right;\n",
       "    }\n",
       "</style>\n",
       "<table border=\"1\" class=\"dataframe\">\n",
       "  <thead>\n",
       "    <tr style=\"text-align: right;\">\n",
       "      <th></th>\n",
       "      <th>System2 PCA</th>\n",
       "      <th>x26</th>\n",
       "    </tr>\n",
       "  </thead>\n",
       "  <tbody>\n",
       "    <tr>\n",
       "      <th>0</th>\n",
       "      <td>6.601154</td>\n",
       "      <td>1.0</td>\n",
       "    </tr>\n",
       "    <tr>\n",
       "      <th>1</th>\n",
       "      <td>6.589466</td>\n",
       "      <td>1.0</td>\n",
       "    </tr>\n",
       "    <tr>\n",
       "      <th>2</th>\n",
       "      <td>6.589273</td>\n",
       "      <td>1.0</td>\n",
       "    </tr>\n",
       "    <tr>\n",
       "      <th>3</th>\n",
       "      <td>6.577585</td>\n",
       "      <td>1.0</td>\n",
       "    </tr>\n",
       "    <tr>\n",
       "      <th>4</th>\n",
       "      <td>6.565917</td>\n",
       "      <td>1.0</td>\n",
       "    </tr>\n",
       "  </tbody>\n",
       "</table>\n",
       "</div>"
      ],
      "text/plain": [
       "   System2 PCA  x26\n",
       "0     6.601154  1.0\n",
       "1     6.589466  1.0\n",
       "2     6.589273  1.0\n",
       "3     6.577585  1.0\n",
       "4     6.565917  1.0"
      ]
     },
     "execution_count": 21,
     "metadata": {},
     "output_type": "execute_result"
    }
   ],
   "source": [
    "# Train dataset - 양 끝의 정상, 비정상\n",
    "System2_train_abnormal = System2_df[:2243205]\n",
    "System2_train_normal = System2_df[3091932:]\n",
    "System2_train = pd.concat([System2_train_abnormal, System2_train_normal]).reset_index(drop=True) # 하나로 묶음\n",
    "System2_train.head()"
   ]
  },
  {
   "cell_type": "code",
   "execution_count": 22,
   "metadata": {},
   "outputs": [
    {
     "name": "stdout",
     "output_type": "stream",
     "text": [
      "(3394904, 1) (3394904,)\n"
     ]
    }
   ],
   "source": [
    "# 셔플 안 하고 X, y 분리 - Train\n",
    "System2_train_x = System2_train.drop('x26', axis=1)\n",
    "System2_train_y = System2_train['x26']\n",
    "\n",
    "print(System2_train_x.shape, System2_train_y.shape)"
   ]
  },
  {
   "cell_type": "code",
   "execution_count": 23,
   "metadata": {},
   "outputs": [
    {
     "data": {
      "text/html": [
       "<div>\n",
       "<style scoped>\n",
       "    .dataframe tbody tr th:only-of-type {\n",
       "        vertical-align: middle;\n",
       "    }\n",
       "\n",
       "    .dataframe tbody tr th {\n",
       "        vertical-align: top;\n",
       "    }\n",
       "\n",
       "    .dataframe thead th {\n",
       "        text-align: right;\n",
       "    }\n",
       "</style>\n",
       "<table border=\"1\" class=\"dataframe\">\n",
       "  <thead>\n",
       "    <tr style=\"text-align: right;\">\n",
       "      <th></th>\n",
       "      <th>System2 PCA</th>\n",
       "      <th>x26</th>\n",
       "    </tr>\n",
       "  </thead>\n",
       "  <tbody>\n",
       "    <tr>\n",
       "      <th>0</th>\n",
       "      <td>-0.225522</td>\n",
       "      <td>1.0</td>\n",
       "    </tr>\n",
       "    <tr>\n",
       "      <th>1</th>\n",
       "      <td>-0.225522</td>\n",
       "      <td>1.0</td>\n",
       "    </tr>\n",
       "    <tr>\n",
       "      <th>2</th>\n",
       "      <td>-0.225522</td>\n",
       "      <td>1.0</td>\n",
       "    </tr>\n",
       "    <tr>\n",
       "      <th>3</th>\n",
       "      <td>-0.225522</td>\n",
       "      <td>1.0</td>\n",
       "    </tr>\n",
       "    <tr>\n",
       "      <th>4</th>\n",
       "      <td>-0.225522</td>\n",
       "      <td>1.0</td>\n",
       "    </tr>\n",
       "  </tbody>\n",
       "</table>\n",
       "</div>"
      ],
      "text/plain": [
       "   System2 PCA  x26\n",
       "0    -0.225522  1.0\n",
       "1    -0.225522  1.0\n",
       "2    -0.225522  1.0\n",
       "3    -0.225522  1.0\n",
       "4    -0.225522  1.0"
      ]
     },
     "execution_count": 23,
     "metadata": {},
     "output_type": "execute_result"
    }
   ],
   "source": [
    "# test dataset - 중앙 쪽 (train 제외 나머지)\n",
    "System2_test = System2_df[2243205:3091932].reset_index(drop=True)\n",
    "System2_test.head()"
   ]
  },
  {
   "cell_type": "code",
   "execution_count": 24,
   "metadata": {},
   "outputs": [
    {
     "name": "stdout",
     "output_type": "stream",
     "text": [
      "(848727, 1) (848727,)\n"
     ]
    }
   ],
   "source": [
    "# X, y 분리 - Test\n",
    "System2_test_x = System2_test.drop('x26', axis=1)\n",
    "System2_test_y = System2_test['x26']\n",
    "\n",
    "print(System2_test_x.shape, System2_test_y.shape)"
   ]
  },
  {
   "cell_type": "code",
   "execution_count": 25,
   "metadata": {},
   "outputs": [
    {
     "data": {
      "text/html": [
       "<style>#sk-container-id-2 {color: black;background-color: white;}#sk-container-id-2 pre{padding: 0;}#sk-container-id-2 div.sk-toggleable {background-color: white;}#sk-container-id-2 label.sk-toggleable__label {cursor: pointer;display: block;width: 100%;margin-bottom: 0;padding: 0.3em;box-sizing: border-box;text-align: center;}#sk-container-id-2 label.sk-toggleable__label-arrow:before {content: \"▸\";float: left;margin-right: 0.25em;color: #696969;}#sk-container-id-2 label.sk-toggleable__label-arrow:hover:before {color: black;}#sk-container-id-2 div.sk-estimator:hover label.sk-toggleable__label-arrow:before {color: black;}#sk-container-id-2 div.sk-toggleable__content {max-height: 0;max-width: 0;overflow: hidden;text-align: left;background-color: #f0f8ff;}#sk-container-id-2 div.sk-toggleable__content pre {margin: 0.2em;color: black;border-radius: 0.25em;background-color: #f0f8ff;}#sk-container-id-2 input.sk-toggleable__control:checked~div.sk-toggleable__content {max-height: 200px;max-width: 100%;overflow: auto;}#sk-container-id-2 input.sk-toggleable__control:checked~label.sk-toggleable__label-arrow:before {content: \"▾\";}#sk-container-id-2 div.sk-estimator input.sk-toggleable__control:checked~label.sk-toggleable__label {background-color: #d4ebff;}#sk-container-id-2 div.sk-label input.sk-toggleable__control:checked~label.sk-toggleable__label {background-color: #d4ebff;}#sk-container-id-2 input.sk-hidden--visually {border: 0;clip: rect(1px 1px 1px 1px);clip: rect(1px, 1px, 1px, 1px);height: 1px;margin: -1px;overflow: hidden;padding: 0;position: absolute;width: 1px;}#sk-container-id-2 div.sk-estimator {font-family: monospace;background-color: #f0f8ff;border: 1px dotted black;border-radius: 0.25em;box-sizing: border-box;margin-bottom: 0.5em;}#sk-container-id-2 div.sk-estimator:hover {background-color: #d4ebff;}#sk-container-id-2 div.sk-parallel-item::after {content: \"\";width: 100%;border-bottom: 1px solid gray;flex-grow: 1;}#sk-container-id-2 div.sk-label:hover label.sk-toggleable__label {background-color: #d4ebff;}#sk-container-id-2 div.sk-serial::before {content: \"\";position: absolute;border-left: 1px solid gray;box-sizing: border-box;top: 0;bottom: 0;left: 50%;z-index: 0;}#sk-container-id-2 div.sk-serial {display: flex;flex-direction: column;align-items: center;background-color: white;padding-right: 0.2em;padding-left: 0.2em;position: relative;}#sk-container-id-2 div.sk-item {position: relative;z-index: 1;}#sk-container-id-2 div.sk-parallel {display: flex;align-items: stretch;justify-content: center;background-color: white;position: relative;}#sk-container-id-2 div.sk-item::before, #sk-container-id-2 div.sk-parallel-item::before {content: \"\";position: absolute;border-left: 1px solid gray;box-sizing: border-box;top: 0;bottom: 0;left: 50%;z-index: -1;}#sk-container-id-2 div.sk-parallel-item {display: flex;flex-direction: column;z-index: 1;position: relative;background-color: white;}#sk-container-id-2 div.sk-parallel-item:first-child::after {align-self: flex-end;width: 50%;}#sk-container-id-2 div.sk-parallel-item:last-child::after {align-self: flex-start;width: 50%;}#sk-container-id-2 div.sk-parallel-item:only-child::after {width: 0;}#sk-container-id-2 div.sk-dashed-wrapped {border: 1px dashed gray;margin: 0 0.4em 0.5em 0.4em;box-sizing: border-box;padding-bottom: 0.4em;background-color: white;}#sk-container-id-2 div.sk-label label {font-family: monospace;font-weight: bold;display: inline-block;line-height: 1.2em;}#sk-container-id-2 div.sk-label-container {text-align: center;}#sk-container-id-2 div.sk-container {/* jupyter's `normalize.less` sets `[hidden] { display: none; }` but bootstrap.min.css set `[hidden] { display: none !important; }` so we also need the `!important` here to be able to override the default hidden behavior on the sphinx rendered scikit-learn.org. See: https://github.com/scikit-learn/scikit-learn/issues/21755 */display: inline-block !important;position: relative;}#sk-container-id-2 div.sk-text-repr-fallback {display: none;}</style><div id=\"sk-container-id-2\" class=\"sk-top-container\"><div class=\"sk-text-repr-fallback\"><pre>LogisticRegression(C=10, max_iter=1000)</pre><b>In a Jupyter environment, please rerun this cell to show the HTML representation or trust the notebook. <br />On GitHub, the HTML representation is unable to render, please try loading this page with nbviewer.org.</b></div><div class=\"sk-container\" hidden><div class=\"sk-item\"><div class=\"sk-estimator sk-toggleable\"><input class=\"sk-toggleable__control sk-hidden--visually\" id=\"sk-estimator-id-2\" type=\"checkbox\" checked><label for=\"sk-estimator-id-2\" class=\"sk-toggleable__label sk-toggleable__label-arrow\">LogisticRegression</label><div class=\"sk-toggleable__content\"><pre>LogisticRegression(C=10, max_iter=1000)</pre></div></div></div></div></div>"
      ],
      "text/plain": [
       "LogisticRegression(C=10, max_iter=1000)"
      ]
     },
     "execution_count": 25,
     "metadata": {},
     "output_type": "execute_result"
    }
   ],
   "source": [
    "# 모델 선언 및 훈련\n",
    "System2_model = LogisticRegression(solver=\"lbfgs\", C=10, tol=1e-4, max_iter=1000)                  \n",
    "System2_model.fit(System2_train_x, System2_train_y)"
   ]
  },
  {
   "cell_type": "code",
   "execution_count": 26,
   "metadata": {},
   "outputs": [
    {
     "name": "stdout",
     "output_type": "stream",
     "text": [
      "Accuracy(정확도): 0.95\n",
      "Presicion(정밀도):  0.95\n",
      "Recall(재현율):  0.97\n",
      "F1_score:  0.96\n"
     ]
    }
   ],
   "source": [
    "# 예측값\n",
    "System2_pred = System2_model.predict(System2_test_x)\n",
    "\n",
    "# 다른 평가지표\n",
    "accuracy = System2_model.score(System2_test_x, System2_test_y)\n",
    "precision = precision_score(System2_test_y, System2_pred)\n",
    "recall = recall_score(System2_test_y, System2_pred)\n",
    "f1 = f1_score(System2_test_y, System2_pred)\n",
    "print(\"Accuracy(정확도):\", accuracy.round(2))\n",
    "print('Presicion(정밀도): ', precision.round(2))\n",
    "print('Recall(재현율): ', recall.round(2))\n",
    "print('F1_score: ', f1.round(2))"
   ]
  },
  {
   "cell_type": "code",
   "execution_count": 27,
   "metadata": {},
   "outputs": [
    {
     "data": {
      "image/png": "[encoded data removed]",
      "text/plain": [
       "<Figure size 1200x800 with 1 Axes>"
      ]
     },
     "metadata": {},
     "output_type": "display_data"
    }
   ],
   "source": [
    "# 확률\n",
    "System2_prob = System2_model.predict_proba(System2_test_x)\n",
    "\n",
    "# 시각화\n",
    "plt.figure(figsize=(12, 8))\n",
    "plt.plot(System2_test_y, label='label (state)')\n",
    "plt.plot(System2_prob[:,1], label='abnormal prob')\n",
    "plt.legend()\n",
    "plt.title('System2 model')\n",
    "plt.show()"
   ]
  },
  {
   "cell_type": "markdown",
   "metadata": {},
   "source": [
    "### System 3"
   ]
  },
  {
   "cell_type": "code",
   "execution_count": 28,
   "metadata": {},
   "outputs": [
    {
     "data": {
      "text/html": [
       "<div>\n",
       "<style scoped>\n",
       "    .dataframe tbody tr th:only-of-type {\n",
       "        vertical-align: middle;\n",
       "    }\n",
       "\n",
       "    .dataframe tbody tr th {\n",
       "        vertical-align: top;\n",
       "    }\n",
       "\n",
       "    .dataframe thead th {\n",
       "        text-align: right;\n",
       "    }\n",
       "</style>\n",
       "<table border=\"1\" class=\"dataframe\">\n",
       "  <thead>\n",
       "    <tr style=\"text-align: right;\">\n",
       "      <th></th>\n",
       "      <th>x3</th>\n",
       "      <th>System3 PCA</th>\n",
       "      <th>x26</th>\n",
       "    </tr>\n",
       "  </thead>\n",
       "  <tbody>\n",
       "    <tr>\n",
       "      <th>0</th>\n",
       "      <td>-1.84</td>\n",
       "      <td>1.209058</td>\n",
       "      <td>1.0</td>\n",
       "    </tr>\n",
       "    <tr>\n",
       "      <th>1</th>\n",
       "      <td>-1.83</td>\n",
       "      <td>1.209058</td>\n",
       "      <td>1.0</td>\n",
       "    </tr>\n",
       "    <tr>\n",
       "      <th>2</th>\n",
       "      <td>-1.82</td>\n",
       "      <td>1.216129</td>\n",
       "      <td>1.0</td>\n",
       "    </tr>\n",
       "    <tr>\n",
       "      <th>3</th>\n",
       "      <td>-1.81</td>\n",
       "      <td>1.216129</td>\n",
       "      <td>1.0</td>\n",
       "    </tr>\n",
       "    <tr>\n",
       "      <th>4</th>\n",
       "      <td>-1.80</td>\n",
       "      <td>1.209058</td>\n",
       "      <td>1.0</td>\n",
       "    </tr>\n",
       "  </tbody>\n",
       "</table>\n",
       "</div>"
      ],
      "text/plain": [
       "     x3  System3 PCA  x26\n",
       "0 -1.84     1.209058  1.0\n",
       "1 -1.83     1.209058  1.0\n",
       "2 -1.82     1.216129  1.0\n",
       "3 -1.81     1.216129  1.0\n",
       "4 -1.80     1.209058  1.0"
      ]
     },
     "execution_count": 28,
     "metadata": {},
     "output_type": "execute_result"
    }
   ],
   "source": [
    "# Train dataset - 양 끝의 정상, 비정상\n",
    "System3_train_abnormal = System3_df[:2243205]\n",
    "System3_train_normal = System3_df[3091932:]\n",
    "System3_train = pd.concat([System3_train_abnormal, System3_train_normal]).reset_index(drop=True) # 하나로 묶음\n",
    "System3_train.head()"
   ]
  },
  {
   "cell_type": "code",
   "execution_count": 29,
   "metadata": {},
   "outputs": [
    {
     "name": "stdout",
     "output_type": "stream",
     "text": [
      "(3394904, 2) (3394904,)\n"
     ]
    }
   ],
   "source": [
    "# 셔플 안 하고 X, y 분리 - Train\n",
    "System3_train_x = System3_train.drop('x26', axis=1)\n",
    "System3_train_y = System3_train['x26']\n",
    "\n",
    "print(System3_train_x.shape, System3_train_y.shape)"
   ]
  },
  {
   "cell_type": "code",
   "execution_count": 30,
   "metadata": {},
   "outputs": [
    {
     "data": {
      "text/html": [
       "<div>\n",
       "<style scoped>\n",
       "    .dataframe tbody tr th:only-of-type {\n",
       "        vertical-align: middle;\n",
       "    }\n",
       "\n",
       "    .dataframe tbody tr th {\n",
       "        vertical-align: top;\n",
       "    }\n",
       "\n",
       "    .dataframe thead th {\n",
       "        text-align: right;\n",
       "    }\n",
       "</style>\n",
       "<table border=\"1\" class=\"dataframe\">\n",
       "  <thead>\n",
       "    <tr style=\"text-align: right;\">\n",
       "      <th></th>\n",
       "      <th>x3</th>\n",
       "      <th>System3 PCA</th>\n",
       "      <th>x26</th>\n",
       "    </tr>\n",
       "  </thead>\n",
       "  <tbody>\n",
       "    <tr>\n",
       "      <th>0</th>\n",
       "      <td>-0.83</td>\n",
       "      <td>-0.162729</td>\n",
       "      <td>1.0</td>\n",
       "    </tr>\n",
       "    <tr>\n",
       "      <th>1</th>\n",
       "      <td>-0.83</td>\n",
       "      <td>-0.162729</td>\n",
       "      <td>1.0</td>\n",
       "    </tr>\n",
       "    <tr>\n",
       "      <th>2</th>\n",
       "      <td>-0.83</td>\n",
       "      <td>-0.162729</td>\n",
       "      <td>1.0</td>\n",
       "    </tr>\n",
       "    <tr>\n",
       "      <th>3</th>\n",
       "      <td>-0.82</td>\n",
       "      <td>-0.162729</td>\n",
       "      <td>1.0</td>\n",
       "    </tr>\n",
       "    <tr>\n",
       "      <th>4</th>\n",
       "      <td>-0.82</td>\n",
       "      <td>-0.162729</td>\n",
       "      <td>1.0</td>\n",
       "    </tr>\n",
       "  </tbody>\n",
       "</table>\n",
       "</div>"
      ],
      "text/plain": [
       "     x3  System3 PCA  x26\n",
       "0 -0.83    -0.162729  1.0\n",
       "1 -0.83    -0.162729  1.0\n",
       "2 -0.83    -0.162729  1.0\n",
       "3 -0.82    -0.162729  1.0\n",
       "4 -0.82    -0.162729  1.0"
      ]
     },
     "execution_count": 30,
     "metadata": {},
     "output_type": "execute_result"
    }
   ],
   "source": [
    "# test dataset - 중앙 쪽 (train 제외 나머지)\n",
    "System3_test = System3_df[2243205:3091932].reset_index(drop=True)\n",
    "System3_test.head()"
   ]
  },
  {
   "cell_type": "code",
   "execution_count": 31,
   "metadata": {},
   "outputs": [
    {
     "name": "stdout",
     "output_type": "stream",
     "text": [
      "(848727, 2) (848727,)\n"
     ]
    }
   ],
   "source": [
    "# X, y 분리 - Test\n",
    "System3_test_x = System3_test.drop('x26', axis=1)\n",
    "System3_test_y = System3_test['x26']\n",
    "\n",
    "print(System3_test_x.shape, System3_test_y.shape)"
   ]
  },
  {
   "cell_type": "code",
   "execution_count": 32,
   "metadata": {},
   "outputs": [
    {
     "data": {
      "text/html": [
       "<style>#sk-container-id-3 {color: black;background-color: white;}#sk-container-id-3 pre{padding: 0;}#sk-container-id-3 div.sk-toggleable {background-color: white;}#sk-container-id-3 label.sk-toggleable__label {cursor: pointer;display: block;width: 100%;margin-bottom: 0;padding: 0.3em;box-sizing: border-box;text-align: center;}#sk-container-id-3 label.sk-toggleable__label-arrow:before {content: \"▸\";float: left;margin-right: 0.25em;color: #696969;}#sk-container-id-3 label.sk-toggleable__label-arrow:hover:before {color: black;}#sk-container-id-3 div.sk-estimator:hover label.sk-toggleable__label-arrow:before {color: black;}#sk-container-id-3 div.sk-toggleable__content {max-height: 0;max-width: 0;overflow: hidden;text-align: left;background-color: #f0f8ff;}#sk-container-id-3 div.sk-toggleable__content pre {margin: 0.2em;color: black;border-radius: 0.25em;background-color: #f0f8ff;}#sk-container-id-3 input.sk-toggleable__control:checked~div.sk-toggleable__content {max-height: 200px;max-width: 100%;overflow: auto;}#sk-container-id-3 input.sk-toggleable__control:checked~label.sk-toggleable__label-arrow:before {content: \"▾\";}#sk-container-id-3 div.sk-estimator input.sk-toggleable__control:checked~label.sk-toggleable__label {background-color: #d4ebff;}#sk-container-id-3 div.sk-label input.sk-toggleable__control:checked~label.sk-toggleable__label {background-color: #d4ebff;}#sk-container-id-3 input.sk-hidden--visually {border: 0;clip: rect(1px 1px 1px 1px);clip: rect(1px, 1px, 1px, 1px);height: 1px;margin: -1px;overflow: hidden;padding: 0;position: absolute;width: 1px;}#sk-container-id-3 div.sk-estimator {font-family: monospace;background-color: #f0f8ff;border: 1px dotted black;border-radius: 0.25em;box-sizing: border-box;margin-bottom: 0.5em;}#sk-container-id-3 div.sk-estimator:hover {background-color: #d4ebff;}#sk-container-id-3 div.sk-parallel-item::after {content: \"\";width: 100%;border-bottom: 1px solid gray;flex-grow: 1;}#sk-container-id-3 div.sk-label:hover label.sk-toggleable__label {background-color: #d4ebff;}#sk-container-id-3 div.sk-serial::before {content: \"\";position: absolute;border-left: 1px solid gray;box-sizing: border-box;top: 0;bottom: 0;left: 50%;z-index: 0;}#sk-container-id-3 div.sk-serial {display: flex;flex-direction: column;align-items: center;background-color: white;padding-right: 0.2em;padding-left: 0.2em;position: relative;}#sk-container-id-3 div.sk-item {position: relative;z-index: 1;}#sk-container-id-3 div.sk-parallel {display: flex;align-items: stretch;justify-content: center;background-color: white;position: relative;}#sk-container-id-3 div.sk-item::before, #sk-container-id-3 div.sk-parallel-item::before {content: \"\";position: absolute;border-left: 1px solid gray;box-sizing: border-box;top: 0;bottom: 0;left: 50%;z-index: -1;}#sk-container-id-3 div.sk-parallel-item {display: flex;flex-direction: column;z-index: 1;position: relative;background-color: white;}#sk-container-id-3 div.sk-parallel-item:first-child::after {align-self: flex-end;width: 50%;}#sk-container-id-3 div.sk-parallel-item:last-child::after {align-self: flex-start;width: 50%;}#sk-container-id-3 div.sk-parallel-item:only-child::after {width: 0;}#sk-container-id-3 div.sk-dashed-wrapped {border: 1px dashed gray;margin: 0 0.4em 0.5em 0.4em;box-sizing: border-box;padding-bottom: 0.4em;background-color: white;}#sk-container-id-3 div.sk-label label {font-family: monospace;font-weight: bold;display: inline-block;line-height: 1.2em;}#sk-container-id-3 div.sk-label-container {text-align: center;}#sk-container-id-3 div.sk-container {/* jupyter's `normalize.less` sets `[hidden] { display: none; }` but bootstrap.min.css set `[hidden] { display: none !important; }` so we also need the `!important` here to be able to override the default hidden behavior on the sphinx rendered scikit-learn.org. See: https://github.com/scikit-learn/scikit-learn/issues/21755 */display: inline-block !important;position: relative;}#sk-container-id-3 div.sk-text-repr-fallback {display: none;}</style><div id=\"sk-container-id-3\" class=\"sk-top-container\"><div class=\"sk-text-repr-fallback\"><pre>LogisticRegression(C=10, max_iter=1000)</pre><b>In a Jupyter environment, please rerun this cell to show the HTML representation or trust the notebook. <br />On GitHub, the HTML representation is unable to render, please try loading this page with nbviewer.org.</b></div><div class=\"sk-container\" hidden><div class=\"sk-item\"><div class=\"sk-estimator sk-toggleable\"><input class=\"sk-toggleable__control sk-hidden--visually\" id=\"sk-estimator-id-3\" type=\"checkbox\" checked><label for=\"sk-estimator-id-3\" class=\"sk-toggleable__label sk-toggleable__label-arrow\">LogisticRegression</label><div class=\"sk-toggleable__content\"><pre>LogisticRegression(C=10, max_iter=1000)</pre></div></div></div></div></div>"
      ],
      "text/plain": [
       "LogisticRegression(C=10, max_iter=1000)"
      ]
     },
     "execution_count": 32,
     "metadata": {},
     "output_type": "execute_result"
    }
   ],
   "source": [
    "# 모델 선언 및 훈련\n",
    "System3_model = LogisticRegression(solver=\"lbfgs\", C=10, tol=1e-4, max_iter=1000)                  \n",
    "System3_model.fit(System3_train_x, System3_train_y)"
   ]
  },
  {
   "cell_type": "code",
   "execution_count": 33,
   "metadata": {},
   "outputs": [
    {
     "name": "stdout",
     "output_type": "stream",
     "text": [
      "Accuracy(정확도): 0.96\n",
      "Presicion(정밀도):  0.94\n",
      "Recall(재현율):  1.0\n",
      "F1_score:  0.97\n"
     ]
    }
   ],
   "source": [
    "# 예측값\n",
    "System3_pred = System3_model.predict(System3_test_x)\n",
    "\n",
    "# 다른 평가지표\n",
    "accuracy = System3_model.score(System3_test_x, System3_test_y)\n",
    "precision = precision_score(System3_test_y, System3_pred)\n",
    "recall = recall_score(System3_test_y, System3_pred)\n",
    "f1 = f1_score(System3_test_y, System3_pred)\n",
    "print(\"Accuracy(정확도):\", accuracy.round(2))\n",
    "print('Presicion(정밀도): ', precision.round(2))\n",
    "print('Recall(재현율): ', recall.round(2))\n",
    "print('F1_score: ', f1.round(2))"
   ]
  },
  {
   "cell_type": "code",
   "execution_count": 34,
   "metadata": {},
   "outputs": [
    {
     "data": {
      "image/png": "[encoded data removed]",
      "text/plain": [
       "<Figure size 1200x800 with 1 Axes>"
      ]
     },
     "metadata": {},
     "output_type": "display_data"
    }
   ],
   "source": [
    "# 확률\n",
    "System3_prob = System3_model.predict_proba(System3_test_x)\n",
    "\n",
    "# 시각화\n",
    "plt.figure(figsize=(12, 8))\n",
    "plt.plot(System3_test_y, label='label (state)')\n",
    "plt.plot(System3_prob[:,1], label='abnormal prob')\n",
    "plt.legend()\n",
    "plt.title('System3 model')\n",
    "plt.show()"
   ]
  },
  {
   "cell_type": "markdown",
   "metadata": {},
   "source": [
    "### System 4"
   ]
  },
  {
   "cell_type": "code",
   "execution_count": 35,
   "metadata": {},
   "outputs": [
    {
     "data": {
      "text/html": [
       "<div>\n",
       "<style scoped>\n",
       "    .dataframe tbody tr th:only-of-type {\n",
       "        vertical-align: middle;\n",
       "    }\n",
       "\n",
       "    .dataframe tbody tr th {\n",
       "        vertical-align: top;\n",
       "    }\n",
       "\n",
       "    .dataframe thead th {\n",
       "        text-align: right;\n",
       "    }\n",
       "</style>\n",
       "<table border=\"1\" class=\"dataframe\">\n",
       "  <thead>\n",
       "    <tr style=\"text-align: right;\">\n",
       "      <th></th>\n",
       "      <th>x3</th>\n",
       "      <th>System4 PCA</th>\n",
       "      <th>x26</th>\n",
       "    </tr>\n",
       "  </thead>\n",
       "  <tbody>\n",
       "    <tr>\n",
       "      <th>0</th>\n",
       "      <td>-1.84</td>\n",
       "      <td>1.499195</td>\n",
       "      <td>1.0</td>\n",
       "    </tr>\n",
       "    <tr>\n",
       "      <th>1</th>\n",
       "      <td>-1.83</td>\n",
       "      <td>1.513337</td>\n",
       "      <td>1.0</td>\n",
       "    </tr>\n",
       "    <tr>\n",
       "      <th>2</th>\n",
       "      <td>-1.82</td>\n",
       "      <td>1.527479</td>\n",
       "      <td>1.0</td>\n",
       "    </tr>\n",
       "    <tr>\n",
       "      <th>3</th>\n",
       "      <td>-1.81</td>\n",
       "      <td>1.534550</td>\n",
       "      <td>1.0</td>\n",
       "    </tr>\n",
       "    <tr>\n",
       "      <th>4</th>\n",
       "      <td>-1.80</td>\n",
       "      <td>1.541621</td>\n",
       "      <td>1.0</td>\n",
       "    </tr>\n",
       "  </tbody>\n",
       "</table>\n",
       "</div>"
      ],
      "text/plain": [
       "     x3  System4 PCA  x26\n",
       "0 -1.84     1.499195  1.0\n",
       "1 -1.83     1.513337  1.0\n",
       "2 -1.82     1.527479  1.0\n",
       "3 -1.81     1.534550  1.0\n",
       "4 -1.80     1.541621  1.0"
      ]
     },
     "execution_count": 35,
     "metadata": {},
     "output_type": "execute_result"
    }
   ],
   "source": [
    "# Train dataset - 양 끝의 정상, 비정상\n",
    "System4_train_abnormal = System4_df[:2243205]\n",
    "System4_train_normal = System4_df[3091932:]\n",
    "System4_train = pd.concat([System4_train_abnormal, System4_train_normal]).reset_index(drop=True) # 하나로 묶음\n",
    "System4_train.head()"
   ]
  },
  {
   "cell_type": "code",
   "execution_count": 36,
   "metadata": {},
   "outputs": [
    {
     "name": "stdout",
     "output_type": "stream",
     "text": [
      "(3394904, 2) (3394904,)\n"
     ]
    }
   ],
   "source": [
    "# 셔플 안 하고 X, y 분리 - Train\n",
    "System4_train_x = System4_train.drop('x26', axis=1)\n",
    "System4_train_y = System4_train['x26']\n",
    "\n",
    "print(System4_train_x.shape, System4_train_y.shape)"
   ]
  },
  {
   "cell_type": "code",
   "execution_count": 37,
   "metadata": {},
   "outputs": [
    {
     "data": {
      "text/html": [
       "<div>\n",
       "<style scoped>\n",
       "    .dataframe tbody tr th:only-of-type {\n",
       "        vertical-align: middle;\n",
       "    }\n",
       "\n",
       "    .dataframe tbody tr th {\n",
       "        vertical-align: top;\n",
       "    }\n",
       "\n",
       "    .dataframe thead th {\n",
       "        text-align: right;\n",
       "    }\n",
       "</style>\n",
       "<table border=\"1\" class=\"dataframe\">\n",
       "  <thead>\n",
       "    <tr style=\"text-align: right;\">\n",
       "      <th></th>\n",
       "      <th>x3</th>\n",
       "      <th>System4 PCA</th>\n",
       "      <th>x26</th>\n",
       "    </tr>\n",
       "  </thead>\n",
       "  <tbody>\n",
       "    <tr>\n",
       "      <th>0</th>\n",
       "      <td>-0.83</td>\n",
       "      <td>-1.223194</td>\n",
       "      <td>1.0</td>\n",
       "    </tr>\n",
       "    <tr>\n",
       "      <th>1</th>\n",
       "      <td>-0.83</td>\n",
       "      <td>-1.216122</td>\n",
       "      <td>1.0</td>\n",
       "    </tr>\n",
       "    <tr>\n",
       "      <th>2</th>\n",
       "      <td>-0.83</td>\n",
       "      <td>-1.216122</td>\n",
       "      <td>1.0</td>\n",
       "    </tr>\n",
       "    <tr>\n",
       "      <th>3</th>\n",
       "      <td>-0.82</td>\n",
       "      <td>-1.209052</td>\n",
       "      <td>1.0</td>\n",
       "    </tr>\n",
       "    <tr>\n",
       "      <th>4</th>\n",
       "      <td>-0.82</td>\n",
       "      <td>-1.209052</td>\n",
       "      <td>1.0</td>\n",
       "    </tr>\n",
       "  </tbody>\n",
       "</table>\n",
       "</div>"
      ],
      "text/plain": [
       "     x3  System4 PCA  x26\n",
       "0 -0.83    -1.223194  1.0\n",
       "1 -0.83    -1.216122  1.0\n",
       "2 -0.83    -1.216122  1.0\n",
       "3 -0.82    -1.209052  1.0\n",
       "4 -0.82    -1.209052  1.0"
      ]
     },
     "execution_count": 37,
     "metadata": {},
     "output_type": "execute_result"
    }
   ],
   "source": [
    "# test dataset - 중앙 쪽 (train 제외 나머지)\n",
    "System4_test = System4_df[2243205:3091932].reset_index(drop=True)\n",
    "System4_test.head()"
   ]
  },
  {
   "cell_type": "code",
   "execution_count": 38,
   "metadata": {},
   "outputs": [
    {
     "name": "stdout",
     "output_type": "stream",
     "text": [
      "(848727, 2) (848727,)\n"
     ]
    }
   ],
   "source": [
    "# X, y 분리 - Test\n",
    "System4_test_x = System4_test.drop('x26', axis=1)\n",
    "System4_test_y = System4_test['x26']\n",
    "\n",
    "print(System4_test_x.shape, System4_test_y.shape)"
   ]
  },
  {
   "cell_type": "code",
   "execution_count": 39,
   "metadata": {},
   "outputs": [
    {
     "data": {
      "text/html": [
       "<style>#sk-container-id-4 {color: black;background-color: white;}#sk-container-id-4 pre{padding: 0;}#sk-container-id-4 div.sk-toggleable {background-color: white;}#sk-container-id-4 label.sk-toggleable__label {cursor: pointer;display: block;width: 100%;margin-bottom: 0;padding: 0.3em;box-sizing: border-box;text-align: center;}#sk-container-id-4 label.sk-toggleable__label-arrow:before {content: \"▸\";float: left;margin-right: 0.25em;color: #696969;}#sk-container-id-4 label.sk-toggleable__label-arrow:hover:before {color: black;}#sk-container-id-4 div.sk-estimator:hover label.sk-toggleable__label-arrow:before {color: black;}#sk-container-id-4 div.sk-toggleable__content {max-height: 0;max-width: 0;overflow: hidden;text-align: left;background-color: #f0f8ff;}#sk-container-id-4 div.sk-toggleable__content pre {margin: 0.2em;color: black;border-radius: 0.25em;background-color: #f0f8ff;}#sk-container-id-4 input.sk-toggleable__control:checked~div.sk-toggleable__content {max-height: 200px;max-width: 100%;overflow: auto;}#sk-container-id-4 input.sk-toggleable__control:checked~label.sk-toggleable__label-arrow:before {content: \"▾\";}#sk-container-id-4 div.sk-estimator input.sk-toggleable__control:checked~label.sk-toggleable__label {background-color: #d4ebff;}#sk-container-id-4 div.sk-label input.sk-toggleable__control:checked~label.sk-toggleable__label {background-color: #d4ebff;}#sk-container-id-4 input.sk-hidden--visually {border: 0;clip: rect(1px 1px 1px 1px);clip: rect(1px, 1px, 1px, 1px);height: 1px;margin: -1px;overflow: hidden;padding: 0;position: absolute;width: 1px;}#sk-container-id-4 div.sk-estimator {font-family: monospace;background-color: #f0f8ff;border: 1px dotted black;border-radius: 0.25em;box-sizing: border-box;margin-bottom: 0.5em;}#sk-container-id-4 div.sk-estimator:hover {background-color: #d4ebff;}#sk-container-id-4 div.sk-parallel-item::after {content: \"\";width: 100%;border-bottom: 1px solid gray;flex-grow: 1;}#sk-container-id-4 div.sk-label:hover label.sk-toggleable__label {background-color: #d4ebff;}#sk-container-id-4 div.sk-serial::before {content: \"\";position: absolute;border-left: 1px solid gray;box-sizing: border-box;top: 0;bottom: 0;left: 50%;z-index: 0;}#sk-container-id-4 div.sk-serial {display: flex;flex-direction: column;align-items: center;background-color: white;padding-right: 0.2em;padding-left: 0.2em;position: relative;}#sk-container-id-4 div.sk-item {position: relative;z-index: 1;}#sk-container-id-4 div.sk-parallel {display: flex;align-items: stretch;justify-content: center;background-color: white;position: relative;}#sk-container-id-4 div.sk-item::before, #sk-container-id-4 div.sk-parallel-item::before {content: \"\";position: absolute;border-left: 1px solid gray;box-sizing: border-box;top: 0;bottom: 0;left: 50%;z-index: -1;}#sk-container-id-4 div.sk-parallel-item {display: flex;flex-direction: column;z-index: 1;position: relative;background-color: white;}#sk-container-id-4 div.sk-parallel-item:first-child::after {align-self: flex-end;width: 50%;}#sk-container-id-4 div.sk-parallel-item:last-child::after {align-self: flex-start;width: 50%;}#sk-container-id-4 div.sk-parallel-item:only-child::after {width: 0;}#sk-container-id-4 div.sk-dashed-wrapped {border: 1px dashed gray;margin: 0 0.4em 0.5em 0.4em;box-sizing: border-box;padding-bottom: 0.4em;background-color: white;}#sk-container-id-4 div.sk-label label {font-family: monospace;font-weight: bold;display: inline-block;line-height: 1.2em;}#sk-container-id-4 div.sk-label-container {text-align: center;}#sk-container-id-4 div.sk-container {/* jupyter's `normalize.less` sets `[hidden] { display: none; }` but bootstrap.min.css set `[hidden] { display: none !important; }` so we also need the `!important` here to be able to override the default hidden behavior on the sphinx rendered scikit-learn.org. See: https://github.com/scikit-learn/scikit-learn/issues/21755 */display: inline-block !important;position: relative;}#sk-container-id-4 div.sk-text-repr-fallback {display: none;}</style><div id=\"sk-container-id-4\" class=\"sk-top-container\"><div class=\"sk-text-repr-fallback\"><pre>LogisticRegression(C=10, max_iter=1000)</pre><b>In a Jupyter environment, please rerun this cell to show the HTML representation or trust the notebook. <br />On GitHub, the HTML representation is unable to render, please try loading this page with nbviewer.org.</b></div><div class=\"sk-container\" hidden><div class=\"sk-item\"><div class=\"sk-estimator sk-toggleable\"><input class=\"sk-toggleable__control sk-hidden--visually\" id=\"sk-estimator-id-4\" type=\"checkbox\" checked><label for=\"sk-estimator-id-4\" class=\"sk-toggleable__label sk-toggleable__label-arrow\">LogisticRegression</label><div class=\"sk-toggleable__content\"><pre>LogisticRegression(C=10, max_iter=1000)</pre></div></div></div></div></div>"
      ],
      "text/plain": [
       "LogisticRegression(C=10, max_iter=1000)"
      ]
     },
     "execution_count": 39,
     "metadata": {},
     "output_type": "execute_result"
    }
   ],
   "source": [
    "# 모델 선언 및 훈련\n",
    "System4_model = LogisticRegression(solver=\"lbfgs\", C=10, tol=1e-4, max_iter=1000)                  \n",
    "System4_model.fit(System4_train_x, System4_train_y)"
   ]
  },
  {
   "cell_type": "code",
   "execution_count": 40,
   "metadata": {},
   "outputs": [
    {
     "name": "stdout",
     "output_type": "stream",
     "text": [
      "Accuracy(정확도): 0.96\n",
      "Presicion(정밀도):  0.94\n",
      "Recall(재현율):  1.0\n",
      "F1_score:  0.97\n"
     ]
    }
   ],
   "source": [
    "# 예측값\n",
    "System4_pred = System4_model.predict(System4_test_x)\n",
    "\n",
    "# 다른 평가지표\n",
    "accuracy = System4_model.score(System4_test_x, System4_test_y)\n",
    "precision = precision_score(System4_test_y, System4_pred)\n",
    "recall = recall_score(System4_test_y, System4_pred)\n",
    "f1 = f1_score(System4_test_y, System4_pred)\n",
    "print(\"Accuracy(정확도):\", accuracy.round(2))\n",
    "print('Presicion(정밀도): ', precision.round(2))\n",
    "print('Recall(재현율): ', recall.round(2))\n",
    "print('F1_score: ', f1.round(2))"
   ]
  },
  {
   "cell_type": "code",
   "execution_count": 41,
   "metadata": {},
   "outputs": [
    {
     "data": {
      "image/png": "[encoded data removed]",
      "text/plain": [
       "<Figure size 1200x800 with 1 Axes>"
      ]
     },
     "metadata": {},
     "output_type": "display_data"
    }
   ],
   "source": [
    "# 확률\n",
    "System4_prob = System4_model.predict_proba(System4_test_x)\n",
    "\n",
    "# 시각화\n",
    "plt.figure(figsize=(12, 8))\n",
    "plt.plot(System4_test_y, label='label (state)')\n",
    "plt.plot(System4_prob[:,1], label='abnormal prob')\n",
    "plt.legend()\n",
    "plt.title('System4 model')\n",
    "plt.show()"
   ]
  },
  {
   "cell_type": "markdown",
   "metadata": {},
   "source": [
    "## Problem 2"
   ]
  },
  {
   "cell_type": "code",
   "execution_count": 42,
   "metadata": {},
   "outputs": [
    {
     "data": {
      "text/html": [
       "<div>\n",
       "<style scoped>\n",
       "    .dataframe tbody tr th:only-of-type {\n",
       "        vertical-align: middle;\n",
       "    }\n",
       "\n",
       "    .dataframe tbody tr th {\n",
       "        vertical-align: top;\n",
       "    }\n",
       "\n",
       "    .dataframe thead th {\n",
       "        text-align: right;\n",
       "    }\n",
       "</style>\n",
       "<table border=\"1\" class=\"dataframe\">\n",
       "  <thead>\n",
       "    <tr style=\"text-align: right;\">\n",
       "      <th></th>\n",
       "      <th>System1 prob</th>\n",
       "      <th>System2 prob</th>\n",
       "      <th>System3 prob</th>\n",
       "      <th>System4 prob</th>\n",
       "      <th>state</th>\n",
       "    </tr>\n",
       "  </thead>\n",
       "  <tbody>\n",
       "    <tr>\n",
       "      <th>0</th>\n",
       "      <td>0.855168</td>\n",
       "      <td>0.685391</td>\n",
       "      <td>0.999586</td>\n",
       "      <td>0.999636</td>\n",
       "      <td>1.0</td>\n",
       "    </tr>\n",
       "    <tr>\n",
       "      <th>1</th>\n",
       "      <td>0.855168</td>\n",
       "      <td>0.685391</td>\n",
       "      <td>0.999586</td>\n",
       "      <td>0.999635</td>\n",
       "      <td>1.0</td>\n",
       "    </tr>\n",
       "    <tr>\n",
       "      <th>2</th>\n",
       "      <td>0.855168</td>\n",
       "      <td>0.685391</td>\n",
       "      <td>0.999586</td>\n",
       "      <td>0.999635</td>\n",
       "      <td>1.0</td>\n",
       "    </tr>\n",
       "    <tr>\n",
       "      <th>3</th>\n",
       "      <td>0.855168</td>\n",
       "      <td>0.685391</td>\n",
       "      <td>0.999564</td>\n",
       "      <td>0.999616</td>\n",
       "      <td>1.0</td>\n",
       "    </tr>\n",
       "    <tr>\n",
       "      <th>4</th>\n",
       "      <td>0.855168</td>\n",
       "      <td>0.685391</td>\n",
       "      <td>0.999564</td>\n",
       "      <td>0.999616</td>\n",
       "      <td>1.0</td>\n",
       "    </tr>\n",
       "  </tbody>\n",
       "</table>\n",
       "</div>"
      ],
      "text/plain": [
       "   System1 prob  System2 prob  System3 prob  System4 prob  state\n",
       "0      0.855168      0.685391      0.999586      0.999636    1.0\n",
       "1      0.855168      0.685391      0.999586      0.999635    1.0\n",
       "2      0.855168      0.685391      0.999586      0.999635    1.0\n",
       "3      0.855168      0.685391      0.999564      0.999616    1.0\n",
       "4      0.855168      0.685391      0.999564      0.999616    1.0"
      ]
     },
     "execution_count": 42,
     "metadata": {},
     "output_type": "execute_result"
    }
   ],
   "source": [
    "engine_df = pd.DataFrame({'System1 prob': System1_prob[:,1],\n",
    "                          'System2 prob': System2_prob[:,1],\n",
    "                          'System3 prob': System3_prob[:,1],\n",
    "                          'System4 prob': System4_prob[:,1],\n",
    "                          'state': System4_test_y}) # test dataset의 label 가져옴 (모든 모델의 label동일하니 아무거나)\n",
    "engine_df.head()"
   ]
  },
  {
   "cell_type": "markdown",
   "metadata": {},
   "source": [
    "### Train & Test"
   ]
  },
  {
   "cell_type": "code",
   "execution_count": 43,
   "metadata": {},
   "outputs": [
    {
     "name": "stdout",
     "output_type": "stream",
     "text": [
      "train - (678981, 4) (678981,)\n",
      "test - (169746, 4) (169746,)\n"
     ]
    }
   ],
   "source": [
    "# trian & test 나누기\n",
    "x = engine_df.drop('state', axis=1)\n",
    "y = engine_df['state']\n",
    "\n",
    "x_train, x_test, y_train, y_test = train_test_split(x, y, test_size=0.2, shuffle=True)\n",
    "print(\"train -\", x_train.shape, y_train.shape)\n",
    "print(\"test -\", x_test.shape, y_test.shape)"
   ]
  },
  {
   "cell_type": "markdown",
   "metadata": {},
   "source": [
    "### Logistic Regression"
   ]
  },
  {
   "cell_type": "code",
   "execution_count": 44,
   "metadata": {},
   "outputs": [
    {
     "data": {
      "text/html": [
       "<style>#sk-container-id-5 {color: black;background-color: white;}#sk-container-id-5 pre{padding: 0;}#sk-container-id-5 div.sk-toggleable {background-color: white;}#sk-container-id-5 label.sk-toggleable__label {cursor: pointer;display: block;width: 100%;margin-bottom: 0;padding: 0.3em;box-sizing: border-box;text-align: center;}#sk-container-id-5 label.sk-toggleable__label-arrow:before {content: \"▸\";float: left;margin-right: 0.25em;color: #696969;}#sk-container-id-5 label.sk-toggleable__label-arrow:hover:before {color: black;}#sk-container-id-5 div.sk-estimator:hover label.sk-toggleable__label-arrow:before {color: black;}#sk-container-id-5 div.sk-toggleable__content {max-height: 0;max-width: 0;overflow: hidden;text-align: left;background-color: #f0f8ff;}#sk-container-id-5 div.sk-toggleable__content pre {margin: 0.2em;color: black;border-radius: 0.25em;background-color: #f0f8ff;}#sk-container-id-5 input.sk-toggleable__control:checked~div.sk-toggleable__content {max-height: 200px;max-width: 100%;overflow: auto;}#sk-container-id-5 input.sk-toggleable__control:checked~label.sk-toggleable__label-arrow:before {content: \"▾\";}#sk-container-id-5 div.sk-estimator input.sk-toggleable__control:checked~label.sk-toggleable__label {background-color: #d4ebff;}#sk-container-id-5 div.sk-label input.sk-toggleable__control:checked~label.sk-toggleable__label {background-color: #d4ebff;}#sk-container-id-5 input.sk-hidden--visually {border: 0;clip: rect(1px 1px 1px 1px);clip: rect(1px, 1px, 1px, 1px);height: 1px;margin: -1px;overflow: hidden;padding: 0;position: absolute;width: 1px;}#sk-container-id-5 div.sk-estimator {font-family: monospace;background-color: #f0f8ff;border: 1px dotted black;border-radius: 0.25em;box-sizing: border-box;margin-bottom: 0.5em;}#sk-container-id-5 div.sk-estimator:hover {background-color: #d4ebff;}#sk-container-id-5 div.sk-parallel-item::after {content: \"\";width: 100%;border-bottom: 1px solid gray;flex-grow: 1;}#sk-container-id-5 div.sk-label:hover label.sk-toggleable__label {background-color: #d4ebff;}#sk-container-id-5 div.sk-serial::before {content: \"\";position: absolute;border-left: 1px solid gray;box-sizing: border-box;top: 0;bottom: 0;left: 50%;z-index: 0;}#sk-container-id-5 div.sk-serial {display: flex;flex-direction: column;align-items: center;background-color: white;padding-right: 0.2em;padding-left: 0.2em;position: relative;}#sk-container-id-5 div.sk-item {position: relative;z-index: 1;}#sk-container-id-5 div.sk-parallel {display: flex;align-items: stretch;justify-content: center;background-color: white;position: relative;}#sk-container-id-5 div.sk-item::before, #sk-container-id-5 div.sk-parallel-item::before {content: \"\";position: absolute;border-left: 1px solid gray;box-sizing: border-box;top: 0;bottom: 0;left: 50%;z-index: -1;}#sk-container-id-5 div.sk-parallel-item {display: flex;flex-direction: column;z-index: 1;position: relative;background-color: white;}#sk-container-id-5 div.sk-parallel-item:first-child::after {align-self: flex-end;width: 50%;}#sk-container-id-5 div.sk-parallel-item:last-child::after {align-self: flex-start;width: 50%;}#sk-container-id-5 div.sk-parallel-item:only-child::after {width: 0;}#sk-container-id-5 div.sk-dashed-wrapped {border: 1px dashed gray;margin: 0 0.4em 0.5em 0.4em;box-sizing: border-box;padding-bottom: 0.4em;background-color: white;}#sk-container-id-5 div.sk-label label {font-family: monospace;font-weight: bold;display: inline-block;line-height: 1.2em;}#sk-container-id-5 div.sk-label-container {text-align: center;}#sk-container-id-5 div.sk-container {/* jupyter's `normalize.less` sets `[hidden] { display: none; }` but bootstrap.min.css set `[hidden] { display: none !important; }` so we also need the `!important` here to be able to override the default hidden behavior on the sphinx rendered scikit-learn.org. See: https://github.com/scikit-learn/scikit-learn/issues/21755 */display: inline-block !important;position: relative;}#sk-container-id-5 div.sk-text-repr-fallback {display: none;}</style><div id=\"sk-container-id-5\" class=\"sk-top-container\"><div class=\"sk-text-repr-fallback\"><pre>LogisticRegression(C=10, max_iter=1000)</pre><b>In a Jupyter environment, please rerun this cell to show the HTML representation or trust the notebook. <br />On GitHub, the HTML representation is unable to render, please try loading this page with nbviewer.org.</b></div><div class=\"sk-container\" hidden><div class=\"sk-item\"><div class=\"sk-estimator sk-toggleable\"><input class=\"sk-toggleable__control sk-hidden--visually\" id=\"sk-estimator-id-5\" type=\"checkbox\" checked><label for=\"sk-estimator-id-5\" class=\"sk-toggleable__label sk-toggleable__label-arrow\">LogisticRegression</label><div class=\"sk-toggleable__content\"><pre>LogisticRegression(C=10, max_iter=1000)</pre></div></div></div></div></div>"
      ],
      "text/plain": [
       "LogisticRegression(C=10, max_iter=1000)"
      ]
     },
     "execution_count": 44,
     "metadata": {},
     "output_type": "execute_result"
    }
   ],
   "source": [
    "# 모델 선언 및 훈련\n",
    "engine_model = LogisticRegression(solver=\"lbfgs\", C=10, tol=1e-4, max_iter=1000)\n",
    "\n",
    "# 훈련                               \n",
    "engine_model.fit(x_train, y_train)"
   ]
  },
  {
   "cell_type": "code",
   "execution_count": 45,
   "metadata": {},
   "outputs": [
    {
     "name": "stdout",
     "output_type": "stream",
     "text": [
      "Accuracy(정확도): 0.96\n",
      "Presicion(정밀도):  0.94\n",
      "Recall(재현율):  1.0\n",
      "F1_score:  0.97\n"
     ]
    }
   ],
   "source": [
    "# 예측값\n",
    "engine_pred = engine_model.predict(x_test)\n",
    "\n",
    "# 다른 평가지표\n",
    "precision = precision_score(y_test, engine_pred)\n",
    "recall = recall_score(y_test, engine_pred)\n",
    "f1 = f1_score(y_test, engine_pred)\n",
    "accuracy = engine_model.score(x_test, y_test)\n",
    "print(\"Accuracy(정확도):\", accuracy.round(2))\n",
    "print('Presicion(정밀도): ', precision.round(2))\n",
    "print('Recall(재현율): ', recall.round(2))\n",
    "print('F1_score: ', f1.round(2))"
   ]
  },
  {
   "cell_type": "markdown",
   "metadata": {},
   "source": [
    "### SHAP"
   ]
  },
  {
   "cell_type": "code",
   "execution_count": 46,
   "metadata": {},
   "outputs": [
    {
     "data": {
      "image/png": "[encoded data removed]",
      "text/plain": [
       "<Figure size 800x310 with 1 Axes>"
      ]
     },
     "metadata": {},
     "output_type": "display_data"
    }
   ],
   "source": [
    "explainer = shap.Explainer(engine_model, x_train, feature_names=x_train.columns)\n",
    "shap_values = explainer(x_test)\n",
    "shap.summary_plot(shap_values, x_train, plot_type='bar')"
   ]
  }
 ],
 "metadata": {
  "kernelspec": {
   "display_name": "Python 3",
   "language": "python",
   "name": "python3"
  },
  "language_info": {
   "codemirror_mode": {
    "name": "ipython",
    "version": 3
   },
   "file_extension": ".py",
   "mimetype": "text/x-python",
   "name": "python",
   "nbconvert_exporter": "python",
   "pygments_lexer": "ipython3",
   "version": "3.10.8"
  },
  "orig_nbformat": 4
 },
 "nbformat": 4,
 "nbformat_minor": 2
}
